{
 "cells": [
  {
   "cell_type": "markdown",
   "id": "1339d7cd",
   "metadata": {},
   "source": [
    "## 历史学python"
   ]
  },
  {
   "cell_type": "code",
   "execution_count": 2,
   "id": "c34f6a6c",
   "metadata": {},
   "outputs": [
    {
     "data": {
      "text/plain": [
       "'11'"
      ]
     },
     "execution_count": 2,
     "metadata": {},
     "output_type": "execute_result"
    }
   ],
   "source": [
    "'1' + '1'"
   ]
  },
  {
   "cell_type": "code",
   "execution_count": 3,
   "id": "1f941930",
   "metadata": {},
   "outputs": [
    {
     "name": "stdout",
     "output_type": "stream",
     "text": [
      "4和1中最小的是1\n"
     ]
    }
   ],
   "source": [
    "def min(a, b):\n",
    "    if a < b:\n",
    "        return a\n",
    "    else:\n",
    "        return b\n",
    "a = 4\n",
    "b = 1\n",
    "m = min(a,b)\n",
    "print(\"{}和{}中最小的是{}\".format(a, b, m))"
   ]
  },
  {
   "cell_type": "code",
   "execution_count": 4,
   "id": "70514d45",
   "metadata": {},
   "outputs": [
    {
     "data": {
      "text/plain": [
       "2"
      ]
     },
     "execution_count": 4,
     "metadata": {},
     "output_type": "execute_result"
    }
   ],
   "source": [
    "1 + 1"
   ]
  },
  {
   "cell_type": "code",
   "execution_count": 18,
   "id": "a68b798a",
   "metadata": {},
   "outputs": [
    {
     "name": "stderr",
     "output_type": "stream",
     "text": [
      "Processing : 100%|███████████████████████████████████████████████████████████████████████| 8/8 [00:02<00:00,  3.82it/s]\n"
     ]
    }
   ],
   "source": [
    "from docx import Document\n",
    "from tqdm import tqdm\n",
    "import time\n",
    "doc1 = Document('首批国家级一流本科课程名单.docx')\n",
    "\n",
    "p1 = [ paragraph.text for paragraph in doc1.paragraphs ]\n",
    "n = tqdm(p1)\n",
    "for i in n:\n",
    "    time.sleep(0.25)\n",
    "    n.set_description(\"Processing %s\" % i)\n",
    "#     print(i)\n"
   ]
  },
  {
   "cell_type": "code",
   "execution_count": null,
   "id": "1b40e606",
   "metadata": {},
   "outputs": [],
   "source": []
  }
 ],
 "metadata": {
  "kernelspec": {
   "display_name": "Python 3 (ipykernel)",
   "language": "python",
   "name": "python3"
  },
  "language_info": {
   "codemirror_mode": {
    "name": "ipython",
    "version": 3
   },
   "file_extension": ".py",
   "mimetype": "text/x-python",
   "name": "python",
   "nbconvert_exporter": "python",
   "pygments_lexer": "ipython3",
   "version": "3.9.12"
  }
 },
 "nbformat": 4,
 "nbformat_minor": 5
}
