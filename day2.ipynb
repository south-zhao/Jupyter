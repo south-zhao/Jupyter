{
 "cells": [
  {
   "cell_type": "markdown",
   "id": "3f5a63c6",
   "metadata": {},
   "source": [
    "## 正则表达式"
   ]
  },
  {
   "cell_type": "code",
   "execution_count": 2,
   "id": "a1277437",
   "metadata": {},
   "outputs": [],
   "source": [
    "import re\n",
    "\n",
    "str = '我是 文字'"
   ]
  },
  {
   "cell_type": "markdown",
   "id": "ce74eeac",
   "metadata": {},
   "source": [
    "## re.match()"
   ]
  },
  {
   "cell_type": "code",
   "execution_count": 7,
   "id": "6365349a",
   "metadata": {},
   "outputs": [
    {
     "name": "stdout",
     "output_type": "stream",
     "text": [
      "<re.Match object; span=(0, 43), match='Hello 123 456789 World_This is a Regex Demo'>\n",
      "Hello 123 456789 World_This is a Regex Demo\n",
      "(0, 43)\n",
      "43\n"
     ]
    }
   ],
   "source": [
    "# 常规匹配\n",
    "content = 'Hello 123 456789 World_This is a Regex Demo'\n",
    "\n",
    "res = re.match('^Hello\\s\\d\\d\\d\\s\\d{6}\\s\\w{10}.*Demo$', content)\n",
    "\n",
    "print(res)\n",
    "print(res.group())\n",
    "print(res.span())\n",
    "print(len(content))"
   ]
  },
  {
   "cell_type": "markdown",
   "id": "c67d1de7",
   "metadata": {},
   "source": [
    "### 泛匹配"
   ]
  },
  {
   "cell_type": "code",
   "execution_count": 10,
   "id": "4d40d39a",
   "metadata": {},
   "outputs": [
    {
     "name": "stdout",
     "output_type": "stream",
     "text": [
      "Hello 123 456789 World_This is a Regex\n",
      "(0, 38)\n"
     ]
    }
   ],
   "source": [
    "content = 'Hello 123 456789 World_This is a Regex Demo'\n",
    "\n",
    "res = re.match('.*?Regex', content)\n",
    "\n",
    "print(res.group())\n",
    "print(res.span())"
   ]
  },
  {
   "cell_type": "code",
   "execution_count": 25,
   "id": "df41d336",
   "metadata": {},
   "outputs": [
    {
     "name": "stdout",
     "output_type": "stream",
     "text": [
      "/1.mp3 水木兄弟 一路有你\n",
      "/2.mp3 任贤齐 沧海一声笑\n",
      "/3.mp3 齐秦 往事随风\n",
      "/4.mp3 beyond 光辉岁月\n",
      "/5.mp3 陈慧琳 记事本\n",
      "/6.mp3 邓丽君 但愿人长久\n"
     ]
    }
   ],
   "source": [
    "html = '''<div id=\"songs-list\">\n",
    "    <h2 class=\"title\">经典老歌</h2>\n",
    "    <p class=\"introduction\">\n",
    "        经典老歌列表\n",
    "    </p>\n",
    "    <ul id=\"list\" class=\"list-group\">\n",
    "        <li data-view=\"1\">\n",
    "            <a href=\"/1.mp3\" singer=\"水木兄弟\">一路有你</a>\n",
    "        </li>\n",
    "        <li data-view=\"7\">\n",
    "            <a href=\"/2.mp3\" singer=\"任贤齐\">沧海一声笑</a>\n",
    "        </li>\n",
    "\n",
    "        <li data-view=\"4\" class=\"active\">\n",
    "            <a href=\"/3.mp3\" singer=\"齐秦\">往事随风</a>\n",
    "        </li>\n",
    "        \n",
    "        <li data-view=\"6\"><a href=\"/4.mp3\" singer=\"beyond\">光辉岁月</a></li>\n",
    "        \n",
    "        <li data-view=\"5\"  class='active'><a href=\"/5.mp3\" singer=\"陈慧琳\">记事本</a></li>\n",
    "        \n",
    "        <li data-view=\"5\">\n",
    "            <a href=\"/6.mp3\" singer=\"邓丽君\">但愿人长久</a>\n",
    "        </li>\n",
    "    </ul>\n",
    "</div>'''\n",
    "\n",
    "\n",
    "# res = re.search('<a\\shref=\"/3.mp3\"\\ssinger=\"(.*?)\">(.*?)</a>', html)\n",
    "# res = re.search('<a.*?singer=\"(.*?)\">(.*?)</a>', html)\n",
    "# print(res.group(1))\n",
    "# print(res.group(2))\n",
    "\n",
    "res = re.findall('<a\\shref=\"(.*?)\"\\ssinger=\"(.*?)\">(.*?)</a>', html)\n",
    "\n",
    "# print(res)\n",
    "for url,name,song in res:\n",
    "    print(url, name, song)\n"
   ]
  },
  {
   "cell_type": "markdown",
   "id": "2b71825e",
   "metadata": {},
   "source": [
    "### re.sub()\n",
    "替换每一个匹配的字符"
   ]
  },
  {
   "cell_type": "code",
   "execution_count": null,
   "id": "b5e58a62",
   "metadata": {},
   "outputs": [],
   "source": []
  }
 ],
 "metadata": {
  "kernelspec": {
   "display_name": "Python 3 (ipykernel)",
   "language": "python",
   "name": "python3"
  },
  "language_info": {
   "codemirror_mode": {
    "name": "ipython",
    "version": 3
   },
   "file_extension": ".py",
   "mimetype": "text/x-python",
   "name": "python",
   "nbconvert_exporter": "python",
   "pygments_lexer": "ipython3",
   "version": "3.9.12"
  }
 },
 "nbformat": 4,
 "nbformat_minor": 5
}
