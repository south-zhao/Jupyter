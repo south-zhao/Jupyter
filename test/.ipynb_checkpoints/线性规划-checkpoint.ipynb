{
 "cells": [
  {
   "cell_type": "code",
   "execution_count": 1,
   "id": "93b24127",
   "metadata": {},
   "outputs": [
    {
     "data": {
      "text/plain": [
       "        message: Optimization terminated successfully. (HiGHS Status 7: Optimal)\n",
       "        success: True\n",
       "         status: 0\n",
       "            fun: -14.571428571428571\n",
       "              x: [ 6.429e+00  5.714e-01  0.000e+00]\n",
       "            nit: 3\n",
       "          lower:  residual: [ 6.429e+00  5.714e-01  0.000e+00]\n",
       "                 marginals: [ 0.000e+00  0.000e+00  7.143e+00]\n",
       "          upper:  residual: [       inf        inf        inf]\n",
       "                 marginals: [ 0.000e+00  0.000e+00  0.000e+00]\n",
       "          eqlin:  residual: [ 0.000e+00]\n",
       "                 marginals: [-2.286e+00]\n",
       "        ineqlin:  residual: [ 0.000e+00  3.857e+00]\n",
       "                 marginals: [-1.429e-01 -0.000e+00]\n",
       " mip_node_count: 0\n",
       " mip_dual_bound: 0.0\n",
       "        mip_gap: 0.0"
      ]
     },
     "execution_count": 1,
     "metadata": {},
     "output_type": "execute_result"
    }
   ],
   "source": [
    "from scipy import optimize\n",
    "import numpy as np\n",
    "np.set_printoptions(suppress=True)\n",
    "c = np.array([2,3,-5]) # 2x+3y-5z\n",
    "A = np.array([[-2,5,-1],[1,3,1]]) #-2x+5y-z<=-10   x+3y+z<=12\n",
    "B = np.array([-10,12])\n",
    "Aeq = np.array([[1,1,1]]) # x+y+z=7\n",
    "Beq = np.array([7])\n",
    "res = optimize.linprog(-c,A,B,Aeq,Beq)\n",
    "res"
   ]
  },
  {
   "cell_type": "code",
   "execution_count": 4,
   "id": "e183afff",
   "metadata": {},
   "outputs": [
    {
     "name": "stdout",
     "output_type": "stream",
     "text": [
      "NoName:\n",
      "MAXIMIZE\n",
      "2*x1 + 3*x2 + 1*x3 + 0\n",
      "VARIABLES\n",
      "x1 Continuous\n",
      "x2 Continuous\n",
      "x3 Continuous\n",
      "\n",
      "========\n",
      "NoName:\n",
      "MAXIMIZE\n",
      "2*x1 + 3*x2 + 1*x3 + 0\n",
      "SUBJECT TO\n",
      "_C1: x1 + 4 x2 + 2 x3 >= 8\n",
      "\n",
      "VARIABLES\n",
      "x1 Continuous\n",
      "x2 Continuous\n",
      "x3 Continuous\n",
      "\n",
      "NoName:\n",
      "MAXIMIZE\n",
      "2*x1 + 3*x2 + 1*x3 + 0\n",
      "SUBJECT TO\n",
      "_C1: x1 + 4 x2 + 2 x3 >= 8\n",
      "\n",
      "_C2: 3 x1 + 2 x2 >= 6\n",
      "\n",
      "VARIABLES\n",
      "x1 Continuous\n",
      "x2 Continuous\n",
      "x3 Continuous\n",
      "\n",
      "========\n",
      "NoName:\n",
      "MAXIMIZE\n",
      "2*x1 + 3*x2 + 1*x3 + 0\n",
      "SUBJECT TO\n",
      "_C1: x1 + 4 x2 + 2 x3 >= 8\n",
      "\n",
      "_C2: 3 x1 + 2 x2 >= 6\n",
      "\n",
      "_C3: x1 + 2 x2 + 4 x3 = 101\n",
      "\n",
      "VARIABLES\n",
      "x1 Continuous\n",
      "x2 Continuous\n",
      "x3 Continuous\n",
      "\n",
      "优化结果：202.0\n",
      "参数取值：[101.0, 0.0, 0.0]\n"
     ]
    }
   ],
   "source": [
    "import pulp as pp\n",
    "\n",
    "# 目标函数的系数\n",
    "z = [2, 3, 1]\n",
    "a = [[1, 4, 2], [3, 2, 0]]\n",
    "b = [8,6]\n",
    "aeq = [[1,2,4]]\n",
    "beq = [101]\n",
    "\n",
    "# 确定最大最小化问题，当前确定的是最大化问题\n",
    "m = pp.LpProblem(sense=pp.LpMaximize)\n",
    "\n",
    "# 定义三个变量放到列表中\n",
    "x = [pp.LpVariable(f'x{i}', lowBound=0) for i in [1, 2, 3]]\n",
    "\n",
    "# 定义目标函数，并将目标函数加入求解的问题中\n",
    "m += pp.lpDot(z, x) # lpDot 用于计算点积\n",
    "print(m)\n",
    "print(\"========\")\n",
    "# 设置比较条件\n",
    "for i in range(len(a)):\n",
    "    m += (pp.lpDot(a[i], x) >= b[i])\n",
    "    print(m)\n",
    "print(\"========\")\n",
    "# 设置相等条件\n",
    "for i in range(len(aeq)):\n",
    "    m += (pp.lpDot(aeq[i], x) == beq[i])\n",
    "    print(m)\n",
    "    \n",
    "# 求解\n",
    "m.solve()\n",
    "# 输出结果\n",
    "print(f'优化结果：{pp.value(m.objective)}')\n",
    "print(f'参数取值：{[pp.value(var) for var in x]}')\n"
   ]
  },
  {
   "cell_type": "code",
   "execution_count": null,
   "id": "33a92a82",
   "metadata": {},
   "outputs": [],
   "source": []
  }
 ],
 "metadata": {
  "kernelspec": {
   "display_name": "Python 3 (ipykernel)",
   "language": "python",
   "name": "python3"
  },
  "language_info": {
   "codemirror_mode": {
    "name": "ipython",
    "version": 3
   },
   "file_extension": ".py",
   "mimetype": "text/x-python",
   "name": "python",
   "nbconvert_exporter": "python",
   "pygments_lexer": "ipython3",
   "version": "3.10.11"
  }
 },
 "nbformat": 4,
 "nbformat_minor": 5
}
