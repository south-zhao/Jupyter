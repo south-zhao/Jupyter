{
 "cells": [
  {
   "cell_type": "code",
   "execution_count": 3,
   "id": "initial_id",
   "metadata": {
    "collapsed": true,
    "ExecuteTime": {
     "end_time": "2023-08-22T09:10:14.004159700Z",
     "start_time": "2023-08-22T09:10:13.588790600Z"
    }
   },
   "outputs": [],
   "source": [
    "import pandas as pd"
   ]
  },
  {
   "cell_type": "code",
   "execution_count": 32,
   "outputs": [],
   "source": [
    "class Bag:\n",
    "    def __init__(self):\n",
    "        self.length = 0\n",
    "        self.width = 0\n",
    "        self.height = 0\n",
    "        self.num = 0\n",
    "        self.dict1 = {\n",
    "            \"kind\": [],\n",
    "            \"num\": []\n",
    "        }\n",
    "        \n",
    "    def give(self, data):\n",
    "        self.length = int(data[\"l（长）\"])\n",
    "        self.width = int(data[\"w（宽）\"])\n",
    "        self.height = int(data[\"h（高）\"])\n",
    "        self.num = int(data[\"num（数量）\"])\n",
    "        \n",
    "    def compare(self, data1):\n",
    "        n = 0\n",
    "        for i in data1:\n",
    "            n += 1\n",
    "            length = int(i[2])\n",
    "            width = int(i[3])\n",
    "            height = int(i[4])\n",
    "            if self.length <= length and self.width <= width and self.height <= height:\n",
    "                num1 = int(length / self.length)\n",
    "                num2 = int(width / self.width)\n",
    "                num3 = int(height / self.height)\n",
    "                a = min(num1, num2, num3)\n",
    "                num = int(self.num / a) + 1\n",
    "                if a == 1:\n",
    "                    num -= 1\n",
    "                self.dict1[\"num\"].append(num)\n",
    "                self.dict1[\"kind\"].append(n)\n",
    "                \n",
    "        print(self.dict1)\n",
    "                \n",
    "            "
   ],
   "metadata": {
    "collapsed": false,
    "ExecuteTime": {
     "end_time": "2023-08-22T09:33:39.144470700Z",
     "start_time": "2023-08-22T09:33:39.129352800Z"
    }
   },
   "id": "25ba9bc4a5cadddc"
  },
  {
   "cell_type": "code",
   "execution_count": 33,
   "outputs": [
    {
     "name": "stdout",
     "output_type": "stream",
     "text": [
      "{'kind': [6, 7, 8, 9], 'num': [7, 7, 7, 7]}\n"
     ]
    }
   ],
   "source": [
    "df1 = pd.read_excel(\"附件1-装箱数据.xlsx\", sheet_name=\"订单数据\")\n",
    "df2 = pd.read_excel(\"附件1-装箱数据.xlsx\", sheet_name=\"耗材数据\")\n",
    "bag = Bag()\n",
    "bag.give(df1.iloc[0])\n",
    "bag.compare(df2.values)"
   ],
   "metadata": {
    "collapsed": false,
    "ExecuteTime": {
     "end_time": "2023-08-22T09:33:42.104551Z",
     "start_time": "2023-08-22T09:33:41.414250100Z"
    }
   },
   "id": "7f7ea3287c3efefc"
  }
 ],
 "metadata": {
  "kernelspec": {
   "display_name": "Python 3",
   "language": "python",
   "name": "python3"
  },
  "language_info": {
   "codemirror_mode": {
    "name": "ipython",
    "version": 2
   },
   "file_extension": ".py",
   "mimetype": "text/x-python",
   "name": "python",
   "nbconvert_exporter": "python",
   "pygments_lexer": "ipython2",
   "version": "2.7.6"
  }
 },
 "nbformat": 4,
 "nbformat_minor": 5
}
