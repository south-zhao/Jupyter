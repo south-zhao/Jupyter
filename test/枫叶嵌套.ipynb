{
 "cells": [
  {
   "cell_type": "code",
   "execution_count": 8,
   "id": "ad00b31c",
   "metadata": {},
   "outputs": [
    {
     "name": "stdout",
     "output_type": "stream",
     "text": [
      "旋转角度为0.45226130653266333, 正方形的边长为285.72714256787015\n"
     ]
    }
   ],
   "source": [
    "import cv2 \n",
    "import numpy as np\n",
    "import math\n",
    "# 将图片文件命名为fy.jpg,与程序放在同一目录下\n",
    "img = cv2.imread('1.jpg')\n",
    "rows, cols, chnl= img.shape\n",
    "x1 = np.linspace(0,90,200)\n",
    "data1 = []\n",
    "for jiao in x1:\n",
    "    #旋转参数：旋转中心，旋转角度，scale\n",
    "    M = cv2.getRotationMatrix2D((cols/2, rows/2), jiao, 1)\n",
    "    #参数：原始图像，旋转参数，元素图像宽高\n",
    "    rotated = cv2.warpAffine(img, M, (cols, rows))\n",
    "\n",
    "    grayimg = cv2.cvtColor(rotated, cv2.COLOR_BGR2GRAY)\n",
    "\n",
    "    # 二值化\n",
    "    ret, binary_img = cv2.threshold(grayimg, 240, 255, cv2.THRESH_BINARY)\n",
    "    contours, _ = cv2.findContours(binary_img,cv2.RETR_TREE,cv2.CHAIN_APPROX_SIMPLE)\n",
    "    for cont in contours:\n",
    "        # 对每个轮廓点求最小外接矩形\n",
    "        rect = cv2.minAreaRect(cont)\n",
    "        # cv2.boxPoints可以将轮廓点转换为四个角点坐标\n",
    "        box = cv2.boxPoints(rect)\n",
    "        # 这一步不影响后面的画图，但是可以保证四个角点坐标为顺时针\n",
    "        startidx = box.sum(axis=1).argmin()\n",
    "        box = np.roll(box,4-startidx,0)\n",
    "        # 在原图上画出预测的外接矩形\n",
    "        box = box.reshape((-1,1,2)).astype(np.int32)\n",
    "        cv2.polylines(grayimg,[box],True,(0,255,0),1)\n",
    "        data = []\n",
    "        for i in box:\n",
    "            data.append(list(i[0]))\n",
    "        data.sort()\n",
    "        op1=math.pow(data[0][0]-data[1][0], 2) + math.pow(data[0][1]-data[1][1], 2)\n",
    "        op2=math.pow(data[0][0]-data[2][0], 2) + math.pow(data[0][1]-data[2][1], 2)\n",
    "        data = []\n",
    "        if op1 > 10 and op1 != 98596 and jiao != 0:\n",
    "            data1.append([jiao, abs((op1/op2)-1), op1, op2])\n",
    "data1.sort()\n",
    "# 正方形的边长\n",
    "length = float(math.sqrt(data1[2][2]))\n",
    "print(f\"旋转角度为{data1[0][0]}, 正方形的边长为{length}\")"
   ]
  },
  {
   "cell_type": "code",
   "execution_count": 15,
   "id": "764902cb",
   "metadata": {},
   "outputs": [
    {
     "data": {
      "text/plain": [
       "98596"
      ]
     },
     "execution_count": 15,
     "metadata": {},
     "output_type": "execute_result"
    }
   ],
   "source": [
    "# 边缘提取\n",
    "# xgrd = cv2.Sobel(binary_img,cv2.CV_16SC1,1,0)\n",
    "# ygrd = cv2.Sobel(binary_img,cv2.CV_16SC1,0,1)\n",
    "\n",
    "# egde_output = cv2.Canny(xgrd,ygrd,50,150)\n",
    "# cv2.imshow('canny_edge',egde_output)\n",
    "# cv2.waitKey(0)\n",
    "# cv2.imwrite('gray.jpg', egde_output)\n",
    "# cv2.destroyAllWindows()\n",
    "# plt.imshow(egde_output, cmap=\"gray\")\n",
    "# plt.savefig()\n",
    "314*314"
   ]
  },
  {
   "cell_type": "code",
   "execution_count": 40,
   "id": "8815eb9b",
   "metadata": {},
   "outputs": [],
   "source": [
    "# Canny边缘特征提取\n",
    "# blurred = cv2.GaussianBlur(img,(11,11),0)\n",
    "# gaussImg = cv2.Canny(blurred, 10, 70)\n",
    "# plt.imshow(gaussImg, cmap='gray')\n",
    "# cv2.imshow(\"Img\",gaussImg)\n",
    "# cv2.waitKey(0)\n",
    "# for i in gaussImg:\n",
    "#     print(i)\n",
    "# print(len(gaussImg))"
   ]
  },
  {
   "cell_type": "code",
   "execution_count": 7,
   "id": "79b334e7",
   "metadata": {},
   "outputs": [
    {
     "name": "stdout",
     "output_type": "stream",
     "text": [
      "[[[  0   0]]\n",
      "\n",
      " [[341   0]]\n",
      "\n",
      " [[341 313]]\n",
      "\n",
      " [[  0 313]]]\n",
      "[[[-24 113]]\n",
      "\n",
      " [[189 -36]]\n",
      "\n",
      " [[354 198]]\n",
      "\n",
      " [[140 348]]]\n"
     ]
    }
   ],
   "source": [
    "img = cv2.imread('1.jpg')\n",
    "rows, cols, chnl= img.shape\n",
    "#旋转参数：旋转中心，旋转角度，scale\n",
    "M = cv2.getRotationMatrix2D((cols/2, rows/2), 60, 1)\n",
    "#参数：原始图像，旋转参数，元素图像宽高\n",
    "rotated = cv2.warpAffine(img, M, (cols, rows))\n",
    "grayimg = cv2.cvtColor(rotated, cv2.COLOR_BGR2GRAY)\n",
    "ret, binary_img = cv2.threshold(grayimg, 240, 255, cv2.THRESH_BINARY)\n",
    "contours, _ = cv2.findContours(binary_img,cv2.RETR_TREE,cv2.CHAIN_APPROX_SIMPLE)\n",
    "for cont in contours:\n",
    "    # 对每个轮廓点求最小外接矩形\n",
    "    rect = cv2.minAreaRect(cont)\n",
    "#         cv2.boxPoints可以将轮廓点转换为四个角点坐标\n",
    "    box = cv2.boxPoints(rect)\n",
    "#         这一步不影响后面的画图，但是可以保证四个角点坐标为顺时针\n",
    "    startidx = box.sum(axis=1).argmin()\n",
    "    box = np.roll(box,4-startidx,0)\n",
    "#         在原图上画出预测的外接矩形\n",
    "    box = box.reshape((-1,1,2)).astype(np.int32)\n",
    "    cv2.polylines(grayimg,[box],True,(0,255,0),1)\n",
    "    data = []\n",
    "    for i in box:\n",
    "        data.append(list(i[0]))\n",
    "    data.sort()\n",
    "    print(box)"
   ]
  },
  {
   "cell_type": "code",
   "execution_count": 1,
   "id": "7f84c704",
   "metadata": {
    "scrolled": true
   },
   "outputs": [
    {
     "ename": "ModuleNotFoundError",
     "evalue": "No module named 'skimage'",
     "output_type": "error",
     "traceback": [
      "\u001b[1;31m---------------------------------------------------------------------------\u001b[0m",
      "\u001b[1;31mModuleNotFoundError\u001b[0m                       Traceback (most recent call last)",
      "Cell \u001b[1;32mIn[1], line 4\u001b[0m\n\u001b[0;32m      2\u001b[0m \u001b[38;5;28;01mimport\u001b[39;00m \u001b[38;5;21;01mnumpy\u001b[39;00m \u001b[38;5;28;01mas\u001b[39;00m \u001b[38;5;21;01mnp\u001b[39;00m\n\u001b[0;32m      3\u001b[0m \u001b[38;5;28;01mimport\u001b[39;00m \u001b[38;5;21;01mmatplotlib\u001b[39;00m\u001b[38;5;21;01m.\u001b[39;00m\u001b[38;5;21;01mpyplot\u001b[39;00m \u001b[38;5;28;01mas\u001b[39;00m \u001b[38;5;21;01mplt\u001b[39;00m\n\u001b[1;32m----> 4\u001b[0m \u001b[38;5;28;01mfrom\u001b[39;00m \u001b[38;5;21;01mskimage\u001b[39;00m \u001b[38;5;28;01mimport\u001b[39;00m io, transform, measure\n\u001b[0;32m      5\u001b[0m \u001b[38;5;28;01mfrom\u001b[39;00m \u001b[38;5;21;01mscipy\u001b[39;00m\u001b[38;5;21;01m.\u001b[39;00m\u001b[38;5;21;01mspatial\u001b[39;00m \u001b[38;5;28;01mimport\u001b[39;00m ConvexHull\n\u001b[0;32m      7\u001b[0m \u001b[38;5;66;03m# 读取枫叶图像，并转换为灰度图像\u001b[39;00m\n",
      "\u001b[1;31mModuleNotFoundError\u001b[0m: No module named 'skimage'"
     ]
    }
   ],
   "source": [
    "# 导入必要的库\n",
    "import numpy as np\n",
    "import matplotlib.pyplot as plt\n",
    "from skimage import io, transform, measure\n",
    "from scipy.spatial import ConvexHull\n",
    "\n",
    "# 读取枫叶图像，并转换为灰度图像\n",
    "img = io.imread('fy.jpg')\n",
    "gray = transform.rgb2gray(img)\n",
    "\n",
    "# 找到枫叶的轮廓\n",
    "contours = measure.find_contours(gray, 0.5)\n",
    "max_contour = max(contours, key=len)\n",
    "\n",
    "# 计算枫叶的凸包\n",
    "hull = ConvexHull(max_contour)\n",
    "hull_points = max_contour[hull.vertices]\n",
    "\n",
    "# 计算枫叶的最小外接矩形\n",
    "rect = measure.min_area_rect(hull_points)\n",
    "rect_points = np.array(rect[1])\n",
    "\n",
    "# 计算使得长边和短边相等的旋转角度\n",
    "rect_angle = rect[2]\n",
    "square_angle = rect_angle - np.arctan(rect[0][1] / rect[0][0])\n",
    "\n",
    "# 计算此时该外接正方形的边长\n",
    "square_side = np.sqrt(rect[0][0] ** 2 + rect[0][1] ** 2)\n",
    "\n",
    "# 打印结果\n",
    "print(f'从枫叶当前状态旋转最小角度为{np.rad2deg(square_angle):.2f}°')\n",
    "print(f'此时该外接正方形的边长为{square_side:.2f}像素')\n",
    "\n",
    "# 绘制枫叶、凸包和最小外接矩形\n",
    "plt.plot(max_contour[:, 1], max_contour[:, 0], linewidth=2, label='Leaf contour')\n",
    "plt.plot(hull_points[:, 1], hull_points[:, 0], 'r--', linewidth=2, label='Convex hull')\n",
    "plt.plot(rect_points[:, 0], rect_points[:, 1], 'g-', linewidth=2, label='Minimum area rectangle')\n",
    "plt.axis('equal')\n",
    "plt.legend()\n",
    "plt.title('Leaf, convex hull and minimum area rectangle')\n",
    "plt.show()"
   ]
  },
  {
   "cell_type": "code",
   "execution_count": null,
   "id": "59f3fdee",
   "metadata": {},
   "outputs": [],
   "source": []
  }
 ],
 "metadata": {
  "kernelspec": {
   "display_name": "Python 3 (ipykernel)",
   "language": "python",
   "name": "python3"
  },
  "language_info": {
   "codemirror_mode": {
    "name": "ipython",
    "version": 3
   },
   "file_extension": ".py",
   "mimetype": "text/x-python",
   "name": "python",
   "nbconvert_exporter": "python",
   "pygments_lexer": "ipython3",
   "version": "3.10.11"
  }
 },
 "nbformat": 4,
 "nbformat_minor": 5
}
