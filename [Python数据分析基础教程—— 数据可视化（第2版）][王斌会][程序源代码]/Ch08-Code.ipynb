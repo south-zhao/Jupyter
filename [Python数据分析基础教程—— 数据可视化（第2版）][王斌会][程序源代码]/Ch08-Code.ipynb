{
 "cells": [
  {
   "cell_type": "markdown",
   "metadata": {},
   "source": [
    "# 《数据可视化》 　—— 　基于Python的应用"
   ]
  },
  {
   "cell_type": "markdown",
   "metadata": {},
   "source": [
    "## 第1章  数据分析软件简介"
   ]
  },
  {
   "cell_type": "markdown",
   "metadata": {},
   "source": [
    "## 第2章  数据的收集与整理"
   ]
  },
  {
   "cell_type": "markdown",
   "metadata": {},
   "source": [
    "## 第3章  Python编程基础"
   ]
  },
  {
   "cell_type": "markdown",
   "metadata": {},
   "source": [
    "## 第4章  数据的探索分析"
   ]
  },
  {
   "cell_type": "markdown",
   "metadata": {},
   "source": [
    "## 第5章  数据的直观分析"
   ]
  },
  {
   "cell_type": "markdown",
   "metadata": {},
   "source": [
    "## 第6章  数据的统计分析"
   ]
  },
  {
   "cell_type": "markdown",
   "metadata": {},
   "source": [
    "## 第7章  数据的模型分析"
   ]
  },
  {
   "cell_type": "markdown",
   "metadata": {},
   "source": [
    "# 第8章 数据的预测分析及可视化"
   ]
  },
  {
   "cell_type": "markdown",
   "metadata": {},
   "source": [
    "<img src=\"./Fig/Mind8.png\" width=\"1100\">"
   ]
  },
  {
   "cell_type": "markdown",
   "metadata": {},
   "source": [
    "## 8.1 动态数列的基本分析"
   ]
  },
  {
   "cell_type": "markdown",
   "metadata": {},
   "source": [
    "### 　8.1.1 动态数列的介绍"
   ]
  },
  {
   "cell_type": "code",
   "execution_count": null,
   "metadata": {},
   "outputs": [],
   "source": [
    "#%config InlineBackend.figure_format = 'retina' #可提高图形显示的清晰度"
   ]
  },
  {
   "cell_type": "raw",
   "metadata": {},
   "source": [
    "8.1.1.1  动态数列的概念"
   ]
  },
  {
   "cell_type": "raw",
   "metadata": {},
   "source": [
    "8.1.1.2 动态数列的构建"
   ]
  },
  {
   "cell_type": "raw",
   "metadata": {},
   "source": [
    "（1）获取时间序列数据"
   ]
  },
  {
   "cell_type": "code",
   "execution_count": null,
   "metadata": {},
   "outputs": [],
   "source": [
    "import pandas as pd                     #加载数据分析包pandas\n",
    "pd.set_option('display.precision',4)    #设置pandas输出精度"
   ]
  },
  {
   "cell_type": "code",
   "execution_count": null,
   "metadata": {},
   "outputs": [],
   "source": [
    "YQdata=pd.read_excel('DaPy_data.xlsx','YQdata',index_col=0)\n",
    "YQdata"
   ]
  },
  {
   "cell_type": "code",
   "execution_count": null,
   "metadata": {},
   "outputs": [],
   "source": [
    "QTdata=pd.read_excel('DaPy_data.xlsx','QTdata',index_col=0)\n",
    "QTdata"
   ]
  },
  {
   "cell_type": "raw",
   "metadata": {},
   "source": [
    "（2）季度序列数据的图示"
   ]
  },
  {
   "cell_type": "code",
   "execution_count": null,
   "metadata": {},
   "outputs": [],
   "source": [
    "QTdata.plot(grid=True);"
   ]
  },
  {
   "cell_type": "raw",
   "metadata": {},
   "source": [
    "（3）构建年度型序列数据"
   ]
  },
  {
   "cell_type": "code",
   "execution_count": null,
   "metadata": {},
   "outputs": [],
   "source": [
    "#生成年度变量 \n",
    "QTdata['Year']=QTdata.index.str[:4];QTdata"
   ]
  },
  {
   "cell_type": "code",
   "execution_count": null,
   "metadata": {},
   "outputs": [],
   "source": [
    "#形成年度时序数据 \n",
    "YGDP=QTdata.groupby(['Year'])['GDP'].sum();YGDP "
   ]
  },
  {
   "cell_type": "code",
   "execution_count": null,
   "metadata": {},
   "outputs": [],
   "source": [
    "YGDP.plot(grid=True);"
   ]
  },
  {
   "cell_type": "markdown",
   "metadata": {},
   "source": [
    "### 　8.1.2 动态数列的分析"
   ]
  },
  {
   "cell_type": "raw",
   "metadata": {},
   "source": [
    "8.1.2.1 绝对动态数列"
   ]
  },
  {
   "cell_type": "raw",
   "metadata": {},
   "source": [
    "（1）定基增长量 "
   ]
  },
  {
   "cell_type": "code",
   "execution_count": null,
   "metadata": {},
   "outputs": [],
   "source": [
    "YGDP\n",
    "YGDPds=pd.DataFrame(YGDP);  #构建年度动态序列框\n",
    "YGDPds"
   ]
  },
  {
   "cell_type": "code",
   "execution_count": null,
   "metadata": {},
   "outputs": [],
   "source": [
    "YGDPds['定基数']= YGDP-YGDP[:1].values; YGDPds "
   ]
  },
  {
   "cell_type": "raw",
   "metadata": {},
   "source": [
    "（2）环比增长量 "
   ]
  },
  {
   "cell_type": "code",
   "execution_count": null,
   "metadata": {},
   "outputs": [],
   "source": [
    "YGDPds['环基数']= YGDP-YGDP.shift(1); YGDPds #shift(1)向下移动1个单位 "
   ]
  },
  {
   "cell_type": "raw",
   "metadata": {},
   "source": [
    "8.1.2.2 相对动态数列"
   ]
  },
  {
   "cell_type": "raw",
   "metadata": {},
   "source": [
    "（1）定基发展速度（定基比） "
   ]
  },
  {
   "cell_type": "code",
   "execution_count": null,
   "metadata": {},
   "outputs": [],
   "source": [
    "YGDPds['定基比']=YGDP/YGDP[:1].values; YGDPds "
   ]
  },
  {
   "cell_type": "raw",
   "metadata": {},
   "source": [
    "（2）环比发展速度（环基比） "
   ]
  },
  {
   "cell_type": "code",
   "execution_count": null,
   "metadata": {},
   "outputs": [],
   "source": [
    "YGDPds['环基比']=YGDP/YGDP.shift(1);YGDPds "
   ]
  },
  {
   "cell_type": "raw",
   "metadata": {},
   "source": [
    "8.1.2.3 平均动态数列"
   ]
  },
  {
   "cell_type": "code",
   "execution_count": null,
   "metadata": {},
   "outputs": [],
   "source": [
    "n=len(YGDP);n"
   ]
  },
  {
   "cell_type": "code",
   "execution_count": null,
   "metadata": {},
   "outputs": [],
   "source": [
    "ADR=(YGDP[-1:].values/YGDP[:1].values)**(1/n)\n",
    "print('\\n  平均增长量 = %5.3f' % ADR)"
   ]
  },
  {
   "cell_type": "markdown",
   "metadata": {},
   "source": [
    "## 8.2 动态数列预测分析"
   ]
  },
  {
   "cell_type": "markdown",
   "metadata": {},
   "source": [
    "### 　8.2.1 趋势预测模型构建"
   ]
  },
  {
   "cell_type": "raw",
   "metadata": {},
   "source": [
    "8.2.1.1 趋势模型的类型"
   ]
  },
  {
   "cell_type": "raw",
   "metadata": {},
   "source": [
    "（1）一次模型：y = a + bx"
   ]
  },
  {
   "cell_type": "code",
   "execution_count": null,
   "metadata": {},
   "outputs": [],
   "source": [
    "import numpy as np\n",
    "n=20\n",
    "x=np.arange(n)+1       #生成1:n的等差数列\n",
    "y=1+2*x    "
   ]
  },
  {
   "cell_type": "code",
   "execution_count": null,
   "metadata": {},
   "outputs": [],
   "source": [
    "import matplotlib.pyplot as plt \n",
    "plt.plot(x,y,'o-');    #点线图"
   ]
  },
  {
   "cell_type": "raw",
   "metadata": {},
   "source": [
    "（2）对数模型：y = a + b*log x "
   ]
  },
  {
   "cell_type": "code",
   "execution_count": null,
   "metadata": {},
   "outputs": [],
   "source": [
    "y=1+0.2*np.log(x)\n",
    "plt.plot(x,y,'o-'); "
   ]
  },
  {
   "cell_type": "markdown",
   "metadata": {},
   "source": [
    "（3）指数模型：y=ae^(bx) "
   ]
  },
  {
   "cell_type": "code",
   "execution_count": null,
   "metadata": {},
   "outputs": [],
   "source": [
    "y=0.2*np.exp(0.1*x)\n",
    "plt.plot(x,y,'o-');"
   ]
  },
  {
   "cell_type": "raw",
   "metadata": {},
   "source": [
    "（4）幂函数：y=ax^b "
   ]
  },
  {
   "cell_type": "code",
   "execution_count": null,
   "metadata": {},
   "outputs": [],
   "source": [
    "y=0.2*x**0.1\n",
    "plt.plot(x,y,'o-'); "
   ]
  },
  {
   "cell_type": "code",
   "execution_count": null,
   "metadata": {},
   "outputs": [],
   "source": [
    "x.corr(y)"
   ]
  },
  {
   "cell_type": "raw",
   "metadata": {},
   "source": [
    "8.2.1.2  最优模型选择准则"
   ]
  },
  {
   "cell_type": "raw",
   "metadata": {},
   "source": [
    "8.2.1.3 趋势模型的建立"
   ]
  },
  {
   "cell_type": "raw",
   "metadata": {},
   "source": [
    "（1）线性模型 "
   ]
  },
  {
   "cell_type": "code",
   "execution_count": null,
   "metadata": {},
   "outputs": [],
   "source": [
    "import statsmodels.api as sm \n",
    "Yt=YGDP       #Yt=YGDP=QTdata.groupby(['Year'])['GDP'].sum()\n",
    "plt.plot(Yt,'.')"
   ]
  },
  {
   "cell_type": "code",
   "execution_count": null,
   "metadata": {},
   "outputs": [],
   "source": [
    "Xt=np.arange(len(Yt))+1; #自变量序列1:n，建模时最好不直接用年份\n",
    "Xt"
   ]
  },
  {
   "cell_type": "code",
   "execution_count": null,
   "metadata": {},
   "outputs": [],
   "source": [
    "Yt_L1=sm.OLS(Yt,sm.add_constant(Xt)).fit(); \n",
    "Yt_L1.summary().tables[1]"
   ]
  },
  {
   "cell_type": "code",
   "execution_count": null,
   "metadata": {},
   "outputs": [],
   "source": [
    "#构建一个简单的趋势函数来进行模型选择。\n",
    "import warnings #忽视警告信息,当例数较少时会有警告 \n",
    "warnings.filterwarnings(\"ignore\") \n",
    "\n",
    "def trendmodel(y,x): #定义直线回归模型, x为自变量, y为因变量\n",
    "    fm=sm.OLS(y,sm.add_constant(x)).fit() \n",
    "    sfm=fm.summary2() \n",
    "    print(\"模型检验:\\n\",sfm.tables[1]) \n",
    "    R2=np.corrcoef(x,y)[0,1]**2 #相关系数平方=sfm.tables[0][1][6])\n",
    "    print(\"决定系数：%5.4f\"%R2)   \n",
    "    return fm.fittedvalues"
   ]
  },
  {
   "cell_type": "code",
   "execution_count": null,
   "metadata": {},
   "outputs": [],
   "source": [
    "L1=trendmodel(Yt,Xt); \n",
    "plt.plot(Yt,'o',L1,'r-'); "
   ]
  },
  {
   "cell_type": "raw",
   "metadata": {},
   "source": [
    "（2）指数曲线"
   ]
  },
  {
   "cell_type": "code",
   "execution_count": null,
   "metadata": {},
   "outputs": [],
   "source": [
    "L2=trendmodel(np.log(Yt),np.log(Xt));      #对Yt取对数\n",
    "plt.plot(Yt,'o',np.exp(L2),'r-');  #对Yt的拟合值取反对数"
   ]
  },
  {
   "cell_type": "markdown",
   "metadata": {},
   "source": [
    "### 　8.2.2 平滑预测方法"
   ]
  },
  {
   "cell_type": "raw",
   "metadata": {},
   "source": [
    "8.2.2.1 移动平均预测法 "
   ]
  },
  {
   "cell_type": "markdown",
   "metadata": {},
   "source": [
    "（1）简单平均法 "
   ]
  },
  {
   "cell_type": "code",
   "execution_count": null,
   "metadata": {},
   "outputs": [],
   "source": [
    "Qt=QTdata.GDP;Qt"
   ]
  },
  {
   "cell_type": "code",
   "execution_count": null,
   "metadata": {},
   "outputs": [],
   "source": [
    "Qt.plot()"
   ]
  },
  {
   "cell_type": "code",
   "execution_count": null,
   "metadata": {},
   "outputs": [],
   "source": [
    "Qt.mean() #季节数据的平均 "
   ]
  },
  {
   "cell_type": "raw",
   "metadata": {},
   "source": [
    "（2）简单移动平均法 "
   ]
  },
  {
   "cell_type": "code",
   "execution_count": null,
   "metadata": {},
   "outputs": [],
   "source": [
    "QtM=pd.DataFrame(Qt);QtM"
   ]
  },
  {
   "cell_type": "code",
   "execution_count": null,
   "metadata": {},
   "outputs": [],
   "source": [
    "QtM['M2']=Qt.rolling(3).mean(); #2 阶移动平均 \n",
    "QtM.plot()"
   ]
  },
  {
   "cell_type": "code",
   "execution_count": null,
   "metadata": {},
   "outputs": [],
   "source": [
    "QtM['M4']=Qt.rolling(5).mean(); #4 阶移动平均 \n",
    "#QtM"
   ]
  },
  {
   "cell_type": "code",
   "execution_count": null,
   "metadata": {},
   "outputs": [],
   "source": [
    "QtM.plot();"
   ]
  },
  {
   "cell_type": "raw",
   "metadata": {},
   "source": [
    "（3）加权移动平均法"
   ]
  },
  {
   "cell_type": "raw",
   "metadata": {},
   "source": [
    "8.2.2.2 指数平滑预测法 "
   ]
  },
  {
   "cell_type": "code",
   "execution_count": null,
   "metadata": {},
   "outputs": [],
   "source": [
    "QtE=pd.DataFrame(Qt); \n",
    "QtE['E03']=Qt.ewm(alpha=0.3).mean(); #平滑系数=0.3 \n",
    "QtE.plot()"
   ]
  },
  {
   "cell_type": "code",
   "execution_count": null,
   "metadata": {},
   "outputs": [],
   "source": [
    "QtE['E08']=Qt.ewm(alpha=0.8).mean(); #平滑系数=0.8 \n",
    "QtE.plot()"
   ]
  },
  {
   "cell_type": "code",
   "execution_count": null,
   "metadata": {},
   "outputs": [],
   "source": [
    "QtE.plot();"
   ]
  },
  {
   "cell_type": "markdown",
   "metadata": {},
   "source": [
    "## 8.3  时间序列数据的可视化分析"
   ]
  },
  {
   "cell_type": "code",
   "execution_count": null,
   "metadata": {},
   "outputs": [],
   "source": [
    "import pandas as pd\n",
    "stock=pd.read_excel('DaPy_data.xlsx','Stock',index_col=0); \n",
    "stock.info()"
   ]
  },
  {
   "cell_type": "code",
   "execution_count": null,
   "metadata": {},
   "outputs": [],
   "source": [
    "stock"
   ]
  },
  {
   "cell_type": "code",
   "execution_count": null,
   "metadata": {},
   "outputs": [],
   "source": [
    "stock=stock.dropna() #由于数据中有 15 个缺失值，故须删除缺失数据 NA \n",
    "stock#.info()"
   ]
  },
  {
   "cell_type": "code",
   "execution_count": null,
   "metadata": {},
   "outputs": [],
   "source": [
    "stock.describe().round(2)  #round(stock.describe(),3) "
   ]
  },
  {
   "cell_type": "markdown",
   "metadata": {},
   "source": [
    "### 　8.3.1 股票数据可视化分析"
   ]
  },
  {
   "cell_type": "raw",
   "metadata": {},
   "source": [
    "8.3.1.1 股票数据的选取与图示 "
   ]
  },
  {
   "cell_type": "raw",
   "metadata": {},
   "source": [
    "（1）数据选取"
   ]
  },
  {
   "cell_type": "code",
   "execution_count": null,
   "metadata": {},
   "outputs": [],
   "source": [
    "stock[['Close','Volume']]      #收盘价与成交量数据"
   ]
  },
  {
   "cell_type": "code",
   "execution_count": null,
   "metadata": {},
   "outputs": [],
   "source": [
    "stock['2015']['Close']         #年度收盘价数据"
   ]
  },
  {
   "cell_type": "code",
   "execution_count": null,
   "metadata": {},
   "outputs": [],
   "source": [
    "stock['2017-12']['Close']      #月度价格\n",
    "#plt.plot(df.index,df.values);  #stock['2015']['Close'].plot();  "
   ]
  },
  {
   "cell_type": "raw",
   "metadata": {},
   "source": [
    "（2）价格趋势图"
   ]
  },
  {
   "cell_type": "code",
   "execution_count": null,
   "metadata": {},
   "outputs": [],
   "source": [
    "stock['Close'].plot();  #收盘价数据框图"
   ]
  },
  {
   "cell_type": "code",
   "execution_count": null,
   "metadata": {},
   "outputs": [],
   "source": [
    "YC=stock['2015']['Close'];            #年度收盘价数据\n",
    "YC.index=YC.index.strftime('%Y-%m-%d');  #将横坐标设置为年-月格式\n",
    "YC.plot();"
   ]
  },
  {
   "cell_type": "code",
   "execution_count": null,
   "metadata": {},
   "outputs": [],
   "source": [
    "stock['Volume'].hist();  #成交量分布情况 "
   ]
  },
  {
   "cell_type": "code",
   "execution_count": null,
   "metadata": {},
   "outputs": [],
   "source": [
    "CV=stock[['Close','Volume']];CV.plot()         #收盘价和成交量数据"
   ]
  },
  {
   "cell_type": "code",
   "execution_count": null,
   "metadata": {},
   "outputs": [],
   "source": [
    "CV.index=CV.index.strftime('%Y');     #将横坐标设置为年格式\n",
    "CV.plot(secondary_y='Volume');        #右坐标轴绘制成交量 "
   ]
  },
  {
   "cell_type": "code",
   "execution_count": null,
   "metadata": {},
   "outputs": [],
   "source": [
    "YCV=stock['2015'][['Close','Volume']]     #年度收盘价和成交量数据\n",
    "YCV.index=YCV.index.strftime('%Y-%m'); #将横坐标设置为年-月-日格式\n",
    "YCV.plot(secondary_y='Volume');"
   ]
  },
  {
   "cell_type": "raw",
   "metadata": {},
   "source": [
    "8.3.1.2  股票数据的趋势图"
   ]
  },
  {
   "cell_type": "code",
   "execution_count": null,
   "metadata": {},
   "outputs": [],
   "source": [
    "SC=stock['2015']['Close']; SC           #2015年收盘价数据  "
   ]
  },
  {
   "cell_type": "code",
   "execution_count": null,
   "metadata": {},
   "outputs": [],
   "source": [
    "SCM=pd.DataFrame(SC);SCM                #构建数据框\n",
    "SCM['MA5']=SC.rolling(6).mean();        #5日移动平均 \n",
    "SCM['MA20']=SC.rolling(21).mean();      #20日移动平均 \n",
    "SCM['MA60']=SC.rolling(61).mean();      #60日移动平均\n",
    "SCM.index=SCM.index.strftime('%Y-%m-%d');  #设定时间轴：月-天\n",
    "SCM.plot(figsize=(10,6),grid=True); # 移动平均线 "
   ]
  },
  {
   "cell_type": "code",
   "execution_count": null,
   "metadata": {},
   "outputs": [],
   "source": [
    "SCM.plot(subplots=False,figsize=(12,7),grid=True);"
   ]
  },
  {
   "cell_type": "code",
   "execution_count": null,
   "metadata": {},
   "outputs": [],
   "source": [
    "SCM.plot(subplots=True,figsize=(12,14),grid=True); "
   ]
  },
  {
   "cell_type": "raw",
   "metadata": {},
   "source": [
    "8.3.1.3  股票数据的K线图"
   ]
  },
  {
   "cell_type": "markdown",
   "metadata": {},
   "source": [
    ">- https://pypi.tuna.tsinghua.edu.cn/simple\n",
    ">- https://blog.csdn.net/qq_41437512/article/details/105319421"
   ]
  },
  {
   "cell_type": "code",
   "execution_count": null,
   "metadata": {},
   "outputs": [],
   "source": [
    "#!pip install mplfinance --upgrade "
   ]
  },
  {
   "cell_type": "raw",
   "metadata": {},
   "source": [
    "（1）分析用数据框构建"
   ]
  },
  {
   "cell_type": "code",
   "execution_count": null,
   "metadata": {},
   "outputs": [],
   "source": [
    "OHLCV=stock['2015-10':'2015-12'][['Open','High','Low','Close','Volume']];OHLCV"
   ]
  },
  {
   "cell_type": "raw",
   "metadata": {},
   "source": [
    "（2）K线图的绘制"
   ]
  },
  {
   "cell_type": "code",
   "execution_count": null,
   "metadata": {},
   "outputs": [],
   "source": [
    "import matplotlib.pyplot as plt\n",
    "import mplfinance as mpf         #加载matplotlib的金融分析模块\n",
    "mpf.plot(OHLCV,type='ohlc');     #ohlc图"
   ]
  },
  {
   "cell_type": "code",
   "execution_count": null,
   "metadata": {},
   "outputs": [],
   "source": [
    "mpf.plot(OHLCV,type='candle');   #candle图"
   ]
  },
  {
   "cell_type": "code",
   "execution_count": null,
   "metadata": {},
   "outputs": [],
   "source": [
    "mpf.plot(OHLCV,type='candle',volume=True) #价格candle图及成交量直方图"
   ]
  },
  {
   "cell_type": "code",
   "execution_count": null,
   "metadata": {},
   "outputs": [],
   "source": [
    "mpf.plot(OHLCV,type='candle',volume=True,mav=(3,6)) #增加3与6日移动平均线"
   ]
  },
  {
   "cell_type": "markdown",
   "metadata": {},
   "source": [
    "### 　8.3.2 股票收益率分析"
   ]
  },
  {
   "cell_type": "raw",
   "metadata": {},
   "source": [
    "8.3.2.1  日收益率的计算"
   ]
  },
  {
   "cell_type": "code",
   "execution_count": null,
   "metadata": {},
   "outputs": [],
   "source": [
    "def Return(Yt):           #计算收益率函数\n",
    "    Rt=Yt/Yt.shift(1)-1   #Yt_1=Yt.shift(1)\n",
    "    return(Rt)"
   ]
  },
  {
   "cell_type": "code",
   "execution_count": null,
   "metadata": {},
   "outputs": [],
   "source": [
    "SA=stock['2015']['Adjusted']; SA[:10]  #2015年调整收盘价\n",
    "SA_R=Return(SA); SA_R.plot()"
   ]
  },
  {
   "cell_type": "code",
   "execution_count": null,
   "metadata": {},
   "outputs": [],
   "source": [
    "SA_R.index=SA_R.index.strftime('%m-%d');  #设定时间轴：月-天\n",
    "plt.rcParams['axes.unicode_minus']=False; #正常显示图中正负号\n",
    "plt.stem(SA_R);  #SA_R.plot(x=SA_R.index).axhline(y=0);"
   ]
  },
  {
   "cell_type": "raw",
   "metadata": {},
   "source": [
    "8.3.2.2 年度收益率计算 "
   ]
  },
  {
   "cell_type": "code",
   "execution_count": null,
   "metadata": {},
   "outputs": [],
   "source": [
    " YR=pd.DataFrame({'Year':stock.index.year,'Adjusted':\n",
    "                  Return(stock['Adjusted'])});YR"
   ]
  },
  {
   "cell_type": "code",
   "execution_count": null,
   "metadata": {},
   "outputs": [],
   "source": [
    "YRm=YR.groupby(['Year']).mean();YRm   #年度平均收益率"
   ]
  },
  {
   "cell_type": "code",
   "execution_count": null,
   "metadata": {},
   "outputs": [],
   "source": [
    "YRm.plot(kind='bar').axhline(y=0); "
   ]
  },
  {
   "cell_type": "raw",
   "metadata": {},
   "source": [
    "8.3.2.3 月度收益率计算 "
   ]
  },
  {
   "cell_type": "code",
   "execution_count": null,
   "metadata": {},
   "outputs": [],
   "source": [
    "YMR=pd.DataFrame({'Year':stock.index.year,'Month':stock.index.month,\n",
    "                  'Adjusted':Return(stock['Adjusted'])}); YMR "
   ]
  },
  {
   "cell_type": "code",
   "execution_count": null,
   "metadata": {},
   "outputs": [],
   "source": [
    "YMRm=YMR.groupby(['Year','Month']).mean(); YMRm  #按年度和月度计算平均收益率"
   ]
  },
  {
   "cell_type": "code",
   "execution_count": null,
   "metadata": {},
   "outputs": [],
   "source": [
    "YMRm.unstack().round(4)   #结果重排"
   ]
  },
  {
   "cell_type": "code",
   "execution_count": null,
   "metadata": {},
   "outputs": [],
   "source": [
    "YMRm.plot().axhline(y=0);"
   ]
  },
  {
   "cell_type": "code",
   "execution_count": null,
   "metadata": {},
   "outputs": [],
   "source": [
    "MRm=YMR['2005'].groupby(['Month']).mean();MRm  #2005年每月平均收益率"
   ]
  },
  {
   "cell_type": "code",
   "execution_count": null,
   "metadata": {},
   "outputs": [],
   "source": [
    "MRm['Adjusted'].plot(kind='bar').axhline(y=0);"
   ]
  }
 ],
 "metadata": {
  "kernelspec": {
   "display_name": "Python 3",
   "language": "python",
   "name": "python3"
  },
  "language_info": {
   "codemirror_mode": {
    "name": "ipython",
    "version": 3
   },
   "file_extension": ".py",
   "mimetype": "text/x-python",
   "name": "python",
   "nbconvert_exporter": "python",
   "pygments_lexer": "ipython3",
   "version": "3.8.3"
  },
  "toc-showtags": false
 },
 "nbformat": 4,
 "nbformat_minor": 4
}
