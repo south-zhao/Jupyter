{
 "cells": [
  {
   "cell_type": "markdown",
   "metadata": {},
   "source": [
    "# 《数据可视化》—— 基于Python的应用"
   ]
  },
  {
   "cell_type": "markdown",
   "metadata": {},
   "source": [
    "## 第5章  数据的直观分析及可视化"
   ]
  },
  {
   "cell_type": "markdown",
   "metadata": {},
   "source": [
    "### 第5章思维导图 \n",
    "<img src=\"./Fig/Mind5.png\" width=\"1000\">"
   ]
  },
  {
   "cell_type": "markdown",
   "metadata": {},
   "source": [
    "## 5.1 特殊统计图的绘制"
   ]
  },
  {
   "cell_type": "code",
   "execution_count": null,
   "metadata": {},
   "outputs": [],
   "source": [
    "#基本设置\n",
    "import numpy as np                             #加载numpy包\n",
    "np.set_printoptions(precision=4)               #设置numpy输出为4位有效数"
   ]
  },
  {
   "cell_type": "markdown",
   "metadata": {},
   "source": [
    "### 5.1.1 函数图"
   ]
  },
  {
   "cell_type": "raw",
   "metadata": {},
   "source": [
    "（1）初等函数图"
   ]
  },
  {
   "cell_type": "code",
   "execution_count": null,
   "metadata": {},
   "outputs": [],
   "source": [
    "from math import pi                 #调用math中的圆周率参数\n",
    "x=np.linspace(0,4*pi,60);x          #生成[0,2*pi]上30个等差数列"
   ]
  },
  {
   "cell_type": "code",
   "execution_count": null,
   "metadata": {},
   "outputs": [],
   "source": [
    "from numpy import sin,cos,log,exp   #调用numpy中的初等函数\n",
    "import matplotlib.pyplot as plt     #加载matplotlib包的绘图函数\n",
    "plt.plot(x,sin(x));                 #正弦函数 y=sin(x)"
   ]
  },
  {
   "cell_type": "code",
   "execution_count": null,
   "metadata": {},
   "outputs": [],
   "source": [
    "plt.plot(x,cos(x));                 #余弦函数 y=cos(x)"
   ]
  },
  {
   "cell_type": "code",
   "execution_count": null,
   "metadata": {},
   "outputs": [],
   "source": [
    "plt.plot(x,log(x+1));               #对数函数 y=log(x+1)"
   ]
  },
  {
   "cell_type": "code",
   "execution_count": null,
   "metadata": {},
   "outputs": [],
   "source": [
    "plt.plot(x,exp(x));                 #指数函数 y=exp(x)"
   ]
  },
  {
   "cell_type": "raw",
   "metadata": {},
   "source": [
    "（2）椭圆函数图"
   ]
  },
  {
   "cell_type": "code",
   "execution_count": null,
   "metadata": {},
   "outputs": [],
   "source": [
    "t=np.linspace(0,2*pi);\n",
    "x=2*sin(t);y=3*cos(t);"
   ]
  },
  {
   "cell_type": "code",
   "execution_count": null,
   "metadata": {},
   "outputs": [],
   "source": [
    "plt.plot(x,y,c='red'); \n",
    "plt.axvline(x=0); plt.axhline(y=0);\n",
    "plt.text(0.2,1,r'$\\frac{x^2}{a^2}+\\frac{y^2}{b^2}=1$',fontsize=15);"
   ]
  },
  {
   "cell_type": "markdown",
   "metadata": {},
   "source": [
    "#### 5.1.2 气泡图"
   ]
  },
  {
   "cell_type": "code",
   "execution_count": null,
   "metadata": {},
   "outputs": [],
   "source": [
    "x=np.linspace(-4,4,20); \n",
    "y=x**2;                         # y=x^2 抛物线\n",
    "plt.scatter(x,y);               #二维散点图"
   ]
  },
  {
   "cell_type": "code",
   "execution_count": null,
   "metadata": {},
   "outputs": [],
   "source": [
    "plt.scatter(x,y,s=8*y);         #二维气泡图,s=8y"
   ]
  },
  {
   "cell_type": "markdown",
   "metadata": {},
   "source": [
    "### 5.1.3 三维散点图"
   ]
  },
  {
   "cell_type": "code",
   "execution_count": null,
   "metadata": {},
   "outputs": [],
   "source": [
    "X, Y = np.meshgrid(x, x)                #从坐标向量x,y中返回坐标矩阵\n",
    "Z = np.sin(np.sqrt(X**2 + Y**2))        #Z=sin(sqrt(X^2+Y^2)) \n",
    "from mpl_toolkits.mplot3d import Axes3D \n",
    "fig = plt.figure() \n",
    "Axes3D(fig).scatter(X, Y, Z);"
   ]
  },
  {
   "cell_type": "markdown",
   "metadata": {},
   "source": [
    "### 5.1.4 三维曲面图"
   ]
  },
  {
   "cell_type": "code",
   "execution_count": null,
   "metadata": {},
   "outputs": [],
   "source": [
    "from mpl_toolkits.mplot3d import Axes3D \n",
    "fig = plt.figure() \n",
    "Axes3D(fig).plot_surface(X, Y, Z);"
   ]
  },
  {
   "cell_type": "markdown",
   "metadata": {},
   "source": [
    "### 5.2 Seaborn 统计绘图"
   ]
  },
  {
   "cell_type": "code",
   "execution_count": null,
   "metadata": {},
   "outputs": [],
   "source": [
    "#!pip install seaborn"
   ]
  },
  {
   "cell_type": "code",
   "execution_count": null,
   "metadata": {},
   "outputs": [],
   "source": [
    "import seaborn as sns  #加载seaborn包"
   ]
  },
  {
   "cell_type": "markdown",
   "metadata": {},
   "source": [
    "## 5.2.1  seaborn绘图特点"
   ]
  },
  {
   "cell_type": "markdown",
   "metadata": {},
   "source": [
    "### 5.2.1.1  统计图的绘制"
   ]
  },
  {
   "cell_type": "markdown",
   "metadata": {},
   "source": [
    "### 5.2.1.2  分组图的绘制"
   ]
  },
  {
   "cell_type": "markdown",
   "metadata": {},
   "source": [
    "### 5.2.1.3  分面图的绘制"
   ]
  },
  {
   "cell_type": "markdown",
   "metadata": {},
   "source": [
    "## 5.2.2 seaborn中的统计图"
   ]
  },
  {
   "cell_type": "code",
   "execution_count": null,
   "metadata": {},
   "outputs": [],
   "source": [
    "#（1）读取绘图用数据\n",
    "import pandas as pd\n",
    "BSdata=pd.read_excel('DaPy_data.xlsx','BSdata');BSdata.head()"
   ]
  },
  {
   "cell_type": "code",
   "execution_count": null,
   "metadata": {},
   "outputs": [],
   "source": [
    "#（2）中文字体段时需设置字体\n",
    "import matplotlib.pyplot as plt             \n",
    "plt.rcParams['font.sans-serif']=['SimHei']; #设置中文字体为'黑体'"
   ]
  },
  {
   "cell_type": "raw",
   "metadata": {},
   "source": [
    "#### 5.2.2.1 箱线图（boxplot）"
   ]
  },
  {
   "cell_type": "code",
   "execution_count": null,
   "metadata": {},
   "outputs": [],
   "source": [
    "sns.boxplot(x=BSdata['身高']);"
   ]
  },
  {
   "cell_type": "code",
   "execution_count": null,
   "metadata": {},
   "outputs": [],
   "source": [
    "sns.boxplot(y=BSdata['身高']); #竖着放的箱线图，也就是将x换成y"
   ]
  },
  {
   "cell_type": "code",
   "execution_count": null,
   "metadata": {},
   "outputs": [],
   "source": [
    "# 分组绘制箱线图，分组因子是“性别”，在x轴不同位置绘制。\n",
    "sns.boxplot(x='性别',y='身高',data=BSdata);"
   ]
  },
  {
   "cell_type": "raw",
   "metadata": {},
   "source": [
    "##### 5.2.2.2 小提琴图（violinplot） "
   ]
  },
  {
   "cell_type": "code",
   "execution_count": null,
   "metadata": {},
   "outputs": [],
   "source": [
    "sns.violinplot(x='开设', y='支出', hue='性别', data=BSdata);"
   ]
  },
  {
   "cell_type": "raw",
   "metadata": {},
   "source": [
    "##### 5.2.2.3 点图（stripplot，航线图） "
   ]
  },
  {
   "cell_type": "code",
   "execution_count": null,
   "metadata": {},
   "outputs": [],
   "source": [
    "sns.stripplot(x='性别', y='身高', data=BSdata, jitter=True); "
   ]
  },
  {
   "cell_type": "code",
   "execution_count": null,
   "metadata": {},
   "outputs": [],
   "source": [
    "sns.stripplot(x='性别', y='身高', data=BSdata, jitter=False); "
   ]
  },
  {
   "cell_type": "raw",
   "metadata": {},
   "source": [
    "##### 5.2.2.4 条图（barplot） "
   ]
  },
  {
   "cell_type": "code",
   "execution_count": null,
   "metadata": {},
   "outputs": [],
   "source": [
    "sns.barplot(x='性别', y='身高', data=BSdata); #不同性别身高均值标准差图"
   ]
  },
  {
   "cell_type": "raw",
   "metadata": {},
   "source": [
    "##### 5.2.2.5 计数图（countplot） "
   ]
  },
  {
   "cell_type": "code",
   "execution_count": null,
   "metadata": {},
   "outputs": [],
   "source": [
    "sns.countplot(x='开设', hue=\"课程\", data=BSdata);"
   ]
  },
  {
   "cell_type": "raw",
   "metadata": {},
   "source": [
    "##### 5.2.2.6 分组关系图（factorplot） "
   ]
  },
  {
   "cell_type": "code",
   "execution_count": null,
   "metadata": {},
   "outputs": [],
   "source": [
    "sns.factorplot(x='性别',col=\"开设\",col_wrap=1,data=BSdata,kind=\"count\",size=2,aspect=1.5);"
   ]
  },
  {
   "cell_type": "raw",
   "metadata": {},
   "source": [
    "##### 5.2.2.7 概率分布图（distplot）"
   ]
  },
  {
   "cell_type": "code",
   "execution_count": null,
   "metadata": {},
   "outputs": [],
   "source": [
    "BSdata['身高'].hist(); "
   ]
  },
  {
   "cell_type": "code",
   "execution_count": null,
   "metadata": {},
   "outputs": [],
   "source": [
    "sns.distplot(BSdata['身高'], kde=True, bins=10); "
   ]
  },
  {
   "cell_type": "code",
   "execution_count": null,
   "metadata": {},
   "outputs": [],
   "source": [
    "#针对双变量，可使用Seaborn中的jointplot()函数。\n",
    "sns.jointplot(x='身高', y='体重', data=BSdata); "
   ]
  },
  {
   "cell_type": "code",
   "execution_count": null,
   "metadata": {},
   "outputs": [],
   "source": [
    "sns.pairplot(BSdata[['身高','体重','支出']]); #配对散点图"
   ]
  },
  {
   "cell_type": "markdown",
   "metadata": {},
   "source": [
    "## 5.3 ggplot 绘图系统"
   ]
  },
  {
   "cell_type": "markdown",
   "metadata": {},
   "source": [
    "### 5.3.1 ggplot与plotnine包"
   ]
  },
  {
   "cell_type": "markdown",
   "metadata": {},
   "source": [
    "#### 5.3.1.1 包的安装"
   ]
  },
  {
   "cell_type": "code",
   "execution_count": null,
   "metadata": {},
   "outputs": [],
   "source": [
    "#!pip install ggplote    #在系统上安装ggplot包\n",
    "#!pip install plotnine    #在系统上安装plotnine包"
   ]
  },
  {
   "cell_type": "markdown",
   "metadata": {},
   "source": [
    "#### 5.3.1.2 包的加载与设置"
   ]
  },
  {
   "cell_type": "code",
   "execution_count": null,
   "metadata": {},
   "outputs": [],
   "source": [
    "from plotnine import *    #加载和调用ggplot所有方法\n",
    "theme_set(theme_bw(base_family='SimHei')); \n",
    "#设置图形主题背景为白色bw、中文字体为黑体SimHei"
   ]
  },
  {
   "cell_type": "markdown",
   "metadata": {},
   "source": [
    "### 5.3.2 ggplot 基本绘图 "
   ]
  },
  {
   "cell_type": "markdown",
   "metadata": {},
   "source": [
    "#### 5.3.2.1  基本定义"
   ]
  },
  {
   "cell_type": "markdown",
   "metadata": {},
   "source": [
    "#### 5.3.2.2 ggplot中的图层 "
   ]
  },
  {
   "cell_type": "code",
   "execution_count": null,
   "metadata": {},
   "outputs": [],
   "source": [
    "GP=ggplot(BSdata,aes(x='身高',y='体重')); GP #绘制直角坐标系"
   ]
  },
  {
   "cell_type": "code",
   "execution_count": null,
   "metadata": {},
   "outputs": [],
   "source": [
    "GP + geom_point()  #增加点图"
   ]
  },
  {
   "cell_type": "code",
   "execution_count": null,
   "metadata": {},
   "outputs": [],
   "source": [
    "GP + geom_line()   #增加线图"
   ]
  },
  {
   "cell_type": "code",
   "execution_count": null,
   "metadata": {},
   "outputs": [],
   "source": [
    "GP + geom_point() + geom_line()  #增加点和线图"
   ]
  },
  {
   "cell_type": "markdown",
   "metadata": {},
   "source": [
    "#### 5.3.3 常见统计图绘制"
   ]
  },
  {
   "cell_type": "raw",
   "metadata": {},
   "source": [
    "#### 5.3.3.1 直方图"
   ]
  },
  {
   "cell_type": "code",
   "execution_count": null,
   "metadata": {},
   "outputs": [],
   "source": [
    "ggplot(BSdata,aes(x='身高')) + geom_histogram()"
   ]
  },
  {
   "cell_type": "raw",
   "metadata": {},
   "source": [
    "#### 5.3.3.2 分组散点图"
   ]
  },
  {
   "cell_type": "code",
   "execution_count": null,
   "metadata": {},
   "outputs": [],
   "source": [
    "ggplot(BSdata,aes(x='身高',y='体重',shape='性别')) + geom_point() "
   ]
  },
  {
   "cell_type": "code",
   "execution_count": null,
   "metadata": {},
   "outputs": [],
   "source": [
    "ggplot(BSdata,aes(x='身高',y='体重',color='性别')) + geom_point()"
   ]
  },
  {
   "cell_type": "raw",
   "metadata": {},
   "source": [
    "#### 5.3.3.3 折线图"
   ]
  },
  {
   "cell_type": "code",
   "execution_count": null,
   "metadata": {},
   "outputs": [],
   "source": [
    "ggplot(BSdata,aes(x='支出',y='身高')) + geom_line() "
   ]
  },
  {
   "cell_type": "code",
   "execution_count": null,
   "metadata": {},
   "outputs": [],
   "source": [
    "#共用一个坐标，绘制不同的y值\n",
    "ggplot(BSdata,aes(x='支出'))+geom_line(aes(y='身高')) + geom_line(aes(y='体重'))"
   ]
  },
  {
   "cell_type": "raw",
   "metadata": {},
   "source": [
    "#### 5.3.3.4 分面图 "
   ]
  },
  {
   "cell_type": "code",
   "execution_count": null,
   "metadata": {},
   "outputs": [],
   "source": [
    "#在plotnine中可使用facet_wrap参数可以按类型绘制分面图。\n",
    "ggplot(BSdata,aes('身高','体重')) + geom_point() + facet_wrap('性别',nrow=2) "
   ]
  },
  {
   "cell_type": "code",
   "execution_count": null,
   "metadata": {},
   "outputs": [],
   "source": [
    "ggplot(BSdata,aes('身高','体重')) + geom_point() + facet_wrap('性别',nrow=1)"
   ]
  },
  {
   "cell_type": "code",
   "execution_count": null,
   "metadata": {},
   "outputs": [],
   "source": [
    "ggplot(BSdata,aes('身高','体重')) + geom_line() + geom_point() + facet_wrap('开设',nrow=1)"
   ]
  },
  {
   "cell_type": "code",
   "execution_count": null,
   "metadata": {},
   "outputs": [],
   "source": [
    "(ggplot(BSdata,aes('身高','体重')) + geom_point() \n",
    "       + facet_wrap('~性别+开设',nrow=3))"
   ]
  },
  {
   "cell_type": "markdown",
   "metadata": {},
   "source": [
    "## 5.4  pyecharts动态绘图"
   ]
  },
  {
   "cell_type": "markdown",
   "metadata": {},
   "source": [
    "### 5.4.1  pyecharts简介"
   ]
  },
  {
   "cell_type": "markdown",
   "metadata": {},
   "source": [
    "#### 5.4.1.1 关于pyecharts"
   ]
  },
  {
   "cell_type": "markdown",
   "metadata": {},
   "source": [
    "#### 5.4.1.2 pyecharts安装与设置"
   ]
  },
  {
   "cell_type": "code",
   "execution_count": null,
   "metadata": {},
   "outputs": [],
   "source": [
    "#!pip install pyecharts      "
   ]
  },
  {
   "cell_type": "code",
   "execution_count": 1,
   "metadata": {},
   "outputs": [],
   "source": [
    "#加载 Jupyter lab中设置 pyecharts 全局显示参数\n",
    "from pyecharts.globals import CurrentConfig, NotebookType\n",
    "CurrentConfig.NOTEBOOK_TYPE = NotebookType.JUPYTER_LAB     \n",
    "import pyecharts.options as opts                                     #并加载pyecharts选项\n",
    "figsize=opts.InitOpts(width='560px',height='380px',bg_color='white') #设置图形大小和背景色"
   ]
  },
  {
   "cell_type": "markdown",
   "metadata": {},
   "source": [
    "### 5.4.2  pyeharts基本绘图"
   ]
  },
  {
   "cell_type": "raw",
   "metadata": {},
   "source": [
    "#### 5.4.2.1 仪表盘"
   ]
  },
  {
   "cell_type": "code",
   "execution_count": 2,
   "metadata": {
    "collapsed": true,
    "jupyter": {
     "outputs_hidden": true,
     "source_hidden": true
    }
   },
   "outputs": [
    {
     "data": {
      "application/javascript": [
       "new Promise(function(resolve, reject) {\n",
       "    var script = document.createElement(\"script\");\n",
       "    script.onload = resolve;\n",
       "    script.onerror = reject;\n",
       "    script.src = \"https://assets.pyecharts.org/assets/echarts.min.js\";\n",
       "    document.head.appendChild(script);\n",
       "}).then(() => {\n",
       "\n",
       "});"
      ],
      "text/plain": [
       "<pyecharts.render.display.Javascript at 0x208f3c917f0>"
      ]
     },
     "execution_count": 2,
     "metadata": {},
     "output_type": "execute_result"
    }
   ],
   "source": [
    "from pyecharts.charts import Gauge\n",
    "Gauge().load_javascript() #在Jupyterlab中制图前需加载一次JavaScript函数！！"
   ]
  },
  {
   "cell_type": "code",
   "execution_count": 4,
   "metadata": {},
   "outputs": [
    {
     "data": {
      "text/html": [
       "<!DOCTYPE html>\n",
       "<html>\n",
       "<head>\n",
       "    <meta charset=\"UTF-8\">\n",
       "</head>\n",
       "<body>\n",
       "        <div id=\"b26b4decdcc746c991746e73a9b1aa41\" class=\"chart-container\" style=\"width:560px; height:380px;\"></div>\n",
       "    <script>\n",
       "        var chart_b26b4decdcc746c991746e73a9b1aa41 = echarts.init(\n",
       "            document.getElementById('b26b4decdcc746c991746e73a9b1aa41'), 'white', {renderer: 'canvas'});\n",
       "        var option_b26b4decdcc746c991746e73a9b1aa41 = {\n",
       "    \"backgroundColor\": \"white\",\n",
       "    \"animation\": true,\n",
       "    \"animationThreshold\": 2000,\n",
       "    \"animationDuration\": 1000,\n",
       "    \"animationEasing\": \"cubicOut\",\n",
       "    \"animationDelay\": 0,\n",
       "    \"animationDurationUpdate\": 300,\n",
       "    \"animationEasingUpdate\": \"cubicOut\",\n",
       "    \"animationDelayUpdate\": 0,\n",
       "    \"color\": [\n",
       "        \"#c23531\",\n",
       "        \"#2f4554\",\n",
       "        \"#61a0a8\",\n",
       "        \"#d48265\",\n",
       "        \"#749f83\",\n",
       "        \"#ca8622\",\n",
       "        \"#bda29a\",\n",
       "        \"#6e7074\",\n",
       "        \"#546570\",\n",
       "        \"#c4ccd3\",\n",
       "        \"#f05b72\",\n",
       "        \"#ef5b9c\",\n",
       "        \"#f47920\",\n",
       "        \"#905a3d\",\n",
       "        \"#fab27b\",\n",
       "        \"#2a5caa\",\n",
       "        \"#444693\",\n",
       "        \"#726930\",\n",
       "        \"#b2d235\",\n",
       "        \"#6d8346\",\n",
       "        \"#ac6767\",\n",
       "        \"#1d953f\",\n",
       "        \"#6950a1\",\n",
       "        \"#918597\"\n",
       "    ],\n",
       "    \"series\": [\n",
       "        {\n",
       "            \"type\": \"gauge\",\n",
       "            \"title\": {\n",
       "                \"show\": true,\n",
       "                \"offsetCenter\": [\n",
       "                    0,\n",
       "                    \"-40%\"\n",
       "                ],\n",
       "                \"color\": \"#333\",\n",
       "                \"fontStyle\": \"normal\",\n",
       "                \"fontWeight\": \"normal\",\n",
       "                \"fontFamily\": \"sans-serif\",\n",
       "                \"fontSize\": 15,\n",
       "                \"backgroundColor\": \"transparent\",\n",
       "                \"borderColor\": \"transparent\",\n",
       "                \"borderWidth\": 0,\n",
       "                \"borderRadius\": 0,\n",
       "                \"padding\": 0,\n",
       "                \"shadowColor\": \"transparent\",\n",
       "                \"shadowBlur\": 0,\n",
       "                \"shadowOffsetX\": 0,\n",
       "                \"shadowOffsetY\": 0\n",
       "            },\n",
       "            \"detail\": {\n",
       "                \"show\": true,\n",
       "                \"backgroundColor\": \"transparent\",\n",
       "                \"borderWidth\": 0,\n",
       "                \"borderColor\": \"transparent\",\n",
       "                \"offsetCenter\": [\n",
       "                    0,\n",
       "                    \"-40%\"\n",
       "                ],\n",
       "                \"formatter\": \"{value}%\",\n",
       "                \"color\": \"auto\",\n",
       "                \"fontStyle\": \"normal\",\n",
       "                \"fontWeight\": \"normal\",\n",
       "                \"fontFamily\": \"sans-serif\",\n",
       "                \"fontSize\": 15,\n",
       "                \"borderRadius\": 0,\n",
       "                \"padding\": 0,\n",
       "                \"shadowColor\": \"transparent\",\n",
       "                \"shadowBlur\": 0,\n",
       "                \"shadowOffsetX\": 0,\n",
       "                \"shadowOffsetY\": 0\n",
       "            },\n",
       "            \"min\": 0,\n",
       "            \"max\": 100,\n",
       "            \"splitNumber\": 10,\n",
       "            \"radius\": \"75%\",\n",
       "            \"startAngle\": 225,\n",
       "            \"endAngle\": -45,\n",
       "            \"clockwise\": true,\n",
       "            \"data\": [\n",
       "                {\n",
       "                    \"name\": \"\\u5b8c\\u6210\\u7387\",\n",
       "                    \"value\": 90\n",
       "                }\n",
       "            ],\n",
       "            \"pointer\": {\n",
       "                \"show\": true,\n",
       "                \"length\": \"80%\",\n",
       "                \"width\": 8\n",
       "            }\n",
       "        }\n",
       "    ],\n",
       "    \"legend\": [\n",
       "        {\n",
       "            \"data\": [\n",
       "                \"\"\n",
       "            ],\n",
       "            \"selected\": {\n",
       "                \"\": true\n",
       "            }\n",
       "        }\n",
       "    ],\n",
       "    \"tooltip\": {\n",
       "        \"show\": true,\n",
       "        \"trigger\": \"item\",\n",
       "        \"triggerOn\": \"mousemove|click\",\n",
       "        \"axisPointer\": {\n",
       "            \"type\": \"line\"\n",
       "        },\n",
       "        \"showContent\": true,\n",
       "        \"alwaysShowContent\": false,\n",
       "        \"showDelay\": 0,\n",
       "        \"hideDelay\": 100,\n",
       "        \"textStyle\": {\n",
       "            \"fontSize\": 14\n",
       "        },\n",
       "        \"borderWidth\": 0,\n",
       "        \"padding\": 5\n",
       "    }\n",
       "};\n",
       "        chart_b26b4decdcc746c991746e73a9b1aa41.setOption(option_b26b4decdcc746c991746e73a9b1aa41);\n",
       "    </script>\n",
       "</body>\n",
       "</html>\n"
      ],
      "text/plain": [
       "<pyecharts.render.display.HTML at 0x208f3cbc0a0>"
      ]
     },
     "execution_count": 4,
     "metadata": {},
     "output_type": "execute_result"
    }
   ],
   "source": [
    "#Gauge().add(\"\",[(\"完成率\", 66.6)]).render_notebook()\n",
    "Gauge(figsize).add(\"\",[(\"完成率\", 90)]).render_notebook()"
   ]
  },
  {
   "cell_type": "raw",
   "metadata": {
    "jupyter": {
     "source_hidden": true
    }
   },
   "source": [
    "#### 5.4.2.2 条图"
   ]
  },
  {
   "cell_type": "code",
   "execution_count": 5,
   "metadata": {
    "jupyter": {
     "source_hidden": true
    }
   },
   "outputs": [],
   "source": [
    "#基本的pyecharts绘图是基于列表数据的\n",
    "X=['A','B','C','D','E','F','G']\n",
    "Y=[1,4,7,3,2,5,6]\n",
    "Z=[6,5,3,2,7,4,1]"
   ]
  },
  {
   "cell_type": "code",
   "execution_count": 6,
   "metadata": {
    "jupyter": {
     "source_hidden": true
    }
   },
   "outputs": [
    {
     "data": {
      "text/html": [
       "<!DOCTYPE html>\n",
       "<html>\n",
       "<head>\n",
       "    <meta charset=\"UTF-8\">\n",
       "</head>\n",
       "<body>\n",
       "        <div id=\"eef21286e6b84590827a767f937e2957\" class=\"chart-container\" style=\"width:560px; height:380px;\"></div>\n",
       "    <script>\n",
       "        var chart_eef21286e6b84590827a767f937e2957 = echarts.init(\n",
       "            document.getElementById('eef21286e6b84590827a767f937e2957'), 'white', {renderer: 'canvas'});\n",
       "        var option_eef21286e6b84590827a767f937e2957 = {\n",
       "    \"backgroundColor\": \"white\",\n",
       "    \"animation\": true,\n",
       "    \"animationThreshold\": 2000,\n",
       "    \"animationDuration\": 1000,\n",
       "    \"animationEasing\": \"cubicOut\",\n",
       "    \"animationDelay\": 0,\n",
       "    \"animationDurationUpdate\": 300,\n",
       "    \"animationEasingUpdate\": \"cubicOut\",\n",
       "    \"animationDelayUpdate\": 0,\n",
       "    \"color\": [\n",
       "        \"#c23531\",\n",
       "        \"#2f4554\",\n",
       "        \"#61a0a8\",\n",
       "        \"#d48265\",\n",
       "        \"#749f83\",\n",
       "        \"#ca8622\",\n",
       "        \"#bda29a\",\n",
       "        \"#6e7074\",\n",
       "        \"#546570\",\n",
       "        \"#c4ccd3\",\n",
       "        \"#f05b72\",\n",
       "        \"#ef5b9c\",\n",
       "        \"#f47920\",\n",
       "        \"#905a3d\",\n",
       "        \"#fab27b\",\n",
       "        \"#2a5caa\",\n",
       "        \"#444693\",\n",
       "        \"#726930\",\n",
       "        \"#b2d235\",\n",
       "        \"#6d8346\",\n",
       "        \"#ac6767\",\n",
       "        \"#1d953f\",\n",
       "        \"#6950a1\",\n",
       "        \"#918597\"\n",
       "    ],\n",
       "    \"series\": [\n",
       "        {\n",
       "            \"type\": \"bar\",\n",
       "            \"name\": \"\\u5782\\u76f4\\u6761\\u56fe\",\n",
       "            \"legendHoverLink\": true,\n",
       "            \"data\": [\n",
       "                1,\n",
       "                4,\n",
       "                7,\n",
       "                3,\n",
       "                2,\n",
       "                5,\n",
       "                6\n",
       "            ],\n",
       "            \"showBackground\": false,\n",
       "            \"barMinHeight\": 0,\n",
       "            \"barCategoryGap\": \"20%\",\n",
       "            \"barGap\": \"30%\",\n",
       "            \"large\": false,\n",
       "            \"largeThreshold\": 400,\n",
       "            \"seriesLayoutBy\": \"column\",\n",
       "            \"datasetIndex\": 0,\n",
       "            \"clip\": true,\n",
       "            \"zlevel\": 0,\n",
       "            \"z\": 2,\n",
       "            \"label\": {\n",
       "                \"show\": true,\n",
       "                \"position\": \"top\",\n",
       "                \"margin\": 8\n",
       "            }\n",
       "        }\n",
       "    ],\n",
       "    \"legend\": [\n",
       "        {\n",
       "            \"data\": [\n",
       "                \"\\u5782\\u76f4\\u6761\\u56fe\"\n",
       "            ],\n",
       "            \"selected\": {\n",
       "                \"\\u5782\\u76f4\\u6761\\u56fe\": true\n",
       "            }\n",
       "        }\n",
       "    ],\n",
       "    \"tooltip\": {\n",
       "        \"show\": true,\n",
       "        \"trigger\": \"item\",\n",
       "        \"triggerOn\": \"mousemove|click\",\n",
       "        \"axisPointer\": {\n",
       "            \"type\": \"line\"\n",
       "        },\n",
       "        \"showContent\": true,\n",
       "        \"alwaysShowContent\": false,\n",
       "        \"showDelay\": 0,\n",
       "        \"hideDelay\": 100,\n",
       "        \"textStyle\": {\n",
       "            \"fontSize\": 14\n",
       "        },\n",
       "        \"borderWidth\": 0,\n",
       "        \"padding\": 5\n",
       "    },\n",
       "    \"xAxis\": [\n",
       "        {\n",
       "            \"show\": true,\n",
       "            \"scale\": false,\n",
       "            \"nameLocation\": \"end\",\n",
       "            \"nameGap\": 15,\n",
       "            \"gridIndex\": 0,\n",
       "            \"inverse\": false,\n",
       "            \"offset\": 0,\n",
       "            \"splitNumber\": 5,\n",
       "            \"minInterval\": 0,\n",
       "            \"splitLine\": {\n",
       "                \"show\": false,\n",
       "                \"lineStyle\": {\n",
       "                    \"show\": true,\n",
       "                    \"width\": 1,\n",
       "                    \"opacity\": 1,\n",
       "                    \"curveness\": 0,\n",
       "                    \"type\": \"solid\"\n",
       "                }\n",
       "            },\n",
       "            \"data\": [\n",
       "                \"A\",\n",
       "                \"B\",\n",
       "                \"C\",\n",
       "                \"D\",\n",
       "                \"E\",\n",
       "                \"F\",\n",
       "                \"G\"\n",
       "            ]\n",
       "        }\n",
       "    ],\n",
       "    \"yAxis\": [\n",
       "        {\n",
       "            \"show\": true,\n",
       "            \"scale\": false,\n",
       "            \"nameLocation\": \"end\",\n",
       "            \"nameGap\": 15,\n",
       "            \"gridIndex\": 0,\n",
       "            \"inverse\": false,\n",
       "            \"offset\": 0,\n",
       "            \"splitNumber\": 5,\n",
       "            \"minInterval\": 0,\n",
       "            \"splitLine\": {\n",
       "                \"show\": false,\n",
       "                \"lineStyle\": {\n",
       "                    \"show\": true,\n",
       "                    \"width\": 1,\n",
       "                    \"opacity\": 1,\n",
       "                    \"curveness\": 0,\n",
       "                    \"type\": \"solid\"\n",
       "                }\n",
       "            }\n",
       "        }\n",
       "    ]\n",
       "};\n",
       "        chart_eef21286e6b84590827a767f937e2957.setOption(option_eef21286e6b84590827a767f937e2957);\n",
       "    </script>\n",
       "</body>\n",
       "</html>\n"
      ],
      "text/plain": [
       "<pyecharts.render.display.HTML at 0x208f3c9ca60>"
      ]
     },
     "execution_count": 6,
     "metadata": {},
     "output_type": "execute_result"
    }
   ],
   "source": [
    "from pyecharts.charts import Bar          #加载pyecharts绘制条图(Bar)函数\n",
    "bar1=Bar(figsize)                         #初始化条图\n",
    "bar1.add_xaxis(X).add_yaxis(\"垂直条图\",Y)   \n",
    "bar1.render_notebook()  "
   ]
  },
  {
   "cell_type": "code",
   "execution_count": null,
   "metadata": {
    "jupyter": {
     "source_hidden": true
    }
   },
   "outputs": [],
   "source": [
    "Bar(figsize).add_xaxis(X).add_yaxis(\"\",Y).render_notebook()  #链式写法"
   ]
  },
  {
   "cell_type": "code",
   "execution_count": null,
   "metadata": {
    "jupyter": {
     "source_hidden": true
    }
   },
   "outputs": [],
   "source": [
    "bar2=Bar(figsize) \n",
    "bar2.add_xaxis(X).add_yaxis(\"水平条图\",Y).reversal_axis()     \n",
    "bar2.render_notebook()  "
   ]
  },
  {
   "cell_type": "code",
   "execution_count": 7,
   "metadata": {},
   "outputs": [
    {
     "data": {
      "text/html": [
       "<!DOCTYPE html>\n",
       "<html>\n",
       "<head>\n",
       "    <meta charset=\"UTF-8\">\n",
       "</head>\n",
       "<body>\n",
       "        <div id=\"9508c16c2e1a46b2adf4133ce2244a8b\" class=\"chart-container\" style=\"width:560px; height:380px;\"></div>\n",
       "    <script>\n",
       "        var chart_9508c16c2e1a46b2adf4133ce2244a8b = echarts.init(\n",
       "            document.getElementById('9508c16c2e1a46b2adf4133ce2244a8b'), 'white', {renderer: 'canvas'});\n",
       "        var option_9508c16c2e1a46b2adf4133ce2244a8b = {\n",
       "    \"backgroundColor\": \"white\",\n",
       "    \"animation\": true,\n",
       "    \"animationThreshold\": 2000,\n",
       "    \"animationDuration\": 1000,\n",
       "    \"animationEasing\": \"cubicOut\",\n",
       "    \"animationDelay\": 0,\n",
       "    \"animationDurationUpdate\": 300,\n",
       "    \"animationEasingUpdate\": \"cubicOut\",\n",
       "    \"animationDelayUpdate\": 0,\n",
       "    \"color\": [\n",
       "        \"#c23531\",\n",
       "        \"#2f4554\",\n",
       "        \"#61a0a8\",\n",
       "        \"#d48265\",\n",
       "        \"#749f83\",\n",
       "        \"#ca8622\",\n",
       "        \"#bda29a\",\n",
       "        \"#6e7074\",\n",
       "        \"#546570\",\n",
       "        \"#c4ccd3\",\n",
       "        \"#f05b72\",\n",
       "        \"#ef5b9c\",\n",
       "        \"#f47920\",\n",
       "        \"#905a3d\",\n",
       "        \"#fab27b\",\n",
       "        \"#2a5caa\",\n",
       "        \"#444693\",\n",
       "        \"#726930\",\n",
       "        \"#b2d235\",\n",
       "        \"#6d8346\",\n",
       "        \"#ac6767\",\n",
       "        \"#1d953f\",\n",
       "        \"#6950a1\",\n",
       "        \"#918597\"\n",
       "    ],\n",
       "    \"series\": [\n",
       "        {\n",
       "            \"type\": \"bar\",\n",
       "            \"name\": \"\\u67611\",\n",
       "            \"legendHoverLink\": true,\n",
       "            \"data\": [\n",
       "                1,\n",
       "                4,\n",
       "                7,\n",
       "                3,\n",
       "                2,\n",
       "                5,\n",
       "                6\n",
       "            ],\n",
       "            \"showBackground\": false,\n",
       "            \"barMinHeight\": 0,\n",
       "            \"barCategoryGap\": \"20%\",\n",
       "            \"barGap\": \"30%\",\n",
       "            \"large\": false,\n",
       "            \"largeThreshold\": 400,\n",
       "            \"seriesLayoutBy\": \"column\",\n",
       "            \"datasetIndex\": 0,\n",
       "            \"clip\": true,\n",
       "            \"zlevel\": 0,\n",
       "            \"z\": 2,\n",
       "            \"label\": {\n",
       "                \"show\": true,\n",
       "                \"position\": \"top\",\n",
       "                \"margin\": 8\n",
       "            }\n",
       "        },\n",
       "        {\n",
       "            \"type\": \"bar\",\n",
       "            \"name\": \"\\u67612\",\n",
       "            \"legendHoverLink\": true,\n",
       "            \"data\": [\n",
       "                6,\n",
       "                5,\n",
       "                3,\n",
       "                2,\n",
       "                7,\n",
       "                4,\n",
       "                1\n",
       "            ],\n",
       "            \"showBackground\": false,\n",
       "            \"barMinHeight\": 0,\n",
       "            \"barCategoryGap\": \"20%\",\n",
       "            \"barGap\": \"30%\",\n",
       "            \"large\": false,\n",
       "            \"largeThreshold\": 400,\n",
       "            \"seriesLayoutBy\": \"column\",\n",
       "            \"datasetIndex\": 0,\n",
       "            \"clip\": true,\n",
       "            \"zlevel\": 0,\n",
       "            \"z\": 2,\n",
       "            \"label\": {\n",
       "                \"show\": true,\n",
       "                \"position\": \"top\",\n",
       "                \"margin\": 8\n",
       "            }\n",
       "        }\n",
       "    ],\n",
       "    \"legend\": [\n",
       "        {\n",
       "            \"data\": [\n",
       "                \"\\u67611\",\n",
       "                \"\\u67612\"\n",
       "            ],\n",
       "            \"selected\": {\n",
       "                \"\\u67611\": true,\n",
       "                \"\\u67612\": true\n",
       "            }\n",
       "        }\n",
       "    ],\n",
       "    \"tooltip\": {\n",
       "        \"show\": true,\n",
       "        \"trigger\": \"item\",\n",
       "        \"triggerOn\": \"mousemove|click\",\n",
       "        \"axisPointer\": {\n",
       "            \"type\": \"line\"\n",
       "        },\n",
       "        \"showContent\": true,\n",
       "        \"alwaysShowContent\": false,\n",
       "        \"showDelay\": 0,\n",
       "        \"hideDelay\": 100,\n",
       "        \"textStyle\": {\n",
       "            \"fontSize\": 14\n",
       "        },\n",
       "        \"borderWidth\": 0,\n",
       "        \"padding\": 5\n",
       "    },\n",
       "    \"xAxis\": [\n",
       "        {\n",
       "            \"show\": true,\n",
       "            \"scale\": false,\n",
       "            \"nameLocation\": \"end\",\n",
       "            \"nameGap\": 15,\n",
       "            \"gridIndex\": 0,\n",
       "            \"inverse\": false,\n",
       "            \"offset\": 0,\n",
       "            \"splitNumber\": 5,\n",
       "            \"minInterval\": 0,\n",
       "            \"splitLine\": {\n",
       "                \"show\": false,\n",
       "                \"lineStyle\": {\n",
       "                    \"show\": true,\n",
       "                    \"width\": 1,\n",
       "                    \"opacity\": 1,\n",
       "                    \"curveness\": 0,\n",
       "                    \"type\": \"solid\"\n",
       "                }\n",
       "            },\n",
       "            \"data\": [\n",
       "                \"A\",\n",
       "                \"B\",\n",
       "                \"C\",\n",
       "                \"D\",\n",
       "                \"E\",\n",
       "                \"F\",\n",
       "                \"G\"\n",
       "            ]\n",
       "        }\n",
       "    ],\n",
       "    \"yAxis\": [\n",
       "        {\n",
       "            \"show\": true,\n",
       "            \"scale\": false,\n",
       "            \"nameLocation\": \"end\",\n",
       "            \"nameGap\": 15,\n",
       "            \"gridIndex\": 0,\n",
       "            \"inverse\": false,\n",
       "            \"offset\": 0,\n",
       "            \"splitNumber\": 5,\n",
       "            \"minInterval\": 0,\n",
       "            \"splitLine\": {\n",
       "                \"show\": false,\n",
       "                \"lineStyle\": {\n",
       "                    \"show\": true,\n",
       "                    \"width\": 1,\n",
       "                    \"opacity\": 1,\n",
       "                    \"curveness\": 0,\n",
       "                    \"type\": \"solid\"\n",
       "                }\n",
       "            }\n",
       "        }\n",
       "    ]\n",
       "};\n",
       "        chart_9508c16c2e1a46b2adf4133ce2244a8b.setOption(option_9508c16c2e1a46b2adf4133ce2244a8b);\n",
       "    </script>\n",
       "</body>\n",
       "</html>\n"
      ],
      "text/plain": [
       "<pyecharts.render.display.HTML at 0x208f4c9d580>"
      ]
     },
     "execution_count": 7,
     "metadata": {},
     "output_type": "execute_result"
    }
   ],
   "source": [
    "bar3=Bar(figsize)\n",
    "bar3.add_xaxis(X).add_yaxis(\"条1\",Y).add_yaxis(\"条2\",Z) #复试条图\n",
    "bar3.render_notebook()  "
   ]
  },
  {
   "cell_type": "code",
   "execution_count": null,
   "metadata": {},
   "outputs": [],
   "source": [
    "bar4=Bar(figsize)\n",
    "bar4.add_xaxis(X)           #分段条图\n",
    "bar4.add_yaxis(\"条1\",Y,stack=\"stack1\")\n",
    "bar4.add_yaxis(\"条2\",Z,stack=\"stack1\")\n",
    "bar4.render_notebook()  "
   ]
  },
  {
   "cell_type": "raw",
   "metadata": {},
   "source": [
    "#### 5.4.2.3 饼图"
   ]
  },
  {
   "cell_type": "code",
   "execution_count": null,
   "metadata": {},
   "outputs": [],
   "source": [
    "XY = [list(z) for z in zip(X,Y)];XY    #形成饼图数据列表格式 \n",
    "#XY.sort(key=lambda x: x[1]);XY         #数据从小到大排序  "
   ]
  },
  {
   "cell_type": "code",
   "execution_count": null,
   "metadata": {},
   "outputs": [],
   "source": [
    "from pyecharts.charts import Pie      #加载pyecharts绘制饼图(Pie)函数\n",
    "Pie(figsize).add(\"饼图\",XY).render_notebook()      "
   ]
  },
  {
   "cell_type": "code",
   "execution_count": null,
   "metadata": {},
   "outputs": [],
   "source": [
    "(Pie(figsize)\n",
    "     .add(\"\",XY)\n",
    "     .set_series_opts(opts.LabelOpts(formatter=\"{b}:{c}\")) #加标签饼图 \n",
    "     .render_notebook() \n",
    ")"
   ]
  },
  {
   "cell_type": "code",
   "execution_count": null,
   "metadata": {},
   "outputs": [],
   "source": [
    "Pie(figsize).add(\"玫瑰饼图\",XY,rosetype=\"radius\").render_notebook()"
   ]
  },
  {
   "cell_type": "code",
   "execution_count": null,
   "metadata": {},
   "outputs": [],
   "source": [
    "Pie(figsize).add('圆圈图',XY,radius=['10%','75%']).render_notebook()"
   ]
  },
  {
   "cell_type": "raw",
   "metadata": {},
   "source": [
    "#### 5.4.2.4 漏斗图"
   ]
  },
  {
   "cell_type": "code",
   "execution_count": null,
   "metadata": {},
   "outputs": [],
   "source": [
    "from pyecharts.charts import Funnel\n",
    "fun1=Funnel(figsize)\n",
    "fun1.add(\"漏斗图\", XY)\n",
    "fun1.render_notebook()\n",
    "#Funnel(figsize).add(\"漏斗图\", XY).render_notebook()"
   ]
  },
  {
   "cell_type": "code",
   "execution_count": null,
   "metadata": {},
   "outputs": [],
   "source": [
    "fun2=Funnel(figsize)\n",
    "fun2.add(\"漏斗图\", XY,label_opts=opts.LabelOpts(position=\"inside\"))     \n",
    "fun2.render_notebook()"
   ]
  },
  {
   "cell_type": "raw",
   "metadata": {},
   "source": [
    "#### 5.4.2.5 折线图"
   ]
  },
  {
   "cell_type": "code",
   "execution_count": null,
   "metadata": {},
   "outputs": [],
   "source": [
    "from pyecharts.charts import Line  #加载pyecharts绘制线图（Line）函数\n",
    "Line(figsize).add_xaxis(X).add_yaxis('线图',Y).render_notebook()"
   ]
  },
  {
   "cell_type": "code",
   "execution_count": null,
   "metadata": {},
   "outputs": [],
   "source": [
    "line2=Line(figsize)\n",
    "line2.add_xaxis(X).add_yaxis(\"线1\",Y).add_yaxis(\"线2\",Z)\n",
    "line2.render_notebook()"
   ]
  },
  {
   "cell_type": "markdown",
   "metadata": {},
   "source": [
    "### 5.4.3  基于数据框的绘图"
   ]
  },
  {
   "cell_type": "code",
   "execution_count": null,
   "metadata": {},
   "outputs": [],
   "source": [
    "import pandas as pd\n",
    "BS=pd.read_excel('DaPy_data.xlsx','BSdata');  #继续使用BSdata数据\n",
    "BS.head()"
   ]
  },
  {
   "cell_type": "markdown",
   "metadata": {},
   "source": [
    "#### 5.4.3.1 原始数据散点图"
   ]
  },
  {
   "cell_type": "code",
   "execution_count": null,
   "metadata": {},
   "outputs": [],
   "source": [
    "from pyecharts.charts import Scatter\n",
    "scatter1=Scatter(figsize)\n",
    "scatter1.add_xaxis(BS.身高).add_yaxis(\"\",BS.体重)\n",
    "scatter1.render_notebook()    #默认散点图的x轴和y轴从0开始"
   ]
  },
  {
   "cell_type": "code",
   "execution_count": null,
   "metadata": {},
   "outputs": [],
   "source": [
    "#修改x轴和y轴的刻度\n",
    "scatter2=(Scatter(figsize)\n",
    "   .add_xaxis(BS.身高) \n",
    "   .add_yaxis(\"散点图\",BS.体重,label_opts=opts.LabelOpts(is_show=False))  \n",
    "   .set_global_opts(\n",
    "       xaxis_opts=opts.AxisOpts(min_=150), #x轴最小150\n",
    "       yaxis_opts=opts.AxisOpts(min_=40)   #y轴最小40 \n",
    "   )\n",
    ")\n",
    "scatter2.render_notebook()"
   ]
  },
  {
   "cell_type": "markdown",
   "metadata": {},
   "source": [
    "### 5.4.3.2 统计数据的条图"
   ]
  },
  {
   "cell_type": "code",
   "execution_count": null,
   "metadata": {},
   "outputs": [],
   "source": [
    "#基本的pyecharts绘图是基于列表数据的, 通常需将数据框转换成列表\n",
    "pt1=BS.pivot_table(index=['性别'],values=['学号'],aggfunc=len); pt1"
   ]
  },
  {
   "cell_type": "code",
   "execution_count": null,
   "metadata": {},
   "outputs": [],
   "source": [
    "from pyecharts.charts import Bar  \n",
    "(Bar(figsize)\n",
    "     .add_xaxis(list(pt1.index))\n",
    "     .add_yaxis(\"性别统计图\",list(pt1.学号))\n",
    "     .render_notebook()\n",
    ")"
   ]
  },
  {
   "cell_type": "code",
   "execution_count": null,
   "metadata": {},
   "outputs": [],
   "source": [
    "pt2=BS.pivot_table(['学号'],['开设'],['性别'],aggfunc=len); pt2"
   ]
  },
  {
   "cell_type": "code",
   "execution_count": null,
   "metadata": {},
   "outputs": [],
   "source": [
    "(Bar(figsize)\n",
    "     .add_xaxis(list(pt2.index))\n",
    "     .add_yaxis(\"女\",list(pt2.学号.女))\n",
    "     .add_yaxis(\"男\",list(pt2.学号.男))\n",
    "     .render_notebook()\n",
    ")"
   ]
  },
  {
   "cell_type": "code",
   "execution_count": null,
   "metadata": {},
   "outputs": [],
   "source": [
    "import numpy as np\n",
    "pt3=BS.pivot_table([\"支出\"],['开设'],aggfunc={np.mean,np.std});\n",
    "pt3=pt3.round(2); pt3   #pt3['支出']['mean']"
   ]
  },
  {
   "cell_type": "code",
   "execution_count": null,
   "metadata": {},
   "outputs": [],
   "source": [
    "(Bar(figsize)\n",
    "      .add_xaxis(list(pt3.index))\n",
    "      .add_yaxis(\"均值\",list(pt3['支出']['mean']))  #list(pt3.iloc[:,0])\n",
    "      .add_yaxis(\"标准差\",list(pt3['支出']['std']))\n",
    "      .render_notebook()\n",
    ")"
   ]
  },
  {
   "cell_type": "markdown",
   "metadata": {},
   "source": [
    "## 习题5"
   ]
  },
  {
   "cell_type": "code",
   "execution_count": null,
   "metadata": {},
   "outputs": [],
   "source": [
    "#!pip install pydataset           #安装python数据包"
   ]
  },
  {
   "cell_type": "code",
   "execution_count": null,
   "metadata": {},
   "outputs": [],
   "source": [
    "from pydataset import data        #加载数据包\n",
    "data()                            #查看可用数据表  "
   ]
  },
  {
   "cell_type": "code",
   "execution_count": null,
   "metadata": {},
   "outputs": [],
   "source": [
    "data('JohnsonJohnson')"
   ]
  },
  {
   "cell_type": "code",
   "execution_count": null,
   "metadata": {},
   "outputs": [],
   "source": [
    "economics = data('economics')     #调用数据表\n",
    "data('economics',show_doc=True)   #显示数据表的属性"
   ]
  },
  {
   "cell_type": "code",
   "execution_count": null,
   "metadata": {},
   "outputs": [],
   "source": []
  }
 ],
 "metadata": {
  "kernelspec": {
   "display_name": "Python 3",
   "language": "python",
   "name": "python3"
  },
  "language_info": {
   "codemirror_mode": {
    "name": "ipython",
    "version": 3
   },
   "file_extension": ".py",
   "mimetype": "text/x-python",
   "name": "python",
   "nbconvert_exporter": "python",
   "pygments_lexer": "ipython3",
   "version": "3.8.5"
  },
  "toc-autonumbering": false,
  "toc-showtags": false
 },
 "nbformat": 4,
 "nbformat_minor": 4
}
