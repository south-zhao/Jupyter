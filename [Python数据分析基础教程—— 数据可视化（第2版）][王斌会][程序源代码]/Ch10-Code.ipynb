{
 "cells": [
  {
   "cell_type": "markdown",
   "metadata": {},
   "source": [
    "# 《数据可视化》 　—— 　基于Python的应用"
   ]
  },
  {
   "cell_type": "markdown",
   "metadata": {},
   "source": [
    "## 第1章  数据分析软件简介"
   ]
  },
  {
   "cell_type": "markdown",
   "metadata": {},
   "source": [
    "## 第2章  数据的收集与整理\n",
    "\n",
    "## 第3章  Python编程基础\n",
    "\n",
    "## 第4章  数据的探索分析\n",
    "\n",
    "## 第5章  数据的直观分析\n",
    "\n",
    "## 第6章  数据的统计分析\n",
    "\n",
    "## 第7章  数据的模型分析\n",
    "\n",
    "## 第8章  数据的预测分析\n",
    "\n",
    "## 第9章  数据的决策分析"
   ]
  },
  {
   "cell_type": "markdown",
   "metadata": {},
   "source": [
    "# 第10章 数据在线分析及可视化"
   ]
  },
  {
   "cell_type": "markdown",
   "metadata": {},
   "source": [
    "<img src=\"./Fig/Mind10.png\" width=\"1200\">"
   ]
  },
  {
   "cell_type": "markdown",
   "metadata": {},
   "source": [
    "## 10.1 Tushare数据的可视化分析"
   ]
  },
  {
   "cell_type": "markdown",
   "metadata": {},
   "source": [
    "### 　10.1.1 股市基本数据的获取与分析"
   ]
  },
  {
   "cell_type": "code",
   "execution_count": null,
   "metadata": {},
   "outputs": [],
   "source": [
    "from IPython.display import IFrame\n",
    "IFrame(\"http://tushare.pro\",width=960,height=700)"
   ]
  },
  {
   "cell_type": "code",
   "execution_count": null,
   "metadata": {},
   "outputs": [],
   "source": [
    "#!pip install tushare --upgrade"
   ]
  },
  {
   "cell_type": "code",
   "execution_count": null,
   "metadata": {},
   "outputs": [],
   "source": [
    "import tushare as ts    #调用 tushare 包"
   ]
  },
  {
   "cell_type": "raw",
   "metadata": {},
   "source": [
    "10.1.1.1 上市公司的基本信息"
   ]
  },
  {
   "cell_type": "code",
   "execution_count": null,
   "metadata": {},
   "outputs": [],
   "source": [
    "#s_b=ts.get_stock_basics()\n",
    "#s_b=ts.get_stock_basics(); #在线获取股票信息，每次读取数据可能不一样\n",
    "#s_b.info(); #sb"
   ]
  },
  {
   "cell_type": "code",
   "execution_count": null,
   "metadata": {},
   "outputs": [],
   "source": [
    "import pandas as pd        #读取已保存的本地股票信息\n",
    "s_b=pd.read_excel('./data/tushare.xlsx','stock_basics',index_col=0); \n",
    "s_b.info()"
   ]
  },
  {
   "cell_type": "code",
   "execution_count": null,
   "metadata": {},
   "outputs": [],
   "source": [
    "s_b#.iloc[:6,:9]  #显示前6行7列数据"
   ]
  },
  {
   "cell_type": "code",
   "execution_count": null,
   "metadata": {},
   "outputs": [],
   "source": [
    "#s_b.to_csv('stock_basics.csv')                   #保存数据到csv表格中\n",
    "#s_b=pd.read_csv('stock_basics.csv',index_col=0) #从csv文档中读取数据"
   ]
  },
  {
   "cell_type": "raw",
   "metadata": {},
   "source": [
    "10.1.1.2 股市基本数据的分析"
   ]
  },
  {
   "cell_type": "code",
   "execution_count": null,
   "metadata": {},
   "outputs": [],
   "source": [
    "s_b_c=s_b.industry.value_counts(); s_b_c"
   ]
  },
  {
   "cell_type": "code",
   "execution_count": null,
   "metadata": {},
   "outputs": [],
   "source": [
    "from pandas import DataFrame as DF  #设置结果以数据框形式输出\n",
    "DF(s_b_c)   #pd.DataFrame(s_b_c)  "
   ]
  },
  {
   "cell_type": "code",
   "execution_count": null,
   "metadata": {},
   "outputs": [],
   "source": [
    "%config InlineBackend.figure_format='retina' #提高图形显示的清晰度\n",
    "import matplotlib.pyplot as plt            \n",
    "plt.rcParams['font.sans-serif']=['SimHei'];  #中文字为黑体\n",
    "s_b_c[:10].plot(kind='barh');                #前10个行业水平条图"
   ]
  },
  {
   "cell_type": "code",
   "execution_count": null,
   "metadata": {},
   "outputs": [],
   "source": [
    "#按行业(industry)计算平均收益率(esp)并排序\n",
    "i_e=s_b.groupby(['industry'])['esp'].mean().sort_values();\n",
    "DF(i_e)"
   ]
  },
  {
   "cell_type": "code",
   "execution_count": null,
   "metadata": {},
   "outputs": [],
   "source": [
    "DF(i_e.head(10))  #收益率最差的10个行业"
   ]
  },
  {
   "cell_type": "code",
   "execution_count": null,
   "metadata": {},
   "outputs": [],
   "source": [
    "plt.rcParams['axes.unicode_minus']=False;          #正常显示图中负号\n",
    "i_e.head(10).plot(kind='bar');"
   ]
  },
  {
   "cell_type": "code",
   "execution_count": null,
   "metadata": {},
   "outputs": [],
   "source": [
    "DF(i_e.tail(10))   #收益率最好的10个行业"
   ]
  },
  {
   "cell_type": "code",
   "execution_count": null,
   "metadata": {},
   "outputs": [],
   "source": [
    "i_e.tail(10).plot(kind='barh');"
   ]
  },
  {
   "cell_type": "code",
   "execution_count": null,
   "metadata": {},
   "outputs": [],
   "source": [
    "#按地区(area)和行业(industry)计算平均收益率(esp)并排序\n",
    "a_i_e=s_b.groupby(['area','industry'])['esp'].mean().sort_values();\n",
    "DF(a_i_e)  "
   ]
  },
  {
   "cell_type": "code",
   "execution_count": null,
   "metadata": {},
   "outputs": [],
   "source": [
    "GD_e1=DF(a_i_e['广东'].head(10)); GD_e1  #广东省收益率最差的10个行业"
   ]
  },
  {
   "cell_type": "code",
   "execution_count": null,
   "metadata": {},
   "outputs": [],
   "source": [
    "GD_e2=DF(a_i_e['广东'].tail(10)); GD_e2 #广东省收益率最好的10个行业"
   ]
  },
  {
   "cell_type": "code",
   "execution_count": null,
   "metadata": {},
   "outputs": [],
   "source": [
    "GD_e12=pd.concat([GD_e1,GD_e2]); GD_e12  #广东省收益率最差和最好的10个行业合并"
   ]
  },
  {
   "cell_type": "code",
   "execution_count": null,
   "metadata": {},
   "outputs": [],
   "source": [
    "GD_e12.plot(kind='bar').axhline(y=0);"
   ]
  },
  {
   "cell_type": "raw",
   "metadata": {},
   "source": [
    "10.1.1.3 新股发行数据的分析"
   ]
  },
  {
   "cell_type": "code",
   "execution_count": null,
   "metadata": {},
   "outputs": [],
   "source": [
    "#n_s=ts.new_stocks(); n_s.info()"
   ]
  },
  {
   "cell_type": "code",
   "execution_count": null,
   "metadata": {},
   "outputs": [],
   "source": [
    "n_s=pd.read_excel('tushare.xlsx','new_stocks',index_col=0); n_s.info()"
   ]
  },
  {
   "cell_type": "code",
   "execution_count": null,
   "metadata": {},
   "outputs": [],
   "source": [
    "n_s#.iloc[:6,:7]  #显示前6行7列数据"
   ]
  },
  {
   "cell_type": "code",
   "execution_count": null,
   "metadata": {},
   "outputs": [],
   "source": [
    "#n_s.to_csv('new_stocks.csv')                     #保存数据到csv表格中\n",
    "#n_s=pd.read_csv('new_stocks.csv',index_col=0)   #从csv文件中读取数据"
   ]
  },
  {
   "cell_type": "code",
   "execution_count": null,
   "metadata": {},
   "outputs": [],
   "source": [
    "n_s20=n_s.loc[n_s.ipo_date>='2020-01-01',]; n_s20.iloc[:,:7]  #2020年发行的新股"
   ]
  },
  {
   "cell_type": "code",
   "execution_count": null,
   "metadata": {},
   "outputs": [],
   "source": [
    "#2020年发行量最大的10支新股\n",
    "n_s20.sort_values(by='amount',ascending=False).iloc[:10,:7]"
   ]
  },
  {
   "cell_type": "code",
   "execution_count": null,
   "metadata": {},
   "outputs": [],
   "source": [
    "#2020年中签率最高的10支新股\n",
    "n_s20.sort_values(by='ballot').iloc[-10:,[0,1,2,3,4,5,11]] "
   ]
  },
  {
   "cell_type": "code",
   "execution_count": null,
   "metadata": {},
   "outputs": [],
   "source": [
    "plt.plot(n_s20.amount, n_s20.ballot,'o'); #发行量和中签率之间的散点图 "
   ]
  },
  {
   "cell_type": "code",
   "execution_count": null,
   "metadata": {},
   "outputs": [],
   "source": [
    "n_s20.amount.corr(n_s20.ballot) #发行量和中签率之间的相关系数"
   ]
  },
  {
   "cell_type": "markdown",
   "metadata": {},
   "source": [
    "### 　10.1.2 证券交易数据的获取与分析"
   ]
  },
  {
   "cell_type": "raw",
   "metadata": {},
   "source": [
    "10.1.2.1 历史行情数据分析"
   ]
  },
  {
   "cell_type": "code",
   "execution_count": null,
   "metadata": {},
   "outputs": [],
   "source": [
    "h_s=pd.read_excel('tushare.xlsx','hist_data',index_col=0); h_s.info()\n",
    "#h_s=ts.get_hist_data('hs300'); h_s.info()  #在线获取沪深300指数数据"
   ]
  },
  {
   "cell_type": "code",
   "execution_count": null,
   "metadata": {},
   "outputs": [],
   "source": [
    "h_s#.iloc[:6,:7]   #显示前6行7列数据"
   ]
  },
  {
   "cell_type": "code",
   "execution_count": null,
   "metadata": {},
   "outputs": [],
   "source": [
    "h_s.sort_index(inplace=True); #按时间重新排序 \n",
    "h_s#.iloc[:6,:7]      #显示排序后数据的前6行7列"
   ]
  },
  {
   "cell_type": "code",
   "execution_count": null,
   "metadata": {},
   "outputs": [],
   "source": [
    "h_s['close'].plot(figsize=(10,6));"
   ]
  },
  {
   "cell_type": "code",
   "execution_count": null,
   "metadata": {},
   "outputs": [],
   "source": [
    "h_s['price_change'].plot(figsize=(10,6)).axhline(y=0,color='red');"
   ]
  },
  {
   "cell_type": "code",
   "execution_count": null,
   "metadata": {},
   "outputs": [],
   "source": [
    "h_s[['close','ma5','ma10','ma20']].plot(figsize=(10,6));"
   ]
  },
  {
   "cell_type": "raw",
   "metadata": {},
   "source": [
    "10.1.2.2 公司盈利能力分析"
   ]
  },
  {
   "cell_type": "code",
   "execution_count": null,
   "metadata": {},
   "outputs": [],
   "source": [
    "#获取本地2020年第1季度的盈利能力数据  \n",
    "p_d=ts.get_profit_data(2020,1); p_d.info() #在线获取2020年第1季度的盈利能力数据\n",
    "#p_d=pd.read_excel('tushare.xlsx','profit_data',index_col=0); p_d.info()  "
   ]
  },
  {
   "cell_type": "code",
   "execution_count": null,
   "metadata": {},
   "outputs": [],
   "source": [
    "p_d.columns=['代码','名称','净收益率','净利润率','毛利润率',\n",
    "             '净利润额', '每股收益','营业收入','主营收入']\n",
    "p_d['代码'] = p_d['代码'].astype(str) #强制代码列为字符串\n",
    "p_d.head()"
   ]
  },
  {
   "cell_type": "code",
   "execution_count": null,
   "metadata": {},
   "outputs": [],
   "source": [
    "p_d.describe() #基本统计分析"
   ]
  },
  {
   "cell_type": "code",
   "execution_count": null,
   "metadata": {},
   "outputs": [],
   "source": [
    "p_d.corr()   #相关性分析"
   ]
  },
  {
   "cell_type": "code",
   "execution_count": null,
   "metadata": {},
   "outputs": [],
   "source": [
    "pd.plotting.scatter_matrix(p_d,figsize=(10,8));     #矩阵散点图"
   ]
  },
  {
   "cell_type": "markdown",
   "metadata": {},
   "source": [
    "### 　10.1.3 Tushare数据的保存及扩展"
   ]
  },
  {
   "cell_type": "raw",
   "metadata": {},
   "source": [
    "10.1.3.1 Tushare数据的保存"
   ]
  },
  {
   "cell_type": "code",
   "execution_count": null,
   "metadata": {},
   "outputs": [],
   "source": [
    "xlsx = pd.ExcelWriter('tushare.xlsx')\n",
    "s_b.to_excel(xlsx,'stock_basics')    #沪深上市公司的基本信息\n",
    "n_s.to_excel(xlsx,'new_stocks')      #新股发行数据\n",
    "h_s.to_excel(xlsx,'hist_data')       #沪深300近三年历史行情数据\n",
    "p_d.to_excel(xlsx,'profit_data')     #公司盈利能力数据\n",
    "xlsx.save()"
   ]
  },
  {
   "cell_type": "raw",
   "metadata": {},
   "source": [
    "10.1.3.2 Tushare平台的扩展"
   ]
  },
  {
   "cell_type": "markdown",
   "metadata": {},
   "source": [
    "## 10.2 新浪财经数据的获取与分析"
   ]
  },
  {
   "cell_type": "markdown",
   "metadata": {},
   "source": [
    "### 　10.2.1 国内生产总值的复制与分析"
   ]
  },
  {
   "cell_type": "raw",
   "metadata": {},
   "source": [
    "10.2.1.1 国内生产总值的复制与分析"
   ]
  },
  {
   "cell_type": "code",
   "execution_count": null,
   "metadata": {},
   "outputs": [],
   "source": [
    "from IPython.display import IFrame\n",
    "IFrame(\"http://finance.sina.com.cn/mac\",width=960,height=560)"
   ]
  },
  {
   "cell_type": "code",
   "execution_count": null,
   "metadata": {},
   "outputs": [],
   "source": [
    "import pandas as pd\n",
    "GDP=pd.read_clipboard(index_col=0);GDP "
   ]
  },
  {
   "cell_type": "code",
   "execution_count": null,
   "metadata": {},
   "outputs": [],
   "source": [
    "GDP.plot();"
   ]
  },
  {
   "cell_type": "code",
   "execution_count": null,
   "metadata": {},
   "outputs": [],
   "source": [
    "GDP.sort_index(inplace=True); GDP   #按年份排序"
   ]
  },
  {
   "cell_type": "code",
   "execution_count": null,
   "metadata": {},
   "outputs": [],
   "source": [
    "import matplotlib.pyplot as plt            \n",
    "plt.rcParams['font.sans-serif']=['SimHei'];  #中文字为黑体\n",
    "GDP.plot(kind='bar',y=['国内生产总值(亿元)','人均国内生产总值(元)'],\n",
    "         secondary_y=['人均国内生产总值(元)']);"
   ]
  },
  {
   "cell_type": "code",
   "execution_count": null,
   "metadata": {},
   "outputs": [],
   "source": [
    "from pyecharts.globals import CurrentConfig,NotebookType   #在NoteBook中设置pyecharts绘图\n",
    "CurrentConfig.NOTEBOOK_TYPE = NotebookType.JUPYTER_LAB     #在Jupyterlab中显示pyecharts图\n",
    "import pyecharts.options as opts                           #加载pyecharts全局参数\n",
    "figsize=opts.InitOpts(width='600px',height='400px',bg_color='white') #设置图形大小和背景色 "
   ]
  },
  {
   "cell_type": "code",
   "execution_count": null,
   "metadata": {},
   "outputs": [],
   "source": [
    "from pyecharts.charts import Bar  #加载pyecharts绘制条图（Bar）函数\n",
    "Bar().load_javascript()           #制图前需加载一次JavaScript函数！！"
   ]
  },
  {
   "cell_type": "code",
   "execution_count": null,
   "metadata": {},
   "outputs": [],
   "source": [
    "(Bar(figsize)\n",
    "     .add_xaxis(list(GDP.index))\n",
    "     .add_yaxis('国内生产总值(亿元)',list(GDP['国内生产总值(亿元)']))     \n",
    "     .render_notebook()   \n",
    ")"
   ]
  },
  {
   "cell_type": "raw",
   "metadata": {},
   "source": [
    "10.2.1.2 存贷款基准利率的走势分析"
   ]
  },
  {
   "cell_type": "code",
   "execution_count": null,
   "metadata": {},
   "outputs": [],
   "source": [
    "Rate=pd.read_clipboard(index_col=0);Rate"
   ]
  },
  {
   "cell_type": "code",
   "execution_count": null,
   "metadata": {},
   "outputs": [],
   "source": [
    "Rate.sort_index(inplace=True); Rate  #按日期排序"
   ]
  },
  {
   "cell_type": "code",
   "execution_count": null,
   "metadata": {},
   "outputs": [],
   "source": [
    "from pyecharts.charts import Line  #加载pyecharts绘制线图（Line）函数\n",
    "(Line(figsize)\n",
    "     .add_xaxis(list(Rate.index))\n",
    "     .add_yaxis('存款利率(%)',list(Rate['存款利率(%)']))\n",
    "     .add_yaxis('贷款利率(%)',list(Rate['贷款利率(%)']))\n",
    "     .render_notebook()\n",
    ")"
   ]
  },
  {
   "cell_type": "markdown",
   "metadata": {},
   "source": [
    "### 　10.2.2 板块行情数据的抓取与分析"
   ]
  },
  {
   "cell_type": "raw",
   "metadata": {},
   "source": [
    "10.2.2.1 次新股数据的复制方法"
   ]
  },
  {
   "cell_type": "code",
   "execution_count": null,
   "metadata": {},
   "outputs": [],
   "source": [
    "new_stock=pd.read_clipboard(index_col=0);new_stock"
   ]
  },
  {
   "cell_type": "raw",
   "metadata": {},
   "source": [
    "10.2.2.2 次新股数据的基本分析"
   ]
  },
  {
   "cell_type": "code",
   "execution_count": null,
   "metadata": {},
   "outputs": [],
   "source": [
    "new_stock.sort_values(by='涨跌额',ascending=False).head(10) #涨幅前十的新股"
   ]
  },
  {
   "cell_type": "code",
   "execution_count": null,
   "metadata": {},
   "outputs": [],
   "source": [
    "new_stock.to_csv('new_stock.csv')                     #保存数据到csv表格中\n",
    "#new_stock=pd.read_csv('new_stock.csv',index_col=0)   #从csv文档中读取数据"
   ]
  },
  {
   "cell_type": "markdown",
   "metadata": {},
   "source": [
    "## 10.3  中商情报数据的可视化分析 "
   ]
  },
  {
   "cell_type": "code",
   "execution_count": null,
   "metadata": {},
   "outputs": [],
   "source": [
    "from IPython.display import IFrame\n",
    "IFrame(\"https://s.askci.com\",width=1000,height=400)"
   ]
  },
  {
   "cell_type": "markdown",
   "metadata": {},
   "source": [
    "### 　10.3.1 宏观经济数据爬取与分析"
   ]
  },
  {
   "cell_type": "raw",
   "metadata": {},
   "source": [
    "10.3.1.1 行政区划数据的抓取"
   ]
  },
  {
   "cell_type": "code",
   "execution_count": null,
   "metadata": {},
   "outputs": [],
   "source": [
    "IFrame(\"https://s.askci.com/data/year\",width=1200,height=800)"
   ]
  },
  {
   "cell_type": "code",
   "execution_count": null,
   "metadata": {},
   "outputs": [],
   "source": [
    "import requests                                   #加载爬虫库\n",
    "url='https://s.askci.com/data/year'               #综合数据之行政区划页\n",
    "html = requests.get(url).content.decode('utf-8'); #获取网页信息\n",
    "html[:10]                                        #显示网页信息，前300个字符"
   ]
  },
  {
   "cell_type": "code",
   "execution_count": null,
   "metadata": {},
   "outputs": [],
   "source": [
    "#获取第1页表格数据：行政区划，依次类推 [0,1,2,3,4]\n",
    "admin=pd.read_html(html,header=0,index_col=0)[0]; admin"
   ]
  },
  {
   "cell_type": "code",
   "execution_count": null,
   "metadata": {},
   "outputs": [],
   "source": [
    "admin[:1].T.plot(kind='bar',ylim=[0,500]); #地级区划数图"
   ]
  },
  {
   "cell_type": "raw",
   "metadata": {},
   "source": [
    "10.3.1.2 国内生产总值数据的抓取"
   ]
  },
  {
   "cell_type": "code",
   "execution_count": null,
   "metadata": {},
   "outputs": [],
   "source": [
    "url='https://s.askci.com/data/year/a02/'   #国民经济核算之国内生产总值页\n",
    "html = requests.get(url).content.decode('utf-8'); \n",
    "gdp=pd.read_html(html,header=0,index_col=0)[0]; gdp"
   ]
  },
  {
   "cell_type": "code",
   "execution_count": null,
   "metadata": {},
   "outputs": [],
   "source": [
    "gdp[:2].T.plot(kind='bar'); #国民总收入和国内生产总值"
   ]
  },
  {
   "cell_type": "markdown",
   "metadata": {},
   "source": [
    "### 　10.3.2 A股股票信息的爬取与分析"
   ]
  },
  {
   "cell_type": "raw",
   "metadata": {},
   "source": [
    "10.3.2.1 A股收益数据的抓取"
   ]
  },
  {
   "cell_type": "code",
   "execution_count": null,
   "metadata": {},
   "outputs": [],
   "source": [
    "IFrame(\"https://s.askci.com/stock/a\",width=1400,height=1000)  #网页中有四个主表数据"
   ]
  },
  {
   "cell_type": "code",
   "execution_count": null,
   "metadata": {},
   "outputs": [],
   "source": [
    "import requests\n",
    "url='https://s.askci.com/stock/a'  #A股信息\n",
    "html = requests.get(url).content.decode('utf-8'); "
   ]
  },
  {
   "cell_type": "code",
   "execution_count": null,
   "metadata": {},
   "outputs": [],
   "source": [
    "import pandas as pd\n",
    "pd.read_html(html,header=0)[0] # 获取第1个表格数据：A股公司营业收入排行榜(2019年)"
   ]
  },
  {
   "cell_type": "code",
   "execution_count": null,
   "metadata": {},
   "outputs": [],
   "source": [
    "#获取第2个表格数据：A股公司净利润排行榜(2019年)\n",
    "pd.read_html(html,header=0)[1] "
   ]
  },
  {
   "cell_type": "code",
   "execution_count": null,
   "metadata": {},
   "outputs": [],
   "source": [
    "#获取第3个表格数据：A股公司利润总额排行榜(2019年)\n",
    "pd.read_html(html,header=0)[2] "
   ]
  },
  {
   "cell_type": "raw",
   "metadata": {},
   "source": [
    "10.3.2.2  A股股票信息的爬取"
   ]
  },
  {
   "cell_type": "code",
   "execution_count": null,
   "metadata": {},
   "outputs": [],
   "source": [
    "# 构建获取当前页的第4个表格数据的函数，其中i表示第i页，即取pageNum=i,以此类推！\n",
    "def get_stock(i): \n",
    "    url='https://s.askci.com/stock/a/0-0?reportTime=2020-03-31&pageNum=' \n",
    "    html = requests.get(url+str(i)).content.decode('utf-8'); \n",
    "    data=pd.read_html(html,header=0)[3] \n",
    "    return data"
   ]
  },
  {
   "cell_type": "code",
   "execution_count": null,
   "metadata": {},
   "outputs": [],
   "source": [
    "stock1=get_stock(1);stock1      #第1页A股信息"
   ]
  },
  {
   "cell_type": "code",
   "execution_count": null,
   "metadata": {},
   "outputs": [],
   "source": [
    "stock1.to_csv('A股信息1.csv',index=False, encoding='utf-8') #保存第1页A股信息"
   ]
  },
  {
   "cell_type": "code",
   "execution_count": null,
   "metadata": {},
   "outputs": [],
   "source": [
    "stock = get_stock(1)    #获取第1页数据\n",
    "for i in range(2,10):   #获取2到10页数据,共有202页数据，全部爬取需长时间\n",
    "    stock = pd.concat([stock,get_stock(i)])   #拼接表格数据\n",
    "stock"
   ]
  },
  {
   "cell_type": "code",
   "execution_count": null,
   "metadata": {},
   "outputs": [],
   "source": [
    "#stock.to_csv('上市公司信息.csv', index=False, encoding='utf-8')"
   ]
  },
  {
   "cell_type": "code",
   "execution_count": null,
   "metadata": {},
   "outputs": [],
   "source": []
  }
 ],
 "metadata": {
  "kernelspec": {
   "display_name": "Python 3",
   "language": "python",
   "name": "python3"
  },
  "language_info": {
   "codemirror_mode": {
    "name": "ipython",
    "version": 3
   },
   "file_extension": ".py",
   "mimetype": "text/x-python",
   "name": "python",
   "nbconvert_exporter": "python",
   "pygments_lexer": "ipython3",
   "version": "3.8.5"
  },
  "toc": {
   "base_numbering": 1,
   "nav_menu": {},
   "number_sections": true,
   "sideBar": true,
   "skip_h1_title": false,
   "title_cell": "Table of Contents",
   "title_sidebar": "Contents",
   "toc_cell": false,
   "toc_position": {},
   "toc_section_display": true,
   "toc_window_display": true
  }
 },
 "nbformat": 4,
 "nbformat_minor": 4
}
