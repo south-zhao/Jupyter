{
 "cells": [
  {
   "cell_type": "markdown",
   "metadata": {},
   "source": [
    "# 《数据可视化》—— 基于Python的应用"
   ]
  },
  {
   "cell_type": "markdown",
   "metadata": {},
   "source": [
    "## 第4章 数据的探索性分析"
   ]
  },
  {
   "cell_type": "markdown",
   "metadata": {},
   "source": [
    "### 第4章思维导图 \n",
    "<img src=\"./Fig/Mind4.png\" width=\"1000\">"
   ]
  },
  {
   "cell_type": "markdown",
   "metadata": {},
   "source": [
    "### 4.1 数据的描述分析"
   ]
  },
  {
   "cell_type": "code",
   "execution_count": 1,
   "metadata": {},
   "outputs": [],
   "source": [
    "import pandas as pd\n",
    "BSdata=pd.read_excel('DaPy_data.xlsx','BSdata'); #BSdata  #读取数据"
   ]
  },
  {
   "cell_type": "markdown",
   "metadata": {},
   "source": [
    "### 4.1.1 计数据汇总分析"
   ]
  },
  {
   "cell_type": "raw",
   "metadata": {},
   "source": [
    "（1）频数：绝对数 "
   ]
  },
  {
   "cell_type": "code",
   "execution_count": 2,
   "metadata": {},
   "outputs": [
    {
     "data": {
      "text/plain": [
       "男    27\n",
       "女    25\n",
       "Name: 性别, dtype: int64"
      ]
     },
     "execution_count": 2,
     "metadata": {},
     "output_type": "execute_result"
    }
   ],
   "source": [
    "T1=BSdata['性别'].value_counts();T1 "
   ]
  },
  {
   "cell_type": "raw",
   "metadata": {},
   "source": [
    "（2）频率：相对数 "
   ]
  },
  {
   "cell_type": "code",
   "execution_count": null,
   "metadata": {},
   "outputs": [],
   "source": [
    "T1/sum(T1)*100"
   ]
  },
  {
   "cell_type": "markdown",
   "metadata": {},
   "source": [
    "### 4.1.2 计量数据汇总分析"
   ]
  },
  {
   "cell_type": "raw",
   "metadata": {},
   "source": [
    "（1）均数（算术平均数）"
   ]
  },
  {
   "cell_type": "code",
   "execution_count": null,
   "metadata": {},
   "outputs": [],
   "source": [
    "X=BSdata.身高;"
   ]
  },
  {
   "cell_type": "code",
   "execution_count": null,
   "metadata": {},
   "outputs": [],
   "source": [
    "X.mean()"
   ]
  },
  {
   "cell_type": "raw",
   "metadata": {},
   "source": [
    "（2）中位数 "
   ]
  },
  {
   "cell_type": "code",
   "execution_count": null,
   "metadata": {},
   "outputs": [],
   "source": [
    "X.median()"
   ]
  },
  {
   "cell_type": "raw",
   "metadata": {},
   "source": [
    "（3）极差                      "
   ]
  },
  {
   "cell_type": "code",
   "execution_count": null,
   "metadata": {},
   "outputs": [],
   "source": [
    "R=X.max()-X.min();R"
   ]
  },
  {
   "cell_type": "markdown",
   "metadata": {},
   "source": [
    "（4）方差"
   ]
  },
  {
   "cell_type": "code",
   "execution_count": null,
   "metadata": {},
   "outputs": [],
   "source": [
    "X.var() "
   ]
  },
  {
   "cell_type": "markdown",
   "metadata": {},
   "source": [
    "（5）标准差"
   ]
  },
  {
   "cell_type": "code",
   "execution_count": null,
   "metadata": {},
   "outputs": [],
   "source": [
    "X.std() "
   ]
  },
  {
   "cell_type": "markdown",
   "metadata": {},
   "source": [
    "（6）四分位数间距（IQR）                     "
   ]
  },
  {
   "cell_type": "code",
   "execution_count": null,
   "metadata": {},
   "outputs": [],
   "source": [
    "X.quantile(0.75)-X.quantile(0.25) "
   ]
  },
  {
   "cell_type": "markdown",
   "metadata": {},
   "source": [
    "（7）偏度"
   ]
  },
  {
   "cell_type": "code",
   "execution_count": null,
   "metadata": {},
   "outputs": [],
   "source": [
    "X.skew() "
   ]
  },
  {
   "cell_type": "raw",
   "metadata": {},
   "source": [
    "（8）峰度"
   ]
  },
  {
   "cell_type": "code",
   "execution_count": null,
   "metadata": {},
   "outputs": [],
   "source": [
    "X.kurt()"
   ]
  },
  {
   "cell_type": "markdown",
   "metadata": {},
   "source": [
    "### 4.1.3 汇总性统计量"
   ]
  },
  {
   "cell_type": "code",
   "execution_count": null,
   "metadata": {},
   "outputs": [],
   "source": [
    "BSdata.describe()   #默认为计算计量数据的基本统计量"
   ]
  },
  {
   "cell_type": "code",
   "execution_count": null,
   "metadata": {},
   "outputs": [],
   "source": [
    "#BSdata[['性别','开设','课程','软件']].describe() #计数数据统计"
   ]
  },
  {
   "cell_type": "markdown",
   "metadata": {},
   "source": [
    "> 自编计算基本统计量函数"
   ]
  },
  {
   "cell_type": "code",
   "execution_count": null,
   "metadata": {},
   "outputs": [],
   "source": [
    "def stats(x): \n",
    "    stat=[x.count(),x.mean(),x.std(),x.min(),x.quantile(.25),x.median(), x.quantile(.75),x.max(),x.skew(),x.kurt()] \n",
    "    stat=pd.Series(stat,index=['count','mean','std','Min', '25%','50%','75%', 'max','skew','kurt'])\n",
    "    return(stat) "
   ]
  },
  {
   "cell_type": "code",
   "execution_count": null,
   "metadata": {},
   "outputs": [],
   "source": [
    "stats(BSdata.身高)"
   ]
  },
  {
   "cell_type": "code",
   "execution_count": null,
   "metadata": {},
   "outputs": [],
   "source": [
    "stats(BSdata.支出)"
   ]
  },
  {
   "cell_type": "markdown",
   "metadata": {},
   "source": [
    "### 4.2 数据的直观分析"
   ]
  },
  {
   "cell_type": "markdown",
   "metadata": {},
   "source": [
    "#### 4.2.1 常用的绘图函数"
   ]
  },
  {
   "cell_type": "code",
   "execution_count": null,
   "metadata": {},
   "outputs": [],
   "source": [
    "#绘制图形时，须作一些基本设置\n",
    "%config InlineBackend.figure_format='retina'   #提高图形显示的清晰度"
   ]
  },
  {
   "cell_type": "markdown",
   "metadata": {},
   "source": [
    "#### 4.2.1.1  计数数据统计图 "
   ]
  },
  {
   "cell_type": "code",
   "execution_count": null,
   "metadata": {},
   "outputs": [],
   "source": [
    "X=['A','B','C','D','E','F','G'] \n",
    "Y=[1,4,7,3,2,5,6] "
   ]
  },
  {
   "cell_type": "markdown",
   "metadata": {},
   "source": [
    "- 条图（bar） "
   ]
  },
  {
   "cell_type": "code",
   "execution_count": null,
   "metadata": {},
   "outputs": [],
   "source": [
    "import matplotlib.pyplot as plt     #加载基本绘图包"
   ]
  },
  {
   "cell_type": "code",
   "execution_count": null,
   "metadata": {},
   "outputs": [],
   "source": [
    "plt.bar(X,Y);"
   ]
  },
  {
   "cell_type": "markdown",
   "metadata": {},
   "source": [
    "- 饼图（pie） "
   ]
  },
  {
   "cell_type": "code",
   "execution_count": null,
   "metadata": {},
   "outputs": [],
   "source": [
    "plt.pie(Y,labels=X); "
   ]
  },
  {
   "cell_type": "markdown",
   "metadata": {},
   "source": [
    "#### 4.2.1.2  计量数据统计图"
   ]
  },
  {
   "cell_type": "markdown",
   "metadata": {},
   "source": [
    "- 线图（plot）"
   ]
  },
  {
   "cell_type": "code",
   "execution_count": null,
   "metadata": {},
   "outputs": [],
   "source": [
    "plt.plot(X,Y);"
   ]
  },
  {
   "cell_type": "markdown",
   "metadata": {},
   "source": [
    "- 直方图（hist） "
   ]
  },
  {
   "cell_type": "code",
   "execution_count": null,
   "metadata": {},
   "outputs": [],
   "source": [
    "plt.hist(BSdata.身高)    #频数直方图 ，默认density=False"
   ]
  },
  {
   "cell_type": "code",
   "execution_count": null,
   "metadata": {},
   "outputs": [],
   "source": [
    "plt.hist(BSdata.体重)    #频率直方图 ，density=True"
   ]
  },
  {
   "cell_type": "markdown",
   "metadata": {},
   "source": [
    "- 散点图（scatter） "
   ]
  },
  {
   "cell_type": "code",
   "execution_count": null,
   "metadata": {},
   "outputs": [],
   "source": [
    "plt.scatter(BSdata.身高, BSdata.体重); "
   ]
  },
  {
   "cell_type": "markdown",
   "metadata": {},
   "source": [
    "#### 4.2.1.3  图形参数的设置 "
   ]
  },
  {
   "cell_type": "markdown",
   "metadata": {},
   "source": [
    "> 标题、标签、标尺及颜色"
   ]
  },
  {
   "cell_type": "code",
   "execution_count": null,
   "metadata": {},
   "outputs": [],
   "source": [
    "plt.plot(X,Y);                      #控制图形的颜色colors，c='red' 为红色"
   ]
  },
  {
   "cell_type": "code",
   "execution_count": null,
   "metadata": {},
   "outputs": [],
   "source": [
    "plt.plot(X,Y,c='red');                      #控制图形的颜色colors，c='red' 为红色\n",
    "plt.ylim(0,8); \n",
    "plt.rcParams['font.sans-serif']=['SimHei'];  #设置中文黑体 \n",
    "plt.xlabel('姓名'); plt.ylabel('取值');  #plt.xlabel、plt.ylabel：设置坐标轴名称；"
   ]
  },
  {
   "cell_type": "markdown",
   "metadata": {},
   "source": [
    "> 线型和符号 "
   ]
  },
  {
   "cell_type": "code",
   "execution_count": null,
   "metadata": {},
   "outputs": [],
   "source": [
    "plt.plot(X,Y, linestyle=':', marker='o'); \n",
    "# linestyle：控制连线的线型（-: 实线，--: 虚线，.: 点线）；\n",
    "# marker：控制符号的类型，例如，'o' 绘制实心圆点图。"
   ]
  },
  {
   "cell_type": "markdown",
   "metadata": {},
   "source": [
    "> 绘图函数附加图形 "
   ]
  },
  {
   "cell_type": "code",
   "execution_count": null,
   "metadata": {},
   "outputs": [],
   "source": [
    "plt.plot(X,Y,'o--');\n",
    "plt.axvline(x=4);  # 水平线：在横坐标x处画水平（plt.axhline）\n",
    "plt.axhline(y=4);  # 垂直线：在纵坐标y处画垂直线（plt.axvline）"
   ]
  },
  {
   "cell_type": "markdown",
   "metadata": {},
   "source": [
    "> 文字函数：text(x, y, labels,...)，在(x, y)处添加用 labels 指定的文字"
   ]
  },
  {
   "cell_type": "code",
   "execution_count": null,
   "metadata": {},
   "outputs": [],
   "source": [
    "plt.plot(X,Y,'o--');\n",
    "plt.axvline(x=4);  # 水平线：在横坐标x处画水平（plt.axhline）\n",
    "plt.axhline(y=4);  # 垂直线：在纵坐标y处画垂直线（plt.axvline）\n",
    "plt.text(2, 7, ' peak point');"
   ]
  },
  {
   "cell_type": "markdown",
   "metadata": {},
   "source": [
    "> 图例：绘制图形后，可使用 legend 函数给图形加图例"
   ]
  },
  {
   "cell_type": "code",
   "execution_count": null,
   "metadata": {},
   "outputs": [],
   "source": [
    "plt.plot(X,Y,'.', label='point'); plt.legend();"
   ]
  },
  {
   "cell_type": "markdown",
   "metadata": {},
   "source": [
    "> 误差线图"
   ]
  },
  {
   "cell_type": "code",
   "execution_count": null,
   "metadata": {},
   "outputs": [],
   "source": [
    "s=[0.1,0.4,0.7,0.3,0.2,0.5,0.6]   #误差值\n",
    "plt.plot(X,Y); plt.errorbar(X,Y,yerr=s,fmt='o',capsize=4);  "
   ]
  },
  {
   "cell_type": "markdown",
   "metadata": {},
   "source": [
    "> 误差条图"
   ]
  },
  {
   "cell_type": "code",
   "execution_count": null,
   "metadata": {},
   "outputs": [],
   "source": [
    "plt.bar(X,Y,yerr=s,capsize=4);   #kw={'capsize':4}"
   ]
  },
  {
   "cell_type": "markdown",
   "metadata": {},
   "source": [
    "#### 4.2.1.4 多图的排列与绘制"
   ]
  },
  {
   "cell_type": "raw",
   "metadata": {},
   "source": [
    "一行绘制两个图形 "
   ]
  },
  {
   "cell_type": "code",
   "execution_count": null,
   "metadata": {},
   "outputs": [],
   "source": [
    "plt.subplot(121); plt.bar(X,Y); \n",
    "plt.subplot(122); plt.plot(Y);"
   ]
  },
  {
   "cell_type": "raw",
   "metadata": {},
   "source": [
    "一列绘制两个图形"
   ]
  },
  {
   "cell_type": "code",
   "execution_count": null,
   "metadata": {},
   "outputs": [],
   "source": [
    "plt.subplot(211); plt.bar(X,Y);\n",
    "plt.subplot(212); plt.plot(Y);"
   ]
  },
  {
   "cell_type": "code",
   "execution_count": null,
   "metadata": {},
   "outputs": [],
   "source": [
    "根据页面大小绘制两个图形"
   ]
  },
  {
   "cell_type": "code",
   "execution_count": null,
   "metadata": {},
   "outputs": [],
   "source": [
    "fig,ax = plt.subplots(1,2,figsize=(12,6))  \n",
    "ax[0].bar(X,Y); ax[1].plot(X,Y);"
   ]
  },
  {
   "cell_type": "raw",
   "metadata": {},
   "source": [
    "一页绘制四个图形 "
   ]
  },
  {
   "cell_type": "code",
   "execution_count": null,
   "metadata": {},
   "outputs": [],
   "source": [
    "fig,ax=plt.subplots(2,2,figsize=(10,8)) \n",
    "ax[0,0].bar(X,Y)\n",
    "ax[0,1].pie(Y,labels=X)\n",
    "ax[1,0].plot(Y); \n",
    "ax[1,1].plot(Y,'.-',linewidth=3);"
   ]
  },
  {
   "cell_type": "markdown",
   "metadata": {},
   "source": [
    "### 4.2.2 基于 pandas 的绘图"
   ]
  },
  {
   "cell_type": "markdown",
   "metadata": {},
   "source": [
    "#### 4.2.2.1 计量数据统计图 "
   ]
  },
  {
   "cell_type": "code",
   "execution_count": null,
   "metadata": {},
   "outputs": [],
   "source": [
    "plt.rcParams['font.sans-serif']=['SimHei'];  #设置中文黑体 \n",
    "BSdata['体重'].plot(kind='line'); #线图"
   ]
  },
  {
   "cell_type": "code",
   "execution_count": null,
   "metadata": {},
   "outputs": [],
   "source": [
    "BSdata['体重'].plot(kind='hist'); #直方图"
   ]
  },
  {
   "cell_type": "code",
   "execution_count": null,
   "metadata": {},
   "outputs": [],
   "source": [
    "stats(BSdata.体重)"
   ]
  },
  {
   "cell_type": "code",
   "execution_count": null,
   "metadata": {},
   "outputs": [],
   "source": [
    "BSdata['体重'].plot(kind='box'); #箱型图"
   ]
  },
  {
   "cell_type": "code",
   "execution_count": null,
   "metadata": {},
   "outputs": [],
   "source": [
    "BSdata['体重'].plot(kind='hist'); "
   ]
  },
  {
   "cell_type": "code",
   "execution_count": null,
   "metadata": {},
   "outputs": [],
   "source": [
    "BSdata['体重'].plot(kind='density',title='Density'); "
   ]
  },
  {
   "cell_type": "code",
   "execution_count": null,
   "metadata": {},
   "outputs": [],
   "source": [
    "BSdata[['身高','体重','支出']].plot(subplots=True,layout=(1,3),kind='box',figsize=(10,4)); "
   ]
  },
  {
   "cell_type": "code",
   "execution_count": null,
   "metadata": {},
   "outputs": [],
   "source": [
    "BSdata[['身高','体重','支出']].plot(subplots=True,layout=(1,3),kind='density',figsize=(10,4)); "
   ]
  },
  {
   "cell_type": "code",
   "execution_count": null,
   "metadata": {},
   "outputs": [],
   "source": [
    " BSdata[['身高','体重','支出']].plot(subplots=True,layout=(3,1),kind='density',figsize=(10,6));"
   ]
  },
  {
   "cell_type": "markdown",
   "metadata": {},
   "source": [
    "#### 4.2.2.2  计数数据统计图"
   ]
  },
  {
   "cell_type": "code",
   "execution_count": null,
   "metadata": {},
   "outputs": [],
   "source": [
    "T1=BSdata['开设'].value_counts();T1\n",
    "pd.DataFrame({'频数':T1,'频率':T1/T1.sum()*100}) "
   ]
  },
  {
   "cell_type": "code",
   "execution_count": null,
   "metadata": {},
   "outputs": [],
   "source": [
    "T1.plot(kind='bar'); #T1.sort_values().plot(kind='bar'); "
   ]
  },
  {
   "cell_type": "code",
   "execution_count": null,
   "metadata": {},
   "outputs": [],
   "source": [
    "T1.plot(kind='pie');"
   ]
  },
  {
   "cell_type": "markdown",
   "metadata": {},
   "source": [
    "### 4.3 数据的分组分析"
   ]
  },
  {
   "cell_type": "markdown",
   "metadata": {},
   "source": [
    "#### 4.3.1 一维频数表与图"
   ]
  },
  {
   "cell_type": "markdown",
   "metadata": {},
   "source": [
    "##### 4.3.1.1 计数数据频数分布 "
   ]
  },
  {
   "cell_type": "markdown",
   "metadata": {},
   "source": [
    "- （1）value_counts "
   ]
  },
  {
   "cell_type": "code",
   "execution_count": null,
   "metadata": {},
   "outputs": [],
   "source": [
    "BSdata['开设'].value_counts() "
   ]
  },
  {
   "cell_type": "markdown",
   "metadata": {},
   "source": [
    "- （2）自定义计数汇总函数 "
   ]
  },
  {
   "cell_type": "code",
   "execution_count": null,
   "metadata": {},
   "outputs": [],
   "source": [
    " def tab(x, plot=False): #计数频数表\n",
    "        f=x.value_counts();f\n",
    "        s=sum(f);\n",
    "        p=round(f/s*100, 3); p \n",
    "        T1=pd.concat([f,p], axis=1); \n",
    "        T1.columns=['例数','构成比'];\n",
    "        T2=pd.DataFrame({'例数':s,'构成比':100.00}, index=['合计'])\n",
    "        Tab=T1.append(T2) \n",
    "        if plot: \n",
    "            fig,ax=plt.subplots(1,2,figsize=(10,4)) \n",
    "            ax[0].bar(f.index, f); #条图 \n",
    "            ax[1].pie(p, labels=p.index, autopct='%1.2f%%');#饼图\n",
    "        return(round(Tab, 3))"
   ]
  },
  {
   "cell_type": "code",
   "execution_count": null,
   "metadata": {},
   "outputs": [],
   "source": [
    "tab(BSdata.软件,True)"
   ]
  },
  {
   "cell_type": "markdown",
   "metadata": {},
   "source": [
    "#### 4.3.1.2 计量数据频数分布 "
   ]
  },
  {
   "cell_type": "raw",
   "metadata": {},
   "source": [
    "（1）身高频数表与条图"
   ]
  },
  {
   "cell_type": "code",
   "execution_count": null,
   "metadata": {},
   "outputs": [],
   "source": [
    "H_cut=pd.cut(BSdata.身高, bins=10); H_cut  #身高分10组，bins=[150,160,170,180,190,200]"
   ]
  },
  {
   "cell_type": "code",
   "execution_count": null,
   "metadata": {},
   "outputs": [],
   "source": [
    "H_cut.value_counts() #分组再统计 "
   ]
  },
  {
   "cell_type": "code",
   "execution_count": null,
   "metadata": {},
   "outputs": [],
   "source": [
    "H_cut.value_counts().plot(kind='bar');   #将结果画成垂直条图"
   ]
  },
  {
   "cell_type": "code",
   "execution_count": null,
   "metadata": {},
   "outputs": [],
   "source": [
    "BSdata.身高.hist();"
   ]
  },
  {
   "cell_type": "raw",
   "metadata": {},
   "source": [
    "（2）支出频数表 "
   ]
  },
  {
   "cell_type": "code",
   "execution_count": null,
   "metadata": {},
   "outputs": [],
   "source": [
    "O_cut=pd.cut(BSdata.支出, bins=[0,10,30,100]); #O_cut"
   ]
  },
  {
   "cell_type": "code",
   "execution_count": null,
   "metadata": {},
   "outputs": [],
   "source": [
    "O_cut.value_counts() "
   ]
  },
  {
   "cell_type": "code",
   "execution_count": null,
   "metadata": {},
   "outputs": [],
   "source": [
    "O_cut.value_counts().plot(kind='bar');"
   ]
  },
  {
   "cell_type": "raw",
   "metadata": {},
   "source": [
    "（3）自定义计量频率分析函数"
   ]
  },
  {
   "cell_type": "code",
   "execution_count": null,
   "metadata": {},
   "outputs": [],
   "source": [
    "import numpy as np\n",
    "def freq(X,bins=10):      #计量数据的频数表与直方图\n",
    "    H=plt.hist(X,bins);\n",
    "    a=H[1][:-1]; b=H[1][1:]; f=H[0];    \n",
    "    p=f/sum(f)*100;p\n",
    "    cp=np.cumsum(p);cp\n",
    "    Freq=pd.DataFrame([a,b,f,p,cp])\n",
    "    Freq.index=['[下限a','上限b)','频数f','频率p(%)','累计频数cp(%)']\n",
    "    return(round(Freq.T,2))"
   ]
  },
  {
   "cell_type": "code",
   "execution_count": null,
   "metadata": {},
   "outputs": [],
   "source": [
    "freq(BSdata.体重) "
   ]
  },
  {
   "cell_type": "markdown",
   "metadata": {},
   "source": [
    "### 4.3.2 二维集聚表与图"
   ]
  },
  {
   "cell_type": "markdown",
   "metadata": {},
   "source": [
    "#### 4.3.2.1 计数数据的列联表 "
   ]
  },
  {
   "cell_type": "raw",
   "metadata": {},
   "source": [
    "（1）二维列联表"
   ]
  },
  {
   "cell_type": "code",
   "execution_count": null,
   "metadata": {},
   "outputs": [],
   "source": [
    "#Pandas的crosstab()函数可以把双变量分类数据整理成二维表形式\n",
    "pd.crosstab(BSdata.开设, BSdata.课程)"
   ]
  },
  {
   "cell_type": "code",
   "execution_count": null,
   "metadata": {},
   "outputs": [],
   "source": [
    "#行和列的合计可使用参数 margins=True\n",
    "pd.crosstab(BSdata.开设, BSdata.课程, margins=True) "
   ]
  },
  {
   "cell_type": "code",
   "execution_count": null,
   "metadata": {},
   "outputs": [],
   "source": [
    "#normalize ='index'表示各数据占行的比例\n",
    "pd.crosstab(BSdata.开设, BSdata.课程, margins=True, normalize='index') "
   ]
  },
  {
   "cell_type": "code",
   "execution_count": null,
   "metadata": {},
   "outputs": [],
   "source": [
    "#normalize ='columns'表示各数据占列的比例\n",
    "pd.crosstab(BSdata.开设, BSdata.课程, margins=True, normalize='columns') "
   ]
  },
  {
   "cell_type": "code",
   "execution_count": null,
   "metadata": {},
   "outputs": [],
   "source": [
    "#normalize ='all'，表示各数据占总和的构成比例\n",
    "pd.crosstab(BSdata.开设, BSdata.课程, margins=True, normalize='all').round(2) "
   ]
  },
  {
   "cell_type": "raw",
   "metadata": {},
   "source": [
    "（2）复式条图"
   ]
  },
  {
   "cell_type": "code",
   "execution_count": null,
   "metadata": {},
   "outputs": [],
   "source": [
    "T2=pd.crosstab(BSdata.开设, BSdata.课程);T2 "
   ]
  },
  {
   "cell_type": "code",
   "execution_count": null,
   "metadata": {},
   "outputs": [],
   "source": [
    "T2.plot(kind='bar');"
   ]
  },
  {
   "cell_type": "code",
   "execution_count": null,
   "metadata": {},
   "outputs": [],
   "source": [
    "#stacked 参数设置为False时，作出的是分段式条形图；为True时，作出的是并列式条形图\n",
    "T2.plot(kind='bar', stacked=True); "
   ]
  },
  {
   "cell_type": "markdown",
   "metadata": {},
   "source": [
    "#### 4.3.2.2 计量数据的集聚表 "
   ]
  },
  {
   "cell_type": "raw",
   "metadata": {},
   "source": [
    "（1）分组 groupby 函数 "
   ]
  },
  {
   "cell_type": "code",
   "execution_count": null,
   "metadata": {},
   "outputs": [],
   "source": [
    "# 按列分组 \n",
    "BSdata.groupby(['性别'])\n",
    "type(BSdata.groupby(['性别'])) #使用 groupby()函数生成的是一个中间分组变量，为 GroupBy 类型"
   ]
  },
  {
   "cell_type": "code",
   "execution_count": null,
   "metadata": {},
   "outputs": [],
   "source": [
    "# 按分组统计 \n",
    "BSdata.groupby(['性别'])['身高'].mean() "
   ]
  },
  {
   "cell_type": "code",
   "execution_count": null,
   "metadata": {},
   "outputs": [],
   "source": [
    "BSdata.groupby(['性别'])['身高'].size() "
   ]
  },
  {
   "cell_type": "code",
   "execution_count": null,
   "metadata": {},
   "outputs": [],
   "source": [
    "BSdata.groupby(['性别','开设'])['身高'].mean() "
   ]
  },
  {
   "cell_type": "code",
   "execution_count": null,
   "metadata": {},
   "outputs": [],
   "source": [
    "# 聚集函数 agg() \n",
    "BSdata.groupby(['性别'])['身高'].agg([np.mean, np.std]) "
   ]
  },
  {
   "cell_type": "code",
   "execution_count": null,
   "metadata": {},
   "outputs": [],
   "source": [
    "# 应用函数 apply()\n",
    "BSdata.groupby(['性别'])['身高','体重'].apply(np.mean) "
   ]
  },
  {
   "cell_type": "code",
   "execution_count": null,
   "metadata": {},
   "outputs": [],
   "source": [
    "BSdata.groupby(['性别','开设'])['身高','体重'].apply(np.mean) "
   ]
  },
  {
   "cell_type": "markdown",
   "metadata": {},
   "source": [
    "### 4.3.3 多维透视表与图"
   ]
  },
  {
   "cell_type": "markdown",
   "metadata": {},
   "source": [
    "#### 4.3.3.1 计数数据透视表与图"
   ]
  },
  {
   "cell_type": "code",
   "execution_count": null,
   "metadata": {},
   "outputs": [],
   "source": [
    "#pt11=BSdata.pivot_table(values=['学号'],index=['性别'],aggfunc=len)\n",
    "pt11=BSdata.pivot_table(['学号'],['性别'],aggfunc=len); pt11   #len分组长度"
   ]
  },
  {
   "cell_type": "code",
   "execution_count": null,
   "metadata": {},
   "outputs": [],
   "source": [
    "pt11.plot(kind='bar');"
   ]
  },
  {
   "cell_type": "code",
   "execution_count": null,
   "metadata": {},
   "outputs": [],
   "source": [
    "#pt12=BSdata.pivot_table(values=['学号'],index=['性别','开设'],aggfunc=len)\n",
    "pt12=BSdata.pivot_table(['学号'],['性别','开设'],aggfunc=len);pt12"
   ]
  },
  {
   "cell_type": "code",
   "execution_count": null,
   "metadata": {},
   "outputs": [],
   "source": [
    "pt12.plot(kind='bar');"
   ]
  },
  {
   "cell_type": "code",
   "execution_count": null,
   "metadata": {},
   "outputs": [],
   "source": [
    "#pt13=BSdata.pivot_table(values=['学号'],index=['开设'],columns=['性别'],aggfunc=len);\n",
    "pt13=BSdata.pivot_table(['学号'], ['开设'], ['性别'], aggfunc=len); pt13 "
   ]
  },
  {
   "cell_type": "code",
   "execution_count": null,
   "metadata": {},
   "outputs": [],
   "source": [
    "pt13.plot(kind='bar');"
   ]
  },
  {
   "cell_type": "code",
   "execution_count": null,
   "metadata": {},
   "outputs": [],
   "source": [
    "pt13.plot(kind='bar',stacked=True);"
   ]
  },
  {
   "cell_type": "markdown",
   "metadata": {},
   "source": [
    "#### 4.3.3.2 计量数据透视表与图"
   ]
  },
  {
   "cell_type": "code",
   "execution_count": null,
   "metadata": {},
   "outputs": [],
   "source": [
    "pt21=BSdata.pivot_table(index=['性别'], values=[\"身高\"], aggfunc=np.mean);pt21"
   ]
  },
  {
   "cell_type": "code",
   "execution_count": null,
   "metadata": {},
   "outputs": [],
   "source": [
    "pt21.plot(kind='bar');"
   ]
  },
  {
   "cell_type": "code",
   "execution_count": null,
   "metadata": {},
   "outputs": [],
   "source": [
    "pt22=BSdata.pivot_table(index=['性别'], values=[\"身高\"], aggfunc=[np.mean,np.std]);\n",
    "pt22"
   ]
  },
  {
   "cell_type": "code",
   "execution_count": null,
   "metadata": {},
   "outputs": [],
   "source": [
    "pt22.iloc[:,0].plot(kind='bar',yerr=pt22.iloc[:,1]); #标准差条图"
   ]
  },
  {
   "cell_type": "code",
   "execution_count": null,
   "metadata": {},
   "outputs": [],
   "source": [
    "pt23=BSdata.pivot_table(index=[\"性别\"], values=[\"身高\",\"体重\"]);pt23 # 默认计算均值 "
   ]
  },
  {
   "cell_type": "code",
   "execution_count": null,
   "metadata": {},
   "outputs": [],
   "source": [
    "pt23.plot(kind='bar');"
   ]
  },
  {
   "cell_type": "code",
   "execution_count": null,
   "metadata": {},
   "outputs": [],
   "source": [
    "pt23.plot(kind='bar',subplots=True,layout=(1,2));"
   ]
  },
  {
   "cell_type": "markdown",
   "metadata": {},
   "source": [
    "#### 4.3.3.3 复合数据透视表与图"
   ]
  },
  {
   "cell_type": "code",
   "execution_count": null,
   "metadata": {},
   "outputs": [],
   "source": [
    "BSdata.pivot_table('学号', ['性别','开设'], '课程', aggfunc=len,  \n",
    "                   margins=True, margins_name='合计')"
   ]
  },
  {
   "cell_type": "code",
   "execution_count": null,
   "metadata": {},
   "outputs": [],
   "source": [
    "pt31=BSdata.pivot_table('学号',['性别','开设'],'课程',aggfunc=len)\n",
    "pt31"
   ]
  },
  {
   "cell_type": "code",
   "execution_count": null,
   "metadata": {},
   "outputs": [],
   "source": [
    "pt31.plot(kind='bar',stacked=False);"
   ]
  },
  {
   "cell_type": "code",
   "execution_count": null,
   "metadata": {},
   "outputs": [],
   "source": [
    "pt32=BSdata.pivot_table(['身高','体重'],['性别',\"开设\"],aggfunc=[len,np.mean,np.std]);pt32"
   ]
  },
  {
   "cell_type": "code",
   "execution_count": null,
   "metadata": {},
   "outputs": [],
   "source": [
    "pt32.iloc[:,:2].plot(kind='bar'); "
   ]
  },
  {
   "cell_type": "code",
   "execution_count": null,
   "metadata": {},
   "outputs": [],
   "source": [
    "pt32.iloc[:,2:4].plot(kind='bar');"
   ]
  },
  {
   "cell_type": "code",
   "execution_count": null,
   "metadata": {},
   "outputs": [],
   "source": [
    "pt32.iloc[:,4:6].plot(kind='bar');"
   ]
  },
  {
   "cell_type": "code",
   "execution_count": null,
   "metadata": {},
   "outputs": [],
   "source": [
    "pt32.iloc[:,2].plot(kind='bar', yerr=pt32.iloc[:,4]); #基于性别和开设的体重标准差条图"
   ]
  },
  {
   "cell_type": "code",
   "execution_count": null,
   "metadata": {},
   "outputs": [],
   "source": []
  }
 ],
 "metadata": {
  "kernelspec": {
   "display_name": "Python 3 (ipykernel)",
   "language": "python",
   "name": "python3"
  },
  "language_info": {
   "codemirror_mode": {
    "name": "ipython",
    "version": 3
   },
   "file_extension": ".py",
   "mimetype": "text/x-python",
   "name": "python",
   "nbconvert_exporter": "python",
   "pygments_lexer": "ipython3",
   "version": "3.8.10"
  }
 },
 "nbformat": 4,
 "nbformat_minor": 4
}
