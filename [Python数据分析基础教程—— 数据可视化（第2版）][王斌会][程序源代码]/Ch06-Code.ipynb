{
 "cells": [
  {
   "cell_type": "markdown",
   "metadata": {},
   "source": [
    "# 《数据可视化》 　—— 　基于Python的应用"
   ]
  },
  {
   "cell_type": "markdown",
   "metadata": {},
   "source": [
    "## 第1章  数据分析软件简介"
   ]
  },
  {
   "cell_type": "markdown",
   "metadata": {},
   "source": [
    "## 第2章  数据的收集与整理"
   ]
  },
  {
   "cell_type": "markdown",
   "metadata": {},
   "source": [
    "## 第3章  Python编程基础"
   ]
  },
  {
   "cell_type": "markdown",
   "metadata": {},
   "source": [
    "## 第4章  数据的探索分析"
   ]
  },
  {
   "cell_type": "markdown",
   "metadata": {},
   "source": [
    "## 第5章  数据的直观分析"
   ]
  },
  {
   "cell_type": "markdown",
   "metadata": {},
   "source": [
    "# 第6章 数据的统计分析及可视化"
   ]
  },
  {
   "cell_type": "markdown",
   "metadata": {},
   "source": [
    "<img src=\"./Fig/Mind6.png\" width=\"1100\">"
   ]
  },
  {
   "cell_type": "markdown",
   "metadata": {},
   "source": [
    "## 6.1 随机变量及其分布"
   ]
  },
  {
   "cell_type": "markdown",
   "metadata": {},
   "source": [
    "### 　6.1.1 均匀分布及随机数图"
   ]
  },
  {
   "cell_type": "raw",
   "metadata": {},
   "source": [
    "6.1.1.1 均匀分布"
   ]
  },
  {
   "cell_type": "code",
   "execution_count": null,
   "metadata": {},
   "outputs": [],
   "source": [
    "import numpy as np                        #加载numpy包\n",
    "np.set_printoptions(precision=4)          #设置numpy输出为4位有效数"
   ]
  },
  {
   "cell_type": "code",
   "execution_count": null,
   "metadata": {},
   "outputs": [],
   "source": [
    "a=0;b=1;n=20            # n表示在[a,b]中生成n个点\n",
    "x=np.linspace(a,b,n);   # [a,b]中n个等差数据\n",
    "ｘ"
   ]
  },
  {
   "cell_type": "code",
   "execution_count": null,
   "metadata": {},
   "outputs": [],
   "source": [
    "y=np.ones(n)/(b-a);y    # y=1/(b-a)  "
   ]
  },
  {
   "cell_type": "code",
   "execution_count": null,
   "metadata": {},
   "outputs": [],
   "source": [
    "import matplotlib.pyplot as plt               \n",
    "plt.plot(x,y);plt.ylim(0,1.5);plt.stem(x,y);"
   ]
  },
  {
   "cell_type": "raw",
   "metadata": {},
   "source": [
    "6.1.1.2 均匀随机数"
   ]
  },
  {
   "cell_type": "raw",
   "metadata": {},
   "source": [
    "（1）生成一个均匀随机实数"
   ]
  },
  {
   "cell_type": "code",
   "execution_count": null,
   "metadata": {},
   "outputs": [],
   "source": [
    "np.random.rand(1)   #生成[0,1]上的一个随机实数:random.uniform(0,1)     "
   ]
  },
  {
   "cell_type": "raw",
   "metadata": {},
   "source": [
    "（2）生成一组随机实数及图示"
   ]
  },
  {
   "cell_type": "code",
   "execution_count": null,
   "metadata": {},
   "outputs": [],
   "source": [
    "np.random.seed(123)            #设置种子数seed可重复结果,可任意设置\n",
    "R=np.random.rand(10);R[:10]  #[0,1]上的1000个随机数=np.random.uniform(0,1,1000) "
   ]
  },
  {
   "cell_type": "code",
   "execution_count": null,
   "metadata": {},
   "outputs": [],
   "source": [
    "plt.plot(R,'.');"
   ]
  },
  {
   "cell_type": "markdown",
   "metadata": {},
   "source": [
    "### 　6.1.2 正态分布及随机数图"
   ]
  },
  {
   "cell_type": "raw",
   "metadata": {},
   "source": [
    "6.1.2.1  正态分布函数"
   ]
  },
  {
   "cell_type": "raw",
   "metadata": {},
   "source": [
    "（1）标准正态分布曲线"
   ]
  },
  {
   "cell_type": "code",
   "execution_count": null,
   "metadata": {},
   "outputs": [],
   "source": [
    "from numpy import arange,exp  #arange类似linspace函数\n",
    "from math import sqrt,pi   \n",
    "x=arange(-4,4,0.1)            #x为-4到4上间距为0.1的数   "
   ]
  },
  {
   "cell_type": "code",
   "execution_count": null,
   "metadata": {},
   "outputs": [],
   "source": [
    "y=1/sqrt(2*pi)*exp(-x**2/2);\n",
    "plt.plot(x,y);"
   ]
  },
  {
   "cell_type": "raw",
   "metadata": {},
   "source": [
    "（2）标准正态分布的取值(pdf)及分位数(ppf)计算"
   ]
  },
  {
   "cell_type": "code",
   "execution_count": null,
   "metadata": {},
   "outputs": [],
   "source": [
    "import scipy.stats as st  #加载统计方法包 \n",
    "p_z=st.norm.pdf(-2);p_z   #p(z)=1/sqrt(2*pi)*exp(-z**2/2);"
   ]
  },
  {
   "cell_type": "code",
   "execution_count": null,
   "metadata": {},
   "outputs": [],
   "source": [
    "za=st.norm.ppf(0.95);za   #单侧"
   ]
  },
  {
   "cell_type": "code",
   "execution_count": null,
   "metadata": {},
   "outputs": [],
   "source": [
    "[st.norm.ppf(0.025),st.norm.ppf(0.975)] #双侧"
   ]
  },
  {
   "cell_type": "raw",
   "metadata": {},
   "source": [
    "（3）标准正态分布的概率计算"
   ]
  },
  {
   "cell_type": "code",
   "execution_count": null,
   "metadata": {},
   "outputs": [],
   "source": [
    "p=st.norm.cdf(1.645);p       #标准正态分布下的面积：p=P(z≤1.645)的累积概率"
   ]
  },
  {
   "cell_type": "code",
   "execution_count": null,
   "metadata": {},
   "outputs": [],
   "source": [
    " #标准正态曲线下[a,b]上计算概率的面积图\n",
    "import scipy.stats as st  #加载统计方法包 \n",
    "def norm_p(a,b):            \n",
    "        x=np.arange(-4,4,0.1) \n",
    "        y=st.norm.pdf(x)         \n",
    "        x1=x[(a<=x) & (x<=b)];x1 \n",
    "        y1=y[(a<=x) & (x<=b)];y1         \n",
    "        p=st.norm.cdf(b)-st.norm.cdf(a);\n",
    "        print(\"    N(0,1)分布: [%3.2f,%3.2f]  p=%5.4f\"%(a,b,p)) \n",
    "        plt.plot(x,y);#plt.text(-0.7,0.2,\"p=%5.4f\"%p,fontsize=15);\n",
    "        plt.hlines(0,-4,4); plt.vlines(x1,0,y1,colors='r');         "
   ]
  },
  {
   "cell_type": "code",
   "execution_count": null,
   "metadata": {},
   "outputs": [],
   "source": [
    "norm_p(-4,-2)       # p=P(z≤2)=0.27%"
   ]
  },
  {
   "cell_type": "code",
   "execution_count": null,
   "metadata": {},
   "outputs": [],
   "source": [
    "norm_p(-2,2)        # p=P(-2≤z≤2)=95.45%"
   ]
  },
  {
   "cell_type": "code",
   "execution_count": null,
   "metadata": {},
   "outputs": [],
   "source": [
    "norm_p(-1.96,1.96)  # p=P(-1.96≤z≤1.96)=95% "
   ]
  },
  {
   "cell_type": "raw",
   "metadata": {},
   "source": [
    "6.1.2.2 正态分布随机数图"
   ]
  },
  {
   "cell_type": "raw",
   "metadata": {},
   "source": [
    "（1）标准正态随机数及分布图 "
   ]
  },
  {
   "cell_type": "code",
   "execution_count": null,
   "metadata": {},
   "outputs": [],
   "source": [
    "np.random.normal(0,1,5)    #生成 5 个标准正态分布随机数 "
   ]
  },
  {
   "cell_type": "code",
   "execution_count": null,
   "metadata": {},
   "outputs": [],
   "source": [
    "#随机产生1000个标准正态分布随机数，作其概率直方图，然后再添加正态分布的密度函数线。\n",
    "#np.random.seed(123)             #设置种子数seed可使结果可重复\n",
    "z1=np.random.normal(0,1,1000)   #1000个标准正态分布随机数N(0,1)\n",
    "z1[:20]"
   ]
  },
  {
   "cell_type": "code",
   "execution_count": null,
   "metadata": {},
   "outputs": [],
   "source": [
    "plt.hist(z1);                   #可设定分段数bins, plt.hist(z1,bins=30)"
   ]
  },
  {
   "cell_type": "code",
   "execution_count": null,
   "metadata": {},
   "outputs": [],
   "source": [
    "np.random.seed(456)            #设置种子seed可重复结果\n",
    "z2=np.random.normal(0,1,1000)\n",
    "plt.hist(z2);#plt.ylim=[0,400];"
   ]
  },
  {
   "cell_type": "code",
   "execution_count": null,
   "metadata": {},
   "outputs": [],
   "source": [
    "plt.hist(z1); plt.hist(z2);    #做在一张图上"
   ]
  },
  {
   "cell_type": "code",
   "execution_count": null,
   "metadata": {},
   "outputs": [],
   "source": [
    "#一页绘制2个正态分布随机图\n",
    "plt.subplot(121);plt.hist(z1); \n",
    "plt.subplot(122);plt.hist(z2);"
   ]
  },
  {
   "cell_type": "code",
   "execution_count": null,
   "metadata": {},
   "outputs": [],
   "source": [
    "import pandas as pd\n",
    "z12=pd.DataFrame({'z1':z1,'z2':z2}); z12 #构建数据框"
   ]
  },
  {
   "cell_type": "code",
   "execution_count": null,
   "metadata": {},
   "outputs": [],
   "source": [
    "z12.plot(kind='hist'); #根据数据框绘直方图"
   ]
  },
  {
   "cell_type": "code",
   "execution_count": null,
   "metadata": {},
   "outputs": [],
   "source": [
    "z12.plot(kind='hist',subplots=True,layout=(1,2));"
   ]
  },
  {
   "cell_type": "code",
   "execution_count": null,
   "metadata": {},
   "outputs": [],
   "source": [
    "z12.plot(kind='density',subplots=True,layout=(1,2)); #模拟正态分布曲线"
   ]
  },
  {
   "cell_type": "raw",
   "metadata": {},
   "source": [
    "（2）一般正态随机数及分布图"
   ]
  },
  {
   "cell_type": "code",
   "execution_count": null,
   "metadata": {},
   "outputs": [],
   "source": [
    "np.random.seed(12)   #设置种子数seed可重复结果\n",
    "X=np.random.normal(170,10,100); X.round(1)"
   ]
  },
  {
   "cell_type": "code",
   "execution_count": null,
   "metadata": {},
   "outputs": [],
   "source": [
    "import seaborn as sns\n",
    "sns.distplot(X);"
   ]
  },
  {
   "cell_type": "raw",
   "metadata": {},
   "source": [
    "（3）非正态随机数及分布图"
   ]
  },
  {
   "cell_type": "code",
   "execution_count": null,
   "metadata": {},
   "outputs": [],
   "source": [
    "np.random.seed(15)  #设置种子数seed可重复结果\n",
    "Y=np.random.lognormal(0,1,1000); Y[:10]"
   ]
  },
  {
   "cell_type": "code",
   "execution_count": null,
   "metadata": {},
   "outputs": [],
   "source": [
    "sns.distplot(Y);"
   ]
  },
  {
   "cell_type": "code",
   "execution_count": null,
   "metadata": {},
   "outputs": [],
   "source": [
    "Z=np.log(Y)      # Z=log(Y)\n",
    "sns.distplot(Z);"
   ]
  },
  {
   "cell_type": "raw",
   "metadata": {},
   "source": [
    "6.1.2.3 正态分布概率检验图"
   ]
  },
  {
   "cell_type": "code",
   "execution_count": null,
   "metadata": {},
   "outputs": [],
   "source": [
    "import scipy.stats as st   #加载科学计算包scipy的统计功能\n",
    "st.probplot(X,plot=plt);"
   ]
  },
  {
   "cell_type": "code",
   "execution_count": null,
   "metadata": {},
   "outputs": [],
   "source": [
    "st.probplot(Y,plot=plt); "
   ]
  },
  {
   "cell_type": "code",
   "execution_count": null,
   "metadata": {},
   "outputs": [],
   "source": [
    "st.probplot(Z, plot=plt); "
   ]
  },
  {
   "cell_type": "markdown",
   "metadata": {},
   "source": [
    "## 6.2 统计量及抽样分布图"
   ]
  },
  {
   "cell_type": "markdown",
   "metadata": {},
   "source": [
    "### 　6.2.1 统计量及抽样的概念"
   ]
  },
  {
   "cell_type": "raw",
   "metadata": {},
   "source": [
    "6.2.1.1 简单随机模拟"
   ]
  },
  {
   "cell_type": "raw",
   "metadata": {},
   "source": [
    "（1）生成[0,1]上的一组随机整数"
   ]
  },
  {
   "cell_type": "code",
   "execution_count": null,
   "metadata": {},
   "outputs": [],
   "source": [
    "np.random.randint(0,2,100)    #[0,1]上的10个随机整数 "
   ]
  },
  {
   "cell_type": "raw",
   "metadata": {},
   "source": [
    "（2）生成任意区间上的一组随机整数"
   ]
  },
  {
   "cell_type": "code",
   "execution_count": null,
   "metadata": {},
   "outputs": [],
   "source": [
    "np.random.randint(1,101,10)  #[1,100]上的10个随机整数数组"
   ]
  },
  {
   "cell_type": "code",
   "execution_count": null,
   "metadata": {},
   "outputs": [],
   "source": [
    "np.random.seed(15)           #结果可重复\n",
    "np.random.randint(1,101,10)"
   ]
  },
  {
   "cell_type": "raw",
   "metadata": {},
   "source": [
    "6.2.1.2 随机抽样方法"
   ]
  },
  {
   "cell_type": "raw",
   "metadata": {},
   "source": [
    "（1）根据随机数抽样"
   ]
  },
  {
   "cell_type": "code",
   "execution_count": null,
   "metadata": {},
   "outputs": [],
   "source": [
    "import pandas as pd\n",
    "BSdata=pd.read_excel('DaPy_data.xlsx','BSdata');   #读取学生数据\n",
    "BSdata"
   ]
  },
  {
   "cell_type": "code",
   "execution_count": null,
   "metadata": {},
   "outputs": [],
   "source": [
    "i=np.random.randint(1,53,6);i #抽取6名学生，取[1,52]上的6个整数 "
   ]
  },
  {
   "cell_type": "code",
   "execution_count": null,
   "metadata": {},
   "outputs": [],
   "source": [
    "BSdata.iloc[i]                 #获取抽到的6名学生信息 "
   ]
  },
  {
   "cell_type": "raw",
   "metadata": {},
   "source": [
    "（2）直接抽取样本（sample）"
   ]
  },
  {
   "cell_type": "code",
   "execution_count": null,
   "metadata": {},
   "outputs": [],
   "source": [
    "BSdata.sample(6)             #直接抽取名学生及其信息 "
   ]
  },
  {
   "cell_type": "markdown",
   "metadata": {},
   "source": [
    "### 　6.2.2 统计量的分布"
   ]
  },
  {
   "cell_type": "raw",
   "metadata": {},
   "source": [
    "6.2.2.1 中心极限定理及其模拟图"
   ]
  },
  {
   "cell_type": "markdown",
   "metadata": {},
   "source": [
    "（1）正态均值的分布—正态分布 "
   ]
  },
  {
   "cell_type": "code",
   "execution_count": null,
   "metadata": {},
   "outputs": [],
   "source": [
    "# 基于正态分布的中心极限定理模拟函数\n",
    "import seaborn as sns\n",
    "def norm_sim1(N=1000,n=10):    # n为样本个数，N为模拟次数（即抽样次数） \n",
    "    xbar=np.zeros(N)           # 产生放置样本均值的向量  \n",
    "    for i in range(N):         # 计算[0,1]上的标准正态随机数及均值 \n",
    "        xbar[i]=np.random.normal(0,1,n).mean() \n",
    "    sns.distplot(xbar,bins=50) #plt.hist(xbar,bins=50)   \n",
    "    print(pd.DataFrame(xbar).describe().T) #模拟结果的基本统计量"
   ]
  },
  {
   "cell_type": "code",
   "execution_count": null,
   "metadata": {},
   "outputs": [],
   "source": [
    "np.random.seed(1)         #设置种子数seed使结果可重复\n",
    "norm_sim1(10000,30)               #根据默认值模拟"
   ]
  },
  {
   "cell_type": "code",
   "execution_count": null,
   "metadata": {},
   "outputs": [],
   "source": [
    "np.random.seed(2)        #设置种子数seed使结果可重复\n",
    "norm_sim1(n=30,N=10000)  "
   ]
  },
  {
   "cell_type": "raw",
   "metadata": {},
   "source": [
    "（２）非正态均值统计量的分布 —— 渐近正态分布"
   ]
  },
  {
   "cell_type": "code",
   "execution_count": null,
   "metadata": {},
   "outputs": [],
   "source": [
    "# 基于非正态分布的中心极限定理模拟函数\n",
    "def norm_sim2(N=1000,n=10): \n",
    "    xbar=np.zeros(N) \n",
    "    for i in range(N):  #计算[0,1]上的均匀随机数及均值 \n",
    "        xbar[i]=np.random.uniform(0,1,n).mean()  \n",
    "    sns.distplot(xbar,bins=50)\n",
    "    print(pd.DataFrame(xbar).describe().T) "
   ]
  },
  {
   "cell_type": "code",
   "execution_count": null,
   "metadata": {},
   "outputs": [],
   "source": [
    "np.random.seed(3)   #设置种子数seed使结果可重复\n",
    "norm_sim2() "
   ]
  },
  {
   "cell_type": "code",
   "execution_count": null,
   "metadata": {},
   "outputs": [],
   "source": [
    "np.random.seed(4)   #设置种子数seed使结果可重复\n",
    "norm_sim2(10000,30) "
   ]
  },
  {
   "cell_type": "raw",
   "metadata": {},
   "source": [
    "6.2.2.2 均值的 t 分布及其图示"
   ]
  },
  {
   "cell_type": "code",
   "execution_count": null,
   "metadata": {},
   "outputs": [],
   "source": [
    "（１）小样本正态均值的标准化统计量分布 — t分布"
   ]
  },
  {
   "cell_type": "markdown",
   "metadata": {},
   "source": [
    "（2）t 分布曲线比较图"
   ]
  },
  {
   "cell_type": "code",
   "execution_count": null,
   "metadata": {},
   "outputs": [],
   "source": [
    "x=np.arange(-4,4,0.1) \n",
    "yn=st.norm.pdf(x,0,1); yt3=st.t.pdf(x,3); yt10=st.t.pdf(x,30) \n",
    "plt.plot(x,yn,'r-',x,yt3,'b.',x,yt10,'g-.'); \n",
    "plt.legend([\"N(0,1)\",\"t(3)\",\"t(10)\"]);"
   ]
  },
  {
   "cell_type": "markdown",
   "metadata": {},
   "source": [
    "## 6.3 基本统计推断方法"
   ]
  },
  {
   "cell_type": "markdown",
   "metadata": {},
   "source": [
    "### 　6.3.1 参数的估计方法"
   ]
  },
  {
   "cell_type": "raw",
   "metadata": {},
   "source": [
    "6.3.1.1 点估计 "
   ]
  },
  {
   "cell_type": "code",
   "execution_count": null,
   "metadata": {},
   "outputs": [],
   "source": [
    "import pandas as pd\n",
    "BSdata=pd.read_excel('DaPy_data.xlsx','BSdata');   #读取学生数据\n",
    "#BSdata"
   ]
  },
  {
   "cell_type": "raw",
   "metadata": {},
   "source": [
    "（1）均值的点估计"
   ]
  },
  {
   "cell_type": "code",
   "execution_count": null,
   "metadata": {},
   "outputs": [],
   "source": [
    "BSdata['身高'].mean() "
   ]
  },
  {
   "cell_type": "raw",
   "metadata": {},
   "source": [
    "（2）标准差的点估计"
   ]
  },
  {
   "cell_type": "code",
   "execution_count": null,
   "metadata": {},
   "outputs": [],
   "source": [
    "BSdata['身高'].std() "
   ]
  },
  {
   "cell_type": "raw",
   "metadata": {},
   "source": [
    "（3）比例的点估计 "
   ]
  },
  {
   "cell_type": "code",
   "execution_count": null,
   "metadata": {},
   "outputs": [],
   "source": [
    "f=BSdata['开设'].value_counts(); \n",
    "p=f/sum(f);p"
   ]
  },
  {
   "cell_type": "code",
   "execution_count": null,
   "metadata": {},
   "outputs": [],
   "source": [
    "#假定有 150 人接受调查，其中 42 人喜欢品牌 A，问喜欢 A 品牌的人占多大比例？\n",
    "42/150"
   ]
  },
  {
   "cell_type": "raw",
   "metadata": {},
   "source": [
    "6.3.1.2 区间估计"
   ]
  },
  {
   "cell_type": "code",
   "execution_count": null,
   "metadata": {},
   "outputs": [],
   "source": [
    "norm_p(-2,2) "
   ]
  },
  {
   "cell_type": "code",
   "execution_count": null,
   "metadata": {},
   "outputs": [],
   "source": [
    "import scipy.stats as st\n",
    "def t_p(a,b,df=10):  #t分布曲线下[a,b]上计算概率的面积图\n",
    "        x=np.arange(-4,4,0.1) \n",
    "        y=st.t.pdf(x,df)         \n",
    "        x1=x[(a<=x) & (x<=b)];x1 \n",
    "        y1=y[(a<=x) & (x<=b)];y1 \n",
    "        p=st.t.cdf(b,df)-st.t.cdf(a,df);\n",
    "        print(\"      t(\"+str(df)+\"): [%3.2f, %3.2f]  p=%5.4f\"%(a,b,p)) \n",
    "        plt.plot(x,y);#plt.text(-0.7,0.2,\"p=%5.4f\"%p,fontsize=15);\n",
    "        plt.hlines(0,-4,4); plt.vlines(x1,0,y1,colors='r'); "
   ]
  },
  {
   "cell_type": "code",
   "execution_count": null,
   "metadata": {},
   "outputs": [],
   "source": [
    "t_p(-2,2)  #t:[-2,2], df=10"
   ]
  },
  {
   "cell_type": "code",
   "execution_count": null,
   "metadata": {},
   "outputs": [],
   "source": [
    "#基于原始数据的t分布均值和置信区间\n",
    "def t_interval(x,b=0.95):  #这里b为置信水平，通常取95%\n",
    "    a=1-b \n",
    "    n = len(x) \n",
    "    ta=st.t.ppf(1-a/2,n-1);ta     \n",
    "    from math import sqrt \n",
    "    se=x.std()/sqrt(n)\n",
    "    return(x.mean()-ta*se, x.mean()+se*ta)"
   ]
  },
  {
   "cell_type": "code",
   "execution_count": null,
   "metadata": {},
   "outputs": [],
   "source": [
    "t_interval(BSdata['身高']) #身高均值的 95%的置信区间"
   ]
  },
  {
   "cell_type": "markdown",
   "metadata": {},
   "source": [
    "### 　6.3.2 参数的假设检验"
   ]
  },
  {
   "cell_type": "raw",
   "metadata": {},
   "source": [
    "6.3.2.2 样本均值 t 检验"
   ]
  },
  {
   "cell_type": "code",
   "execution_count": null,
   "metadata": {},
   "outputs": [],
   "source": [
    "#单样本 t 检验函数进行均值的 t 检验 \n",
    "print(\"样本均值：\",BSdata.身高.mean())\n",
    "st.ttest_1samp(BSdata.身高,popmean = 166)"
   ]
  },
  {
   "cell_type": "code",
   "execution_count": null,
   "metadata": {},
   "outputs": [],
   "source": [
    "st.ttest_1samp(BSdata.身高,popmean = 170)"
   ]
  },
  {
   "cell_type": "markdown",
   "metadata": {},
   "source": [
    "### 　6.3.3 统计推断的可视化"
   ]
  },
  {
   "cell_type": "raw",
   "metadata": {},
   "source": [
    "6.3.3.1 均值推断的可视化函数"
   ]
  },
  {
   "cell_type": "code",
   "execution_count": null,
   "metadata": {},
   "outputs": [],
   "source": [
    "#定义单样本均值t检验图\n",
    "def ttest_1plot(X,mu=0,k=0.1): \n",
    "    df=len(X)-1  #df=n-1\n",
    "    t1p=st.ttest_1samp(X, popmean = mu);\n",
    "    x=np.arange(-4,4,k); y=st.t.pdf(x,df)\n",
    "    t=abs(t1p[0]);p=t1p[1]\n",
    "    x1=x[x<=-t]; y1=y[x<=-t];\n",
    "    x2=x[x>=t]; y2=y[x>=t];\n",
    "    print(\"  样本均值： \\t%8.4f \"%X.mean())\n",
    "    print(\"  单样本t检验:    t=%6.3f  p=%6.4f\"%(t,p))\n",
    "    t_interval=st.t.interval(0.95,len(X)-1,X.mean(),X.std())\n",
    "    print(\"   t置信区间:\\t(%7.4f, %7.4f)\"%(t_interval[0],t_interval[1]))\n",
    "    plt.plot(x,y); plt.hlines(0,-4,4);\n",
    "    plt.vlines(x1,0,y1,colors='r'); plt.vlines(x2,0,y2,colors='r');\n",
    "    plt.vlines(st.t.ppf(0.05/2,df),0,0.2,colors='b');\n",
    "    plt.vlines(-st.t.ppf(0.05/2,df),0,0.2,colors='b');\n",
    "    plt.text(-0.6,0.2,r\"$\\alpha$=%3.2f\"%0.05,fontsize=15);"
   ]
  },
  {
   "cell_type": "code",
   "execution_count": null,
   "metadata": {},
   "outputs": [],
   "source": [
    "ttest_1plot(BSdata.身高,166)  #总体均值为166时的推断图 "
   ]
  },
  {
   "cell_type": "code",
   "execution_count": null,
   "metadata": {},
   "outputs": [],
   "source": [
    "ttest_1plot(BSdata.身高,170)  #总体均值为170时的推断图 "
   ]
  },
  {
   "cell_type": "code",
   "execution_count": null,
   "metadata": {},
   "outputs": [],
   "source": []
  }
 ],
 "metadata": {
  "kernelspec": {
   "display_name": "Python 3",
   "language": "python",
   "name": "python3"
  },
  "language_info": {
   "codemirror_mode": {
    "name": "ipython",
    "version": 3
   },
   "file_extension": ".py",
   "mimetype": "text/x-python",
   "name": "python",
   "nbconvert_exporter": "python",
   "pygments_lexer": "ipython3",
   "version": "3.8.3"
  }
 },
 "nbformat": 4,
 "nbformat_minor": 4
}
