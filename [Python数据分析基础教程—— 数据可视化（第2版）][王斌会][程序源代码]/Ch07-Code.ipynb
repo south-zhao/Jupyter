{
 "cells": [
  {
   "cell_type": "markdown",
   "metadata": {},
   "source": [
    "# 《数据可视化》 　—— 　基于Python的应用"
   ]
  },
  {
   "cell_type": "markdown",
   "metadata": {},
   "source": [
    "## 第1章  数据分析软件简介"
   ]
  },
  {
   "cell_type": "markdown",
   "metadata": {},
   "source": [
    "## 第2章  数据的收集与整理"
   ]
  },
  {
   "cell_type": "markdown",
   "metadata": {},
   "source": [
    "## 第3章  Python编程基础"
   ]
  },
  {
   "cell_type": "markdown",
   "metadata": {},
   "source": [
    "## 第4章  数据的探索分析"
   ]
  },
  {
   "cell_type": "markdown",
   "metadata": {},
   "source": [
    "## 第5章  数据的直观分析"
   ]
  },
  {
   "cell_type": "markdown",
   "metadata": {},
   "source": [
    "## 第6章  数据的统计分析"
   ]
  },
  {
   "cell_type": "markdown",
   "metadata": {},
   "source": [
    "# 第7章 数据的模型分析及可视化"
   ]
  },
  {
   "cell_type": "markdown",
   "metadata": {},
   "source": [
    "<img src=\"./Fig/Mind7.png\" width=\"1100\">"
   ]
  },
  {
   "cell_type": "markdown",
   "metadata": {},
   "source": [
    "## 7.1 线性相关分析模型"
   ]
  },
  {
   "cell_type": "markdown",
   "metadata": {},
   "source": [
    "### 　7.1.1  线性相关的概念和模拟"
   ]
  },
  {
   "cell_type": "raw",
   "metadata": {},
   "source": [
    "7.1.1.1 线性相关的概念"
   ]
  },
  {
   "cell_type": "raw",
   "metadata": {},
   "source": [
    "7.1.1.2 线性相关的模拟"
   ]
  },
  {
   "cell_type": "code",
   "execution_count": 1,
   "metadata": {},
   "outputs": [
    {
     "data": {
      "text/plain": [
       "array([-4.        , -3.57894737, -3.15789474, -2.73684211, -2.31578947,\n",
       "       -1.89473684, -1.47368421, -1.05263158, -0.63157895, -0.21052632,\n",
       "        0.21052632,  0.63157895,  1.05263158,  1.47368421,  1.89473684,\n",
       "        2.31578947,  2.73684211,  3.15789474,  3.57894737,  4.        ])"
      ]
     },
     "execution_count": 1,
     "metadata": {},
     "output_type": "execute_result"
    }
   ],
   "source": [
    "import numpy as np\n",
    "x=np.linspace(-4,4,20)            #构建[-4,4]上 x 的数据向量 \n",
    "x"
   ]
  },
  {
   "cell_type": "code",
   "execution_count": null,
   "metadata": {},
   "outputs": [],
   "source": [
    "np.random.seed(1)                 #设置随机种子数以便重复结果\n",
    "e=np.random.randn(20)             #随机误差数据向量 e~N(0,1)\n",
    "e"
   ]
  },
  {
   "cell_type": "code",
   "execution_count": null,
   "metadata": {},
   "outputs": [],
   "source": [
    "import matplotlib.pyplot as plt \n",
    "y1=x; plt.plot(x,y1,'o');         #完全正相关 y=x"
   ]
  },
  {
   "cell_type": "code",
   "execution_count": null,
   "metadata": {},
   "outputs": [],
   "source": [
    "y2=-x; plt.plot(x,y2,'o');        #完全负相关 y=-x"
   ]
  },
  {
   "cell_type": "code",
   "execution_count": null,
   "metadata": {},
   "outputs": [],
   "source": [
    "y3=x+e; plt.plot(x,y3,'o');       #正相关 y=x+e"
   ]
  },
  {
   "cell_type": "code",
   "execution_count": null,
   "metadata": {},
   "outputs": [],
   "source": [
    "y4=-x+e; plt.plot(x,y4,'o');      #负相关 y=-x+e"
   ]
  },
  {
   "cell_type": "markdown",
   "metadata": {},
   "source": [
    "### 　7.1.2 相关系数的计算"
   ]
  },
  {
   "cell_type": "raw",
   "metadata": {},
   "source": [
    "7.1.2.1 相关系数的计算公式"
   ]
  },
  {
   "cell_type": "raw",
   "metadata": {},
   "source": [
    "7.1.2.2 相关系数的直观分析"
   ]
  },
  {
   "cell_type": "code",
   "execution_count": null,
   "metadata": {},
   "outputs": [],
   "source": [
    "fig,ax=plt.subplots(2,2,figsize=(10,8)) #将上述四个图放到一页上\n",
    "ax[0,0].plot(x,y1,'o'); ax[0,1].plot(x,y2,'o')     \n",
    "ax[1,0].plot(x,y3,'o'); ax[1,1].plot(x,y4,'o');   "
   ]
  },
  {
   "cell_type": "raw",
   "metadata": {},
   "source": [
    "7.1.2.3 相关系数的Python计算"
   ]
  },
  {
   "cell_type": "code",
   "execution_count": null,
   "metadata": {},
   "outputs": [],
   "source": [
    "plt.plot(x,y1,'o');\n",
    "np.corrcoef([x,y1])"
   ]
  },
  {
   "cell_type": "code",
   "execution_count": null,
   "metadata": {},
   "outputs": [],
   "source": [
    "plt.plot(x,y2,'o');\n",
    "np.corrcoef([x,y2])"
   ]
  },
  {
   "cell_type": "code",
   "execution_count": null,
   "metadata": {},
   "outputs": [],
   "source": [
    "plt.plot(x,y3,'o');\n",
    "np.corrcoef([x,y3])[0,1]"
   ]
  },
  {
   "cell_type": "code",
   "execution_count": null,
   "metadata": {},
   "outputs": [],
   "source": [
    "plt.plot(x,y4,'o');\n",
    "np.corrcoef(x,y4)[0,1]"
   ]
  },
  {
   "cell_type": "code",
   "execution_count": null,
   "metadata": {},
   "outputs": [],
   "source": [
    "np.corrcoef([x,y1,y2,y3,y4])  "
   ]
  },
  {
   "cell_type": "code",
   "execution_count": null,
   "metadata": {},
   "outputs": [],
   "source": [
    "import pandas as pd   #构建模拟数据的数据框\n",
    "xy=pd.DataFrame({'x':x,'y1':y1,'y2':y2,'y3':y3,'y4':y4});xy"
   ]
  },
  {
   "cell_type": "code",
   "execution_count": null,
   "metadata": {},
   "outputs": [],
   "source": [
    "xy.corrwith(xy.x)"
   ]
  },
  {
   "cell_type": "code",
   "execution_count": null,
   "metadata": {},
   "outputs": [],
   "source": [
    "xy.corr()   #根据数据框计算相关系数矩阵"
   ]
  },
  {
   "cell_type": "code",
   "execution_count": null,
   "metadata": {},
   "outputs": [],
   "source": [
    "pd.plotting.scatter_matrix(xy,figsize=(9,8)); #矩阵散点图"
   ]
  },
  {
   "cell_type": "raw",
   "metadata": {},
   "source": [
    "下面计算实际数据（通常是定量数据）的线性相关系数。"
   ]
  },
  {
   "cell_type": "code",
   "execution_count": null,
   "metadata": {},
   "outputs": [],
   "source": [
    "import pandas as pd           #读取BSdata分析用数据\n",
    "BS=pd.read_excel('DaPy_data.xlsx','BSdata')[['性别','身高','体重','支出']];BS "
   ]
  },
  {
   "cell_type": "code",
   "execution_count": null,
   "metadata": {},
   "outputs": [],
   "source": [
    "plt.plot(BS['身高'],BS['体重'],'o');\n",
    "BS['身高'].corr(BS['体重'])   #BS.身高.corr(BS.体重)"
   ]
  },
  {
   "cell_type": "code",
   "execution_count": null,
   "metadata": {},
   "outputs": [],
   "source": [
    "BS[['身高','体重']].corr()"
   ]
  },
  {
   "cell_type": "code",
   "execution_count": null,
   "metadata": {},
   "outputs": [],
   "source": [
    "BS.corr()"
   ]
  },
  {
   "cell_type": "code",
   "execution_count": null,
   "metadata": {},
   "outputs": [],
   "source": [
    "plt.rcParams['font.sans-serif']=['SimSun'];  #设置中文字体为'宋体'\n",
    "pd.plotting.scatter_matrix(BS,figsize=(9,8)); #矩阵散点图"
   ]
  },
  {
   "cell_type": "raw",
   "metadata": {},
   "source": [
    "7.1.3 样本相关系数的检验"
   ]
  },
  {
   "cell_type": "code",
   "execution_count": null,
   "metadata": {},
   "outputs": [],
   "source": [
    "import scipy.stats as st #加载统计分析方法包 \n",
    "st.pearsonr(x,y1)        #pearson相关及检验 "
   ]
  },
  {
   "cell_type": "code",
   "execution_count": null,
   "metadata": {},
   "outputs": [],
   "source": [
    "st.pearsonr(x,y2) "
   ]
  },
  {
   "cell_type": "code",
   "execution_count": null,
   "metadata": {},
   "outputs": [],
   "source": [
    "st.pearsonr(x,y3) "
   ]
  },
  {
   "cell_type": "code",
   "execution_count": null,
   "metadata": {},
   "outputs": [],
   "source": [
    "st.pearsonr(x,y4) "
   ]
  },
  {
   "cell_type": "code",
   "execution_count": null,
   "metadata": {},
   "outputs": [],
   "source": [
    "plt.plot(BS['身高'],BS['体重'],'o');\n",
    "st.pearsonr(BS.身高,BS.体重)"
   ]
  },
  {
   "cell_type": "code",
   "execution_count": null,
   "metadata": {},
   "outputs": [],
   "source": [
    "plt.plot(BS['身高'],BS.支出,'o');\n",
    "st.pearsonr(BS.身高,BS.支出)"
   ]
  },
  {
   "cell_type": "markdown",
   "metadata": {},
   "source": [
    "## 7.2 简单线性回归分析模型"
   ]
  },
  {
   "cell_type": "markdown",
   "metadata": {},
   "source": [
    "### 　7.2.1  直线回归模型的建立"
   ]
  },
  {
   "cell_type": "raw",
   "metadata": {},
   "source": [
    "7.2.1.1 直线回归模型的概念"
   ]
  },
  {
   "cell_type": "raw",
   "metadata": {},
   "source": [
    "7.2.1.2 直线回归的可视化模拟"
   ]
  },
  {
   "cell_type": "code",
   "execution_count": null,
   "metadata": {},
   "outputs": [],
   "source": [
    "# 定义模拟直线回归函数\n",
    "import statsmodels.api as sm                  #加载统计模型包\n",
    "def reglinedemo(n=20):                        #模拟样本例数\n",
    "    x=np.arange(n)+1                          #自变量取值\n",
    "    e=np.random.normal(0,1,n)                 #误差项\n",
    "    y=2+0.5*x+e                               #因变量值\n",
    "    x1=sm.add_constant(x);x1                  #加常数项\n",
    "    fm=sm.OLS(y,x1).fit();fm                  #模型拟合，见下\n",
    "    plt.plot(x,y,'.',x,fm.fittedvalues,'r-'); #添加回归线，红色\n",
    "    for i in range(len(x)):                   #画垂直线\n",
    "        plt.vlines(x,y,fm.fittedvalues,linestyles='dotted',colors='b');"
   ]
  },
  {
   "cell_type": "code",
   "execution_count": null,
   "metadata": {},
   "outputs": [],
   "source": [
    "np.random.seed(12)\n",
    "reglinedemo(20)"
   ]
  },
  {
   "cell_type": "code",
   "execution_count": null,
   "metadata": {},
   "outputs": [],
   "source": [
    "np.random.seed(12)\n",
    "reglinedemo(40)"
   ]
  },
  {
   "cell_type": "raw",
   "metadata": {},
   "source": [
    "7.2.1.3 最小二乘估计方法"
   ]
  },
  {
   "cell_type": "raw",
   "metadata": {},
   "source": [
    "（1）散点图"
   ]
  },
  {
   "cell_type": "code",
   "execution_count": null,
   "metadata": {},
   "outputs": [],
   "source": [
    "y=BS.体重; x=BS.身高 \n",
    "plt.plot(x,y,'o');"
   ]
  },
  {
   "cell_type": "raw",
   "metadata": {},
   "source": [
    "（2）模型拟合"
   ]
  },
  {
   "cell_type": "code",
   "execution_count": null,
   "metadata": {},
   "outputs": [],
   "source": [
    "import statsmodels.api as sm            #加载线性回归模型库\n",
    "fm1=sm.OLS(y,sm.add_constant(x)).fit()  #最小二乘估计，加常数项\n",
    "fm1.params                              #模型参数的估计值"
   ]
  },
  {
   "cell_type": "raw",
   "metadata": {},
   "source": [
    "（3）回归直线拟合图"
   ]
  },
  {
   "cell_type": "code",
   "execution_count": null,
   "metadata": {},
   "outputs": [],
   "source": [
    "yfit=fm1.fittedvalues #拟合估计值"
   ]
  },
  {
   "cell_type": "code",
   "execution_count": null,
   "metadata": {},
   "outputs": [],
   "source": [
    "plt.plot(x, y,'.',x,yfit, 'r-'); "
   ]
  },
  {
   "cell_type": "markdown",
   "metadata": {},
   "source": [
    "### 　7.2.2  直线回归模型的检验"
   ]
  },
  {
   "cell_type": "raw",
   "metadata": {},
   "source": [
    "7.2.2.1 回归系数的检验"
   ]
  },
  {
   "cell_type": "code",
   "execution_count": null,
   "metadata": {},
   "outputs": [],
   "source": [
    "fm1.tvalues      #模型系数t值"
   ]
  },
  {
   "cell_type": "code",
   "execution_count": null,
   "metadata": {},
   "outputs": [],
   "source": [
    "fm1.pvalues      #系数检验p值"
   ]
  },
  {
   "cell_type": "code",
   "execution_count": null,
   "metadata": {},
   "outputs": [],
   "source": [
    " pd.DataFrame({'b':fm1.params,'t':fm1.tvalues,'p':fm1.pvalues})  #格式输出"
   ]
  },
  {
   "cell_type": "code",
   "execution_count": null,
   "metadata": {},
   "outputs": [],
   "source": [
    "import pandas as pd           #读取BSdata分析用数据\n",
    "BS=pd.read_excel('DaPy_data.xlsx','BSdata')[['性别','身高','体重','支出']];BS "
   ]
  },
  {
   "cell_type": "code",
   "execution_count": null,
   "metadata": {},
   "outputs": [],
   "source": [
    "import statsmodels.formula.api as smf  #加载公式模型建立包\n",
    "fm2=smf.ols('体重~身高',data=BS).fit()   \n",
    "fm2.summary().tables[1]    #回归系数检验表，来自summary的第2张表   "
   ]
  },
  {
   "cell_type": "code",
   "execution_count": null,
   "metadata": {},
   "outputs": [],
   "source": [
    "fm2.summary().tables[0]"
   ]
  },
  {
   "cell_type": "code",
   "execution_count": null,
   "metadata": {},
   "outputs": [],
   "source": [
    "fm2.summary().tables[2]"
   ]
  },
  {
   "cell_type": "code",
   "execution_count": null,
   "metadata": {},
   "outputs": [],
   "source": [
    "fm3=smf.ols('体重~身高+支出',data=BS).fit()\n",
    "fm3.summary().tables[1]    #回归系数检验表，来自summary的第2张表"
   ]
  },
  {
   "cell_type": "raw",
   "metadata": {},
   "source": [
    "7.2.2.2 回归模型的检验"
   ]
  },
  {
   "cell_type": "code",
   "execution_count": null,
   "metadata": {},
   "outputs": [],
   "source": [
    "fm3.summary()"
   ]
  },
  {
   "cell_type": "code",
   "execution_count": null,
   "metadata": {},
   "outputs": [],
   "source": [
    "%run init.py"
   ]
  },
  {
   "cell_type": "markdown",
   "metadata": {},
   "source": [
    "### 　7.2.3  直线回归模型的预测"
   ]
  },
  {
   "cell_type": "code",
   "execution_count": null,
   "metadata": {},
   "outputs": [],
   "source": [
    "fm2.predict(pd.DataFrame({'身高':[170]}))         #估计"
   ]
  },
  {
   "cell_type": "code",
   "execution_count": null,
   "metadata": {},
   "outputs": [],
   "source": [
    "fm2.predict(pd.DataFrame({'身高':[190]}))          #预测"
   ]
  },
  {
   "cell_type": "code",
   "execution_count": null,
   "metadata": {},
   "outputs": [],
   "source": [
    "fm2.predict(pd.DataFrame({'身高': [170,180,190]}))  #估计与预测"
   ]
  },
  {
   "cell_type": "markdown",
   "metadata": {},
   "source": [
    "## 7.3 分组可视化模型分析"
   ]
  },
  {
   "cell_type": "code",
   "execution_count": null,
   "metadata": {},
   "outputs": [],
   "source": [
    "BS_M=BS[BS.性别=='男'][['身高','体重']];BS_M "
   ]
  },
  {
   "cell_type": "code",
   "execution_count": null,
   "metadata": {},
   "outputs": [],
   "source": [
    "BS_F=BS[BS.性别=='女'][['身高','体重']];BS_F "
   ]
  },
  {
   "cell_type": "markdown",
   "metadata": {},
   "source": [
    "### 　7.3.1 可视化分组线性相关分析"
   ]
  },
  {
   "cell_type": "raw",
   "metadata": {},
   "source": [
    "（1）男生身高与体重的相关分析"
   ]
  },
  {
   "cell_type": "code",
   "execution_count": null,
   "metadata": {},
   "outputs": [],
   "source": [
    "import scipy.stats as st \n",
    "M_r=st.pearsonr(BS_M.身高,BS_M.体重);M_r "
   ]
  },
  {
   "cell_type": "code",
   "execution_count": null,
   "metadata": {},
   "outputs": [],
   "source": [
    "plt.rcParams['font.sans-serif']=['SimSun'];  #设置中文字体为'宋体'\n",
    "import seaborn as sns \n",
    "sns.jointplot('身高','体重',data=BS_M);  #直方图+散点图"
   ]
  },
  {
   "cell_type": "raw",
   "metadata": {},
   "source": [
    "（2）女生身高与体重的相关分析 "
   ]
  },
  {
   "cell_type": "code",
   "execution_count": null,
   "metadata": {},
   "outputs": [],
   "source": [
    "#plt.plot(BS_F.身高,BS_F.体重,'o');\n",
    "#plt.title(M_r);\n",
    "st.pearsonr(BS_F.身高,BS_F.体重)"
   ]
  },
  {
   "cell_type": "code",
   "execution_count": null,
   "metadata": {},
   "outputs": [],
   "source": [
    "sns.jointplot('身高','体重',data=BS_F);"
   ]
  },
  {
   "cell_type": "markdown",
   "metadata": {},
   "source": [
    "### 　7.3.2 可视化分组线性回归模型"
   ]
  },
  {
   "cell_type": "raw",
   "metadata": {},
   "source": [
    "（1）男生身高与体重的回归分析 "
   ]
  },
  {
   "cell_type": "code",
   "execution_count": null,
   "metadata": {},
   "outputs": [],
   "source": [
    "smf.ols('体重~身高',data=BS_M).fit().summary().tables[1]"
   ]
  },
  {
   "cell_type": "code",
   "execution_count": null,
   "metadata": {},
   "outputs": [],
   "source": [
    "sns.regplot(y=\"体重\",x=\"身高\",data=BS_M,ci=0);"
   ]
  },
  {
   "cell_type": "code",
   "execution_count": null,
   "metadata": {},
   "outputs": [],
   "source": [
    "sns.jointplot('身高','体重',data=BS_M,kind='reg');"
   ]
  },
  {
   "cell_type": "raw",
   "metadata": {},
   "source": [
    "（2）女生身高与体重的回归分析 "
   ]
  },
  {
   "cell_type": "code",
   "execution_count": null,
   "metadata": {},
   "outputs": [],
   "source": [
    "smf.ols('体重~身高',data=BS_F).fit().summary().tables[1] "
   ]
  },
  {
   "cell_type": "code",
   "execution_count": null,
   "metadata": {},
   "outputs": [],
   "source": [
    "sns.regplot(y='体重',x='身高',data=BS_F,ci=0);"
   ]
  },
  {
   "cell_type": "code",
   "execution_count": null,
   "metadata": {},
   "outputs": [],
   "source": [
    "sns.jointplot('身高','体重',data=BS_F,kind='reg',ci=0); "
   ]
  },
  {
   "cell_type": "raw",
   "metadata": {},
   "source": [
    "（3）基于plotnine的分组回归分析可视化"
   ]
  },
  {
   "cell_type": "code",
   "execution_count": null,
   "metadata": {},
   "outputs": [],
   "source": [
    "from plotnine import *    \n",
    "theme_set(theme_bw(base_family='SimSun'));"
   ]
  },
  {
   "cell_type": "code",
   "execution_count": null,
   "metadata": {},
   "outputs": [],
   "source": [
    "(ggplot(BS,aes('身高','体重')) + geom_point() + facet_wrap('性别',nrow=1)\n",
    "        + stat_smooth(method='lm',se=True))   #无可信区间的回归线 "
   ]
  },
  {
   "cell_type": "code",
   "execution_count": null,
   "metadata": {},
   "outputs": [],
   "source": [
    "(ggplot(BS,aes('身高','体重')) + geom_point() + facet_wrap('性别',nrow=2) \n",
    "        + stat_smooth(method='lm',se=False))           #有可信区间的回归线 "
   ]
  }
 ],
 "metadata": {
  "kernelspec": {
   "display_name": "Python 3 (ipykernel)",
   "language": "python",
   "name": "python3"
  },
  "language_info": {
   "codemirror_mode": {
    "name": "ipython",
    "version": 3
   },
   "file_extension": ".py",
   "mimetype": "text/x-python",
   "name": "python",
   "nbconvert_exporter": "python",
   "pygments_lexer": "ipython3",
   "version": "3.8.10"
  }
 },
 "nbformat": 4,
 "nbformat_minor": 4
}
