{
 "cells": [
  {
   "cell_type": "markdown",
   "id": "82d9ab51",
   "metadata": {},
   "source": [
    "# 正则表达式\n",
    "\n",
    "   1，正则表达式是对字符串操作的一种逻辑公式，就是用事先定义好的一些特殊字符及这些特定字符的组合，组成一个“规则字符串”，这个“规则字符串”用来表达对字符串的一种逻辑过滤。\n",
    "    \n",
    "   2，非python独有\n",
    "    \n",
    "   3，python里面是使用re模块来实现的，不需要额外进行安装，是python内置模块"
   ]
  },
  {
   "cell_type": "code",
   "execution_count": null,
   "id": "b64242d8",
   "metadata": {},
   "outputs": [],
   "source": [
    "我是 文字"
   ]
  },
  {
   "cell_type": "markdown",
   "id": "78ec2975",
   "metadata": {},
   "source": [
    "## 常见匹配模式"
   ]
  },
  {
   "cell_type": "markdown",
   "id": "a2320edf",
   "metadata": {},
   "source": [
    "| 模式| 描述|\n",
    "|----|----|\n",
    "| \\w\t| 匹配字母数字及下划线 |\n",
    "| \\W\t| 匹配非字母数字下划线 |\n",
    "| \\s\t| 匹配任意空白字符，等价于 [\\t\\n\\r\\f]. |\n",
    "| \\S\t| 匹配任意非空字符 |\n",
    "| \\d\t| 匹配任意数字，等价于 [0-9] |\n",
    "| \\D\t| 匹配任意非数字 |\n",
    "| \\A\t| 匹配字符串开始 |\n",
    "| \\Z\t| 匹配字符串结束，如果是存在换行，只匹配到换行前的结束字符串 |\n",
    "| \\z\t| 匹配字符串结束 |\n",
    "| \\G\t| 匹配最后匹配完成的位置 |\n",
    "| \\n | 匹配一个换行符 |\n",
    "| \\t | 匹配一个制表符 |\n",
    "| ^\t| 匹配字符串的开头 |\n",
    "| $\t| 匹配字符串的末尾。|\n",
    "| .\t| 匹配任意字符，除了换行符，当re.DOTALL标记被指定时，则可以匹配包括换行符的任意字符。|\n",
    "| [...]\t| 用来表示一组字符,单独列出：[amk] 匹配 'a'，'m'或'k' |\n",
    "| [^...]\t| 不在[]中的字符：[^abc] 匹配除了a,b,c之外的字符。| \n",
    "| *\t| 匹配0个或多个的表达式。|\n",
    "| +\t| 匹配1个或多个的表达式。|\n",
    "| ?\t| 匹配0个或1个由前面的正则表达式定义的片段，非贪婪方式| \n",
    "| {n}\t| 精确匹配n个前面表达式。|\n",
    "| {n, m} | 匹配 n 到 m 次由前面的正则表达式定义的片段，贪婪方式| \n",
    "| a&#124;b | 匹配a或b |\n",
    "| ( )\t| 匹配括号内的表达式，也表示一个组 |"
   ]
  },
  {
   "cell_type": "markdown",
   "id": "4d288b64",
   "metadata": {},
   "source": [
    "## 一，re.match()方法的使用\n",
    "\n",
    "   re.match() 尝试从字符串的起始位置匹配一个模式，如果不是起始位置匹配成功的话，match()就返回None。\n",
    "    "
   ]
  },
  {
   "cell_type": "markdown",
   "id": "8e22a722",
   "metadata": {},
   "source": [
    "### 1，最常规的匹配"
   ]
  },
  {
   "cell_type": "code",
   "execution_count": 3,
   "id": "7679b8c4",
   "metadata": {},
   "outputs": [
    {
     "name": "stdout",
     "output_type": "stream",
     "text": [
      "<re.Match object; span=(0, 43), match='Hello 123 456789 World_This is a Regex Demo'>\n",
      "Hello 123 456789 World_This is a Regex Demo\n",
      "(0, 43)\n",
      "43\n"
     ]
    }
   ],
   "source": [
    "import re #导包\n",
    "\n",
    "content = 'Hello 123 456789 World_This is a Regex Demo'  # 准备好的待匹配字符串\n",
    "res = re.match('^Hello\\s\\d\\d\\d\\s\\d{6}\\s\\w{10}.*Demo$', content) \n",
    "\n",
    "print(res) # 返回的是一个匹配对象\n",
    "print(res.group())  # .group()获取匹配内容\n",
    "print(res.span())  # 查看匹配长度\n",
    "print(len(content))  # len统计字符串数量"
   ]
  },
  {
   "cell_type": "markdown",
   "id": "a03fc613",
   "metadata": {},
   "source": [
    "### 2，泛匹配"
   ]
  },
  {
   "cell_type": "code",
   "execution_count": 7,
   "id": "717c3ed4",
   "metadata": {},
   "outputs": [
    {
     "name": "stdout",
     "output_type": "stream",
     "text": [
      "Hello 123 4567 World_Thixs is a Regex\n",
      "(0, 37)\n"
     ]
    }
   ],
   "source": [
    "import re\n",
    "\n",
    "content = 'Hello 123 4567 World_Thixs is a Regex'\n",
    "result = re.match('He.*?Regex',content)\n",
    "\n",
    "print(result.group()) # 获取匹配内容\n",
    "print(result.span()) # 获取匹配长度"
   ]
  },
  {
   "cell_type": "markdown",
   "id": "bbce5ada",
   "metadata": {},
   "source": [
    "### 3，匹配目标--分组匹配\n",
    "\n",
    "为了匹配字符串中具体的目标，可以使用（）进行分组匹配"
   ]
  },
  {
   "cell_type": "code",
   "execution_count": 9,
   "id": "cf93bac0",
   "metadata": {},
   "outputs": [
    {
     "name": "stdout",
     "output_type": "stream",
     "text": [
      "qwe Hello 1234567 World_This is a Regex Demo\n",
      "Hello\n",
      "1234567\n"
     ]
    }
   ],
   "source": [
    "import re\n",
    "\n",
    "content = 'qwe Hello 1234567 World_This is a Regex Demo'\n",
    "\n",
    "result = re.match('^qwe\\s(\\w+)\\s(\\d{7}).*Demo$',content)\n",
    "\n",
    "print(result.group()) # 获取匹配内容\n",
    "print(result.group(1)) # 提取第一组表达式内匹配到的字符\n",
    "print(result.group(2)) # 提取第二组表达式内匹配的字符"
   ]
  },
  {
   "cell_type": "markdown",
   "id": "915b51cf",
   "metadata": {},
   "source": [
    "### 4，贪婪匹配\n",
    "\n",
    "尽可能多的去匹配"
   ]
  },
  {
   "cell_type": "code",
   "execution_count": 12,
   "id": "e2857c4d",
   "metadata": {},
   "outputs": [
    {
     "name": "stdout",
     "output_type": "stream",
     "text": [
      "<re.Match object; span=(0, 40), match='Hello 1234567 World_This is a Regex Demo'>\n",
      "7\n"
     ]
    }
   ],
   "source": [
    "import re\n",
    "# 匹配尽可能多的字符\n",
    "content = 'Hello 1234567 World_This is a Regex Demo'\n",
    "\n",
    "result = re.match('^He.*(\\d+)\\s.*Demo$', content)  \n",
    "print(result)\n",
    "print(result.group(1)) "
   ]
  },
  {
   "cell_type": "markdown",
   "id": "aa53aa96",
   "metadata": {},
   "source": [
    "### 5，非贪婪匹配\n",
    "\n",
    "尽可能少的去匹配"
   ]
  },
  {
   "cell_type": "code",
   "execution_count": 13,
   "id": "a9ee8e0a",
   "metadata": {},
   "outputs": [
    {
     "name": "stdout",
     "output_type": "stream",
     "text": [
      "<re.Match object; span=(0, 40), match='Hello 1234567 World_This is a Regex Demo'>\n",
      "1234567\n"
     ]
    }
   ],
   "source": [
    "import re\n",
    "# 匹配尽可能少的字符\n",
    "content = 'Hello 1234567 World_This is a Regex Demo'\n",
    "result = re.match('^He.*?(\\d+).*Demo$', content)\n",
    "\n",
    "print(result)\n",
    "print(result.group(1))"
   ]
  },
  {
   "cell_type": "markdown",
   "id": "bd4ca0a7",
   "metadata": {},
   "source": [
    "### 6，匹配模式"
   ]
  },
  {
   "cell_type": "code",
   "execution_count": 15,
   "id": "938b6e90",
   "metadata": {},
   "outputs": [
    {
     "name": "stdout",
     "output_type": "stream",
     "text": [
      "<re.Match object; span=(0, 41), match='Hello 1234567 World_This \\nis a Regex Demo'>\n",
      "1234567\n"
     ]
    }
   ],
   "source": [
    "import re\n",
    "\n",
    "# re.S ：匹配包括换行在内的所有字符\n",
    "content = '''Hello 1234567 World_This \n",
    "is a Regex Demo\n",
    "'''\n",
    "result = re.match('^He.*?(\\d+).*Demo$', content,re.S)\n",
    "print(result)\n",
    "print(result.group(1))"
   ]
  },
  {
   "cell_type": "markdown",
   "id": "8e70487a",
   "metadata": {},
   "source": [
    "### 7，转义"
   ]
  },
  {
   "cell_type": "code",
   "execution_count": 16,
   "id": "80ec4cd4",
   "metadata": {},
   "outputs": [
    {
     "name": "stdout",
     "output_type": "stream",
     "text": [
      "None\n"
     ]
    }
   ],
   "source": [
    "import re\n",
    "\n",
    "content = 'price is $5.00' \n",
    "\n",
    "result = re.match('price\\sis\\s$5.00', content)\n",
    "print(result)"
   ]
  },
  {
   "cell_type": "code",
   "execution_count": 19,
   "id": "0385a7fc",
   "metadata": {},
   "outputs": [
    {
     "name": "stdout",
     "output_type": "stream",
     "text": [
      "<re.Match object; span=(0, 14), match='price is $5.00'>\n",
      "price is $5.00\n"
     ]
    }
   ],
   "source": [
    "import re\n",
    "\n",
    "# \\表示转义，加在特殊字符的前面，表示它不是正则里的匹配符号，而是普通文本\n",
    "content = 'price is $5.00'\n",
    "result = re.match('price\\sis\\s\\$5\\.00', content)\n",
    "print(result)\n",
    "print(result.group())"
   ]
  },
  {
   "cell_type": "markdown",
   "id": "9c778b0e",
   "metadata": {},
   "source": [
    "#### 总结：尽量使用泛匹配、使用括号得到匹配目标、尽量使用非贪婪模式、有换行符就用re.S"
   ]
  },
  {
   "cell_type": "markdown",
   "id": "3db557e6",
   "metadata": {},
   "source": [
    "## 二，re.search()方法的使用\n",
    "re.search() 扫描整个字符串并返回第一个成功的匹配。"
   ]
  },
  {
   "cell_type": "code",
   "execution_count": 36,
   "id": "b5dc00b9",
   "metadata": {},
   "outputs": [
    {
     "name": "stdout",
     "output_type": "stream",
     "text": [
      "<re.Match object; span=(14, 28), match='Hello 1234567 '>\n",
      "1234567\n"
     ]
    }
   ],
   "source": [
    "import re\n",
    "\n",
    "content = 'Extroa stings Hello 1234567 World_This is a 66666666 RDemogex Demo Extra stings'\n",
    "\n",
    "result = re.search('He.*?(\\d+).*?Wor.*?s$', content)\n",
    "print(result)\n",
    "print(result.group(1))"
   ]
  },
  {
   "cell_type": "markdown",
   "id": "93e1ef09",
   "metadata": {},
   "source": [
    "#### 总结：为匹配方便，能用search()就不用match()"
   ]
  },
  {
   "cell_type": "markdown",
   "id": "d8e4ebc4",
   "metadata": {},
   "source": [
    "## 三，匹配演练"
   ]
  },
  {
   "cell_type": "code",
   "execution_count": 22,
   "id": "3605d953",
   "metadata": {},
   "outputs": [
    {
     "name": "stdout",
     "output_type": "stream",
     "text": [
      "齐秦\n",
      "往事随风\n"
     ]
    }
   ],
   "source": [
    "\n",
    "html = '''<div id=\"songs-list\">\n",
    "    <h2 class=\"title\">经典老歌</h2>\n",
    "    <p class=\"introduction\">\n",
    "        经典老歌列表\n",
    "    </p>\n",
    "    <ul id=\"list\" class=\"list-group\">\n",
    "        <li data-view=\"2\">一路有你</li>\n",
    "        <li data-view=\"7\">\n",
    "            <a href=\"/2.mp3\" singer=\"任贤齐\">沧海一声笑</a>\n",
    "        </li>\n",
    "\n",
    "        <li data-view=\"4\" class=\"active\">\n",
    "            <a href=\"/3.mp3\" singer=\"齐秦\">往事随风</a>\n",
    "        </li>\n",
    "        \n",
    "        <li data-view=\"6\"><a href=\"/4.mp3\" singer=\"beyond\">光辉岁月</a></li>\n",
    "        \n",
    "        <li data-view=\"5\"  class='active'><a href=\"/5.mp3\" singer=\"陈慧琳\">记事本</a></li>\n",
    "        \n",
    "        <li data-view=\"5\">\n",
    "            <a href=\"/6.mp3\" singer=\"邓丽君\"><i class=\"fa fa-user\"></i>但愿人长久</a>\n",
    "        </li>\n",
    "    </ul>\n",
    "</div>'''\n",
    "\n",
    "# 用正则匹配出 --- 齐秦 往事随风  \n",
    "import re\n",
    "# r = re.search('<a.*?singer=\"(.*?)\">(.*?)</a>',html)\n",
    "# print(r.group(1))\n",
    "# print(r.group(2))\n",
    "\n",
    "r = re.search('<li\\sdata-view=\"4\".*?<a.*?singer=\"(.*?)\">(.*?)</a>',html,re.S)\n",
    "print(r.group(1))\n",
    "print(r.group(2))"
   ]
  },
  {
   "cell_type": "code",
   "execution_count": 25,
   "id": "2c0772b2",
   "metadata": {},
   "outputs": [
    {
     "name": "stdout",
     "output_type": "stream",
     "text": [
      "/2.mp3\n",
      "任贤齐\n",
      "沧海一声笑\n"
     ]
    }
   ],
   "source": [
    "\n",
    "html = '''<div id=\"songs-list\">\n",
    "    <h2 class=\"title\">经典老歌</h2>\n",
    "    <p class=\"introduction\">\n",
    "        经典老歌列表\n",
    "    </p>\n",
    "    <ul id=\"list\" class=\"list-group\">\n",
    "        <li data-view=\"2\">一路有你</li>\n",
    "        <li data-view=\"7\">\n",
    "            <a href=\"/2.mp3\" singer=\"任贤齐\">沧海一声笑</a>\n",
    "        </li>\n",
    "\n",
    "        <li data-view=\"4\" class=\"active\">\n",
    "            <a href=\"/3.mp3\" singer=\"齐秦\">往事随风</a>\n",
    "        </li>\n",
    "        \n",
    "        <li data-view=\"6\"><a href=\"/4.mp3\" singer=\"beyond\">光辉岁月</a></li>\n",
    "        \n",
    "        <li data-view=\"5\"  class='active'><a href=\"/5.mp3\" singer=\"陈慧琳\">记事本</a></li>\n",
    "        \n",
    "        <li data-view=\"5\">\n",
    "            <a href=\"/6.mp3\" singer=\"邓丽君\"><i class=\"fa fa-user\"></i>但愿人长久</a>\n",
    "        </li>\n",
    "    </ul>\n",
    "</div>'''\n",
    "\n",
    "# 用正则匹配出 --- 所有的链接，歌手和歌手名\n",
    "r = re.search('<a\\shref=\"(.*?)\"\\ssinger=\"(.*?)\">(.*?)</a>',html,re.S)\n",
    "print(r.group(1))\n",
    "print(r.group(2))\n",
    "print(r.group(3))\n"
   ]
  },
  {
   "cell_type": "markdown",
   "id": "77e1f881",
   "metadata": {},
   "source": [
    "## 四， re.findall()\n",
    "\n",
    "前面的match()以及search()都只能匹配到第一个"
   ]
  },
  {
   "cell_type": "code",
   "execution_count": 29,
   "id": "599b6ad6",
   "metadata": {},
   "outputs": [
    {
     "name": "stdout",
     "output_type": "stream",
     "text": [
      "[('任贤齐', '沧海一声笑'), ('齐秦', '往事随风'), ('beyond', '光辉岁月'), ('陈慧琳', '记事本'), ('邓丽君', '但愿人长久')]\n"
     ]
    }
   ],
   "source": [
    "html = '''<div id=\"songs-list\">\n",
    "    <h2 class=\"title\">经典老歌</h2>\n",
    "    <p class=\"introduction\">\n",
    "        经典老歌列表\n",
    "    </p>\n",
    "    <ul id=\"list\" class=\"list-group\">\n",
    "         <li data-view=\"2\">一路有你</li>\n",
    "        <li data-view=\"7\">\n",
    "            <a href=\"/2.mp3\" singer=\"任贤齐\">沧海一声笑</a>\n",
    "        </li>\n",
    "        <li data-view=\"4\" class=\"active\">\n",
    "            <a href=\"/3.mp3\" singer=\"齐秦\">往事随风</a>\n",
    "        </li>\n",
    "        <li data-view=\"6\"><a href=\"/4.mp3\" singer=\"beyond\">光辉岁月</a></li>\n",
    "        <li data-view=\"5\"><a href=\"/5.mp3\" singer=\"陈慧琳\">记事本</a></li>\n",
    "        <li data-view=\"5\">\n",
    "            <a href=\"/6.mp3\" singer=\"邓丽君\">但愿人长久</a>\n",
    "        </li>\n",
    "    </ul>\n",
    "</div>'''\n",
    "\n",
    "# 拿到所有的链接，歌手和歌曲名\n",
    "# 用正则匹配出 --- 所有的链接，歌手和歌手名\n",
    "import re\n",
    "r = re.findall('<a\\shref=\"(.*?)\"\\ssinger=\"(.*?)\">(.*?)</a>',html,re.S)\n",
    "print(r)\n"
   ]
  },
  {
   "cell_type": "markdown",
   "id": "2864c788",
   "metadata": {},
   "source": [
    "## 五，re.sub()\n",
    "替换字符串中每一个匹配的字符"
   ]
  },
  {
   "cell_type": "code",
   "execution_count": 30,
   "id": "da17461c",
   "metadata": {},
   "outputs": [
    {
     "name": "stdout",
     "output_type": "stream",
     "text": [
      "Extra 7ting7 Hello 1234567 World_Thi7 i7 a Regex Demo Extra 7ting7\n"
     ]
    }
   ],
   "source": [
    "import re\n",
    "\n",
    "content = 'Extra stings Hello 1234567 World_This is a Regex Demo Extra stings'\n",
    "# 第一个参数 正则表达式\n",
    "# 第二个参数 :要替换的新字符\n",
    "# 第三个参数：原字符串\n",
    "content = re.sub('s', '7', content) \n",
    "print(content)"
   ]
  },
  {
   "cell_type": "code",
   "execution_count": 31,
   "id": "c2812eb3",
   "metadata": {},
   "outputs": [
    {
     "name": "stdout",
     "output_type": "stream",
     "text": [
      "Extra stings Hello 666 World_This is a Regex Demo Extra stings\n"
     ]
    }
   ],
   "source": [
    "import re\n",
    "\n",
    "content = 'Extra stings Hello 1234567 World_This is a Regex Demo Extra stings'\n",
    "content = re.sub('\\d+', '666', content)\n",
    "print(content)"
   ]
  },
  {
   "cell_type": "code",
   "execution_count": 32,
   "id": "edccb10a",
   "metadata": {},
   "outputs": [
    {
     "name": "stdout",
     "output_type": "stream",
     "text": [
      "Extra stings Hello 1234567 3333 World_This is a Regex Demo Extra stings\n"
     ]
    }
   ],
   "source": [
    "import re\n",
    "\n",
    "content = 'Extra stings Hello 1234567 World_This is a Regex Demo Extra stings'\n",
    "\n",
    "# 要替换的内容是在包含原字符串的本身后面去追加  \n",
    "# \\1表示保留原字符串，r表示追加， 空格后面为要追加的内容\n",
    "content = re.sub('(\\d+)',r'\\1 3333', content)\n",
    "print(content)"
   ]
  },
  {
   "cell_type": "code",
   "execution_count": 33,
   "id": "4b2d9574",
   "metadata": {
    "scrolled": true
   },
   "outputs": [
    {
     "name": "stdout",
     "output_type": "stream",
     "text": [
      "<div id=\"songs-list\">\n",
      "    <h2 class=\"title\">经典老歌</h2>\n",
      "    <p class=\"introduction\">\n",
      "        经典老歌列表\n",
      "    </p>\n",
      "    <ul id=\"list\" class=\"list-group\">\n",
      "        <li data-view=\"2\">一路上有你</li>\n",
      "        <li data-view=\"7\">\n",
      "            沧海一声笑\n",
      "        </li>\n",
      "        <li data-view=\"4\" class=\"active\">\n",
      "            往事随风\n",
      "        </li>\n",
      "        <li data-view=\"6\">光辉岁月</li>\n",
      "        <li data-view=\"5\">记事本</li>\n",
      "        <li data-view=\"5\">\n",
      "            但愿人长久\n",
      "        </li>\n",
      "    </ul>\n",
      "</div>\n"
     ]
    }
   ],
   "source": [
    "import re\n",
    "\n",
    "html = '''<div id=\"songs-list\">\n",
    "    <h2 class=\"title\">经典老歌</h2>\n",
    "    <p class=\"introduction\">\n",
    "        经典老歌列表\n",
    "    </p>\n",
    "    <ul id=\"list\" class=\"list-group\">\n",
    "        <li data-view=\"2\">一路上有你</li>\n",
    "        <li data-view=\"7\">\n",
    "            <a href=\"/2.mp3\" singer=\"任贤齐\">沧海一声笑</a>\n",
    "        </li>\n",
    "        <li data-view=\"4\" class=\"active\">\n",
    "            <a href=\"/3.mp3\" singer=\"齐秦\">往事随风</a>\n",
    "        </li>\n",
    "        <li data-view=\"6\"><a href=\"/4.mp3\" singer=\"beyond\">光辉岁月</a></li>\n",
    "        <li data-view=\"5\"><a href=\"/5.mp3\" singer=\"陈慧琳\">记事本</a></li>\n",
    "        <li data-view=\"5\">\n",
    "            <a href=\"/6.mp3\" singer=\"邓丽君\">但愿人长久</a>\n",
    "        </li>\n",
    "    </ul>\n",
    "</div>'''\n",
    "\n",
    "#  | 表示或\n",
    "html = re.sub('<a.*?>|</a>','', html)\n",
    "print(html) # a标签都被替换掉了"
   ]
  },
  {
   "cell_type": "code",
   "execution_count": null,
   "id": "497d8d31",
   "metadata": {},
   "outputs": [],
   "source": []
  }
 ],
 "metadata": {
  "kernelspec": {
   "display_name": "Python 3 (ipykernel)",
   "language": "python",
   "name": "python3"
  },
  "language_info": {
   "codemirror_mode": {
    "name": "ipython",
    "version": 3
   },
   "file_extension": ".py",
   "mimetype": "text/x-python",
   "name": "python",
   "nbconvert_exporter": "python",
   "pygments_lexer": "ipython3",
   "version": "3.9.12"
  }
 },
 "nbformat": 4,
 "nbformat_minor": 5
}
