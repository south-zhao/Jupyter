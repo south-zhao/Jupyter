{
 "cells": [
  {
   "cell_type": "markdown",
   "id": "assured-scoop",
   "metadata": {},
   "source": [
    "#### XPath原理：先将HTML文档转为XML文档，再用XPath查找HTML节点或元素"
   ]
  },
  {
   "cell_type": "markdown",
   "id": "instant-sudan",
   "metadata": {},
   "source": [
    "#### 什么是XML？\n",
    "\n",
    " 1，XML指可扩展标记语言\n",
    "    \n",
    "  2，XML是一种标记语言，类似于HTML\n",
    "    \n",
    "  3，XML的设计宗旨是传输数据，而非显示数据\n",
    "    \n",
    "  4，XML标签需要我们自己自定义\n",
    "    \n",
    "  5，XML被设计为具有自我描述性\n",
    "    "
   ]
  },
  {
   "cell_type": "markdown",
   "id": "informed-nirvana",
   "metadata": {},
   "source": [
    "XML和HTML的区别？\n",
    "\n",
    "1，XML被设计为传输和存储数据，其焦点是数据的内容\n",
    "\n",
    "2，HTML是显示数据以及如何更好的显示数据\n",
    "\n"
   ]
  },
  {
   "cell_type": "code",
   "execution_count": null,
   "id": "included-blank",
   "metadata": {},
   "outputs": [],
   "source": [
    "# XML文档示例\n",
    "# 这里面的标签都是自定义的\n",
    "\n",
    "<?xml version=\"1.0\" encoding=\"utf-8\"?>\n",
    "\n",
    "<bookstore>\n",
    "  <book category=\"cooking\">\n",
    "    <title lang=\"en\">Everyday Italian</title>  \n",
    "    <author>Giada De Laurentiis</author>  \n",
    "    <year>2005</year>  \n",
    "    <price>30.00</price>\n",
    "  </book>  \n",
    "\n",
    "  <book category=\"children\">\n",
    "    <title lang=\"en\">Harry Potter</title>  \n",
    "    <author>J K. Rowling</author>  \n",
    "    <year>2005</year>  \n",
    "    <price>29.99</price>\n",
    "  </book>  \n",
    "\n",
    "  <book category=\"web\">\n",
    "    <title lang=\"en\">XQuery Kick Start</title>  \n",
    "    <author>James McGovern</author>  \n",
    "    <author>Per Bothner</author>  \n",
    "    <author>Kurt Cagle</author>  \n",
    "    <author>James Linn</author>  \n",
    "    <author>Vaidyanathan Nagarajan</author>  \n",
    "    <year>2003</year>  \n",
    "    <price>49.99</price>\n",
    "  </book>\n",
    "\n",
    "  <book category=\"web\" cover=\"paperback\">\n",
    "    <title lang=\"en\">Learning XML</title>  \n",
    "    <author>Erik T. Ray</author>  \n",
    "    <year>2003</year>  \n",
    "    <price>39.95</price>\n",
    "  </book>\n",
    "\n",
    "</bookstore>"
   ]
  },
  {
   "cell_type": "markdown",
   "id": "nonprofit-merchandise",
   "metadata": {},
   "source": [
    "## XML的节点关系"
   ]
  },
  {
   "cell_type": "markdown",
   "id": "peaceful-prescription",
   "metadata": {},
   "source": [
    "#### 1，父（parent）"
   ]
  },
  {
   "cell_type": "markdown",
   "id": "shaped-chicago",
   "metadata": {},
   "source": [
    "每个元素及属性都有一个父\n",
    "\n",
    "下面这个XML例子中，book元是title,author,year,price元素的父"
   ]
  },
  {
   "cell_type": "code",
   "execution_count": null,
   "id": "minute-investing",
   "metadata": {},
   "outputs": [],
   "source": [
    "<?xml version=\"1.0\" encoding=\"utf-8\"?>\n",
    "\n",
    "<book>\n",
    "  <title>Harry Potter</title>\n",
    "  <author>J K. Rowling</author>\n",
    "  <year>2005</year>\n",
    "  <price>29.99</price>\n",
    "</book>"
   ]
  },
  {
   "cell_type": "markdown",
   "id": "australian-integrity",
   "metadata": {},
   "source": [
    "#### 2，子（children）"
   ]
  },
  {
   "cell_type": "markdown",
   "id": "historic-characterization",
   "metadata": {},
   "source": [
    "元素节点可能有零个，一个或者多个子\n",
    "\n",
    "在下面的例子中 title,author,year,price都是book元素的子"
   ]
  },
  {
   "cell_type": "code",
   "execution_count": null,
   "id": "metric-hungarian",
   "metadata": {},
   "outputs": [],
   "source": [
    "<?xml version=\"1.0\" encoding=\"utf-8\"?>\n",
    "\n",
    "<book>\n",
    "  <title>Harry Potter</title>\n",
    "  <author>J K. Rowling</author>\n",
    "  <year>2005</year>\n",
    "  <price>29.99</price>\n",
    "</book>"
   ]
  },
  {
   "cell_type": "markdown",
   "id": "silver-guide",
   "metadata": {},
   "source": [
    "#### 3，同胞（sibling）"
   ]
  },
  {
   "cell_type": "markdown",
   "id": "everyday-fairy",
   "metadata": {},
   "source": [
    "拥有相同的父的节点\n",
    "\n",
    "在下面例子中 title,author,year,price元素都是同胞\n",
    "\n"
   ]
  },
  {
   "cell_type": "code",
   "execution_count": null,
   "id": "alleged-substance",
   "metadata": {},
   "outputs": [],
   "source": [
    "<?xml version=\"1.0\" encoding=\"utf-8\"?>\n",
    "\n",
    "<book>\n",
    "  <title>Harry Potter</title>\n",
    "  <author>J K. Rowling</author>\n",
    "  <year>2005</year>\n",
    "  <price>29.99</price>\n",
    "</book>"
   ]
  },
  {
   "cell_type": "markdown",
   "id": "adopted-workplace",
   "metadata": {},
   "source": [
    "#### 4，先辈（ancestor）"
   ]
  },
  {
   "cell_type": "markdown",
   "id": "selected-extension",
   "metadata": {},
   "source": [
    "某节点的父，父的父，等等\n",
    "\n",
    "下面例子中，title元素的先辈是book和bookstore\n"
   ]
  },
  {
   "cell_type": "code",
   "execution_count": null,
   "id": "circular-hughes",
   "metadata": {},
   "outputs": [],
   "source": [
    "<?xml version=\"1.0\" encoding=\"utf-8\"?>\n",
    "\n",
    "<bookstore>\n",
    "\n",
    "    <book>\n",
    "      <title>Harry Potter</title>\n",
    "      <author>J K. Rowling</author>\n",
    "      <year>2005</year>\n",
    "      <price>29.99</price>\n",
    "    </book>\n",
    "\n",
    "</bookstore>"
   ]
  },
  {
   "cell_type": "markdown",
   "id": "green-dream",
   "metadata": {},
   "source": [
    "#### 5，后代"
   ]
  },
  {
   "cell_type": "markdown",
   "id": "timely-killing",
   "metadata": {},
   "source": [
    "某节点的子，子的子，等等\n",
    "\n",
    "下面例子中，bookstore后代是book,title,author,year,price元素"
   ]
  },
  {
   "cell_type": "code",
   "execution_count": 4,
   "id": "coordinated-figure",
   "metadata": {},
   "outputs": [],
   "source": [
    "<?xml version=\"1.0\" encoding=\"utf-8\"?>\n",
    "<bookstore>\n",
    "<book>\n",
    "  <title>Harry Potter</title>\n",
    "  <author>J K. Rowling</author>\n",
    "  <year>2005</year>\n",
    "  <price>29.99</price>\n",
    "</book>\n",
    "</bookstore>"
   ]
  },
  {
   "cell_type": "markdown",
   "id": "introductory-expert",
   "metadata": {},
   "source": [
    "## 什么是XPath?\n",
    "\n",
    "#### XPath（XML Path Language）是一门在XML文档中查找信息的语言，可以用来在XML文档对元素和属性进行遍历\n",
    "\n",
    "XML Path Language : XML路径语言"
   ]
  },
  {
   "cell_type": "markdown",
   "id": "existing-amber",
   "metadata": {},
   "source": [
    "## 选取节点"
   ]
  },
  {
   "cell_type": "markdown",
   "id": "nearby-drinking",
   "metadata": {},
   "source": [
    "XPath使用路径表达式来选取XML文档中的节点或者节点集，这些路径表达式和我们在常规的电脑文件系统里看到的表达式非常相似"
   ]
  },
  {
   "cell_type": "markdown",
   "id": "instant-liabilities",
   "metadata": {},
   "source": [
    "下面列出了最常用的路径表达式：\n",
    "\n",
    "| 表达式   | 描述                                                       |\n",
    "| -------- | ---------------------------------------------------------- |\n",
    "| nodename | 选取此节点的所有子节点。                                   |\n",
    "| /        | 从根节点选取。                                             |\n",
    "| **//**   | 从匹配选择的当前节点选择文档中的节点，而不考虑它们的位置。 |\n",
    "| .        | 选取当前节点。                                             |\n",
    "| ..       | 选取当前节点的父节点。                                     |\n",
    "| **@**    | 选取属性。                                                 |"
   ]
  },
  {
   "cell_type": "markdown",
   "id": "manufactured-offset",
   "metadata": {},
   "source": [
    "在下面的表格中，我们已列出了一些路径表达式以及表达式的结果：\n",
    "\n",
    "|   |                                           |  |\n",
    "| --------------- | ------------------------------------------------------------ | ---- |\n",
    "| bookstore       | 选取 bookstore 元素的所有子节点。                            |      |\n",
    "| /bookstore      | 选取根元素 bookstore。注释：假如路径起始于正斜杠( / )，则此路径始终代表到某元素的绝对路径！ |      |\n",
    "| bookstore/book  | 选取属于 bookstore 的子元素的所有 book 元素。                |      |\n",
    "| //book          | 选取所有 book 子元素，而不管它们在文档中的位置。             |      |\n",
    "| bookstore//book | 选择属于 bookstore 元素的后代的所有 book 元素，而不管它们位于 bookstore 之下的什么位置。 |      |\n",
    "| //@lang         | 选取名为 lang 的所有属性。                                   |      |\n"
   ]
  },
  {
   "cell_type": "markdown",
   "id": "brazilian-fault",
   "metadata": {},
   "source": [
    "## 选取未知节点\n",
    "\n",
    "#### XPath 通配符可用来选取未知的 XML 元素。"
   ]
  },
  {
   "cell_type": "markdown",
   "id": "small-planning",
   "metadata": {},
   "source": [
    "| 通配符 | 描述                 |\n",
    "| ------ | -------------------- |\n",
    "| *      | 匹配任何元素节点。   |\n",
    "| @*     | 匹配任何属性节点。   |\n",
    "| node() | 匹配任何类型的节点。 |"
   ]
  },
  {
   "cell_type": "markdown",
   "id": "revised-dodge",
   "metadata": {},
   "source": [
    "在下面的表格中，我们列出了一些路径表达式，以及这些表达式的结果：\n",
    "\n",
    "| 路径表达式          | 结果                                       |\n",
    "| ------------------- | ------------------------------------------ |\n",
    "| /bookstore/*        | 选取 bookstore 元素的所有子元素。          |\n",
    "| //*                 | 选取文档中的所有元素。                     |\n",
    "| html/node()/meta/@* | 选择html下面任意节点下的meta节点的所有属性 |\n",
    "| //title[@*]         | 选取所有带有属性的 title 元素。            |"
   ]
  },
  {
   "cell_type": "markdown",
   "id": "unsigned-reasoning",
   "metadata": {},
   "source": [
    "## 选取若干路径\n",
    "\n",
    "#### 通过在路径表达式中使用“|”运算符，您可以选取若干个路径。"
   ]
  },
  {
   "cell_type": "markdown",
   "id": "sapphire-appreciation",
   "metadata": {},
   "source": [
    "在下面的表格中，我们列出了一些路径表达式，以及这些表达式的结果：\n",
    "\n",
    "| 路径表达式                       | 结果                                                         |\n",
    "| -------------------------------- | ------------------------------------------------------------ |\n",
    "| //book/title \\| //book/price     | 选取 book 元素的所有 title 和 price 元素。                   |\n",
    "| //title \\| //price               | 选取文档中的所有 title 和 price 元素。                       |\n",
    "| /bookstore/book/title \\| //price | 选取属于 bookstore 元素的 book 元素的所有 title 元素，以及文档中所有的 price 元素。 |"
   ]
  },
  {
   "cell_type": "markdown",
   "id": "secure-royalty",
   "metadata": {},
   "source": [
    "#### 这些就是XPath的语法内容，在运用到Python抓取时要先转换为xml。"
   ]
  },
  {
   "cell_type": "markdown",
   "id": "mexican-coast",
   "metadata": {},
   "source": [
    "## lxml库\n",
    "\n",
    "1，lxml库是一个HTML/XML的解析器，主要功能是如何解析和提取HTML/XML数据\n",
    "\n",
    "2，lxml和正则一样，都是通过C语言实现的，它是一款高性能的Python HTML/XML的解析器，我们可以利用之前所学习的XPath语法，来快速定位特定元素以及节点信息\n",
    "\n",
    "3，lxml python 的官方文档：http://lxml.de/index.html\n",
    "\n",
    "4，需要安装C语言库，pip install lxml"
   ]
  },
  {
   "cell_type": "markdown",
   "id": "pleased-finding",
   "metadata": {},
   "source": [
    "## 初步使用\n",
    "\n",
    "#### 我们利用它来解析 HTML 代码，简单示例："
   ]
  },
  {
   "cell_type": "code",
   "execution_count": 4,
   "id": "collect-lightweight",
   "metadata": {
    "scrolled": true
   },
   "outputs": [
    {
     "name": "stdout",
     "output_type": "stream",
     "text": [
      "<Element html at 0x1fca4f33fc0>\n",
      "--------------------------------------------------\n",
      "b'<html><body><div>\\n    <ul>\\n         <li class=\"item-0\"><a href=\"link1.html\">first item</a></li>\\n         <li class=\"item-1\"><a href=\"link2.html\">second item</a></li>\\n         <li class=\"item-inactive\"><a href=\"link3.html\">third item</a></li>\\n         <li class=\"item-1\"><a href=\"link4.html\">fourth item</a></li>\\n         <li class=\"item-0\"><a href=\"link5.html\">fifth item</a>\\n </li></ul></div>\\n</body></html>'\n",
      "<class 'bytes'>\n"
     ]
    }
   ],
   "source": [
    "html = '''\n",
    "<div>\n",
    "    <ul>\n",
    "         <li class=\"item-0\"><a href=\"link1.html\">first item</a></li>\n",
    "         <li class=\"item-1\"><a href=\"link2.html\">second item</a></li>\n",
    "         <li class=\"item-inactive\"><a href=\"link3.html\">third item</a></li>\n",
    "         <li class=\"item-1\"><a href=\"link4.html\">fourth item</a></li>\n",
    "         <li class=\"item-0\"><a href=\"link5.html\">fifth item</a>\n",
    " </div>\n",
    "'''\n",
    "\n",
    "# 1，使用lxml的etree类\n",
    "from lxml import etree\n",
    "\n",
    "#,2，利用etree.HTML()构造一个xpath解析对象（转为xml文档）\n",
    "xml_doc=etree.HTML(html)\n",
    "print(xml_doc)\n",
    "print('-----'*10)\n",
    "\n",
    "# etree.tostring()输出转换后的html代码，\n",
    "html_doc = etree.tostring(xml_doc)\n",
    "print(html_doc) #自动补全了body,html标签\n",
    "print(type(html_doc)) # bytes类型\n",
    "# print('-----'*10)\n",
    "# print(html_doc.decode())  # 利用decode()方法将其转成str类型，\n",
    "# print(type(html_doc.decode()))"
   ]
  },
  {
   "cell_type": "markdown",
   "id": "comparative-ridge",
   "metadata": {},
   "source": [
    "lxml可以自动修正HTML代码 ，例子里不仅补全了li标签，还添加了body,html标签"
   ]
  },
  {
   "cell_type": "markdown",
   "id": "6884db90",
   "metadata": {},
   "source": [
    "## 1.XPath实例测试"
   ]
  },
  {
   "cell_type": "markdown",
   "id": "804306c4",
   "metadata": {},
   "source": [
    "### 1. 获取所有的 `<li>` 标签"
   ]
  },
  {
   "cell_type": "code",
   "execution_count": 11,
   "id": "bc571b92",
   "metadata": {},
   "outputs": [
    {
     "name": "stdout",
     "output_type": "stream",
     "text": [
      "[<Element li at 0x14e1f9b3e00>, <Element li at 0x14e1f9bb700>, <Element li at 0x14e1f9bb680>, <Element li at 0x14e1f9bb6c0>, <Element li at 0x14e1f9bb4c0>]\n",
      "<Element li at 0x14e1f9b3e00>\n",
      "b'<li class=\"item-0\"><a href=\"link1.html\">first item</a></li>\\n         '\n",
      "<Element li at 0x14e1f9bb700>\n",
      "b'<li class=\"item-1\"><a href=\"link2.html\">second item</a></li>\\n         '\n",
      "<Element li at 0x14e1f9bb680>\n",
      "b'<li class=\"item-inactive\"><a href=\"link3.html\">third item</a></li>\\n         '\n",
      "<Element li at 0x14e1f9bb6c0>\n",
      "b'<li class=\"item-1\"><a href=\"link4.html\">fourth item</a></li>\\n         '\n",
      "<Element li at 0x14e1f9bb4c0>\n",
      "b'<li class=\"item-0\"><a href=\"link5.html\">fifth item</a></li> \\n     '\n"
     ]
    }
   ],
   "source": [
    "html = '''\n",
    "<div>\n",
    "    <ul>\n",
    "         <li class=\"item-0\"><a href=\"link1.html\">first item</a></li>\n",
    "         <li class=\"item-1\"><a href=\"link2.html\">second item</a></li>\n",
    "         <li class=\"item-inactive\"><a href=\"link3.html\">third item</a></li>\n",
    "         <li class=\"item-1\"><a href=\"link4.html\">fourth item</a></li>\n",
    "         <li class=\"item-0\"><a href=\"link5.html\">fifth item</a></li> \n",
    "     </ul>\n",
    " </div>\n",
    "'''\n",
    "\n",
    "from lxml import etree\n",
    "\n",
    "xml_doc = etree.HTML(html) # xml\n",
    "\n",
    "result = xml_doc.xpath('//li')\n",
    "print(result)\n",
    "# print(type(result))\n",
    "\n",
    "\n",
    "for i in result:\n",
    "    print(i)\n",
    "    r = etree.tostring(i)\n",
    "    print(r)\n",
    "\n"
   ]
  },
  {
   "cell_type": "markdown",
   "id": "8973d1b7",
   "metadata": {},
   "source": [
    "### 2. 继续获取`<li>` 标签的所有 `class`属性"
   ]
  },
  {
   "cell_type": "code",
   "execution_count": 18,
   "id": "95dd5a4b",
   "metadata": {},
   "outputs": [
    {
     "name": "stdout",
     "output_type": "stream",
     "text": [
      "['item-0', 'item-1', 'item-inactive', 'item-1', 'item-0']\n"
     ]
    }
   ],
   "source": [
    "re = xml_doc.xpath('//li/@class')\n",
    "print(re)"
   ]
  },
  {
   "cell_type": "markdown",
   "id": "d50bf8f3",
   "metadata": {},
   "source": [
    "### 3. 获取 `<li>` 标签下的`<a>`标签里的所有 href"
   ]
  },
  {
   "cell_type": "code",
   "execution_count": 20,
   "id": "c2f92b59",
   "metadata": {},
   "outputs": [
    {
     "name": "stdout",
     "output_type": "stream",
     "text": [
      "['link1.html', 'link2.html', 'link3.html', 'link4.html', 'link5.html']\n"
     ]
    }
   ],
   "source": [
    "r = xml_doc.xpath('//li/a/@href')\n",
    "print(r)"
   ]
  },
  {
   "cell_type": "markdown",
   "id": "03808d9a",
   "metadata": {},
   "source": [
    "### 4. 继续获取`<li>`标签下`href` 为 `link1.html` 的 `<a>` 标签 的文本内容"
   ]
  },
  {
   "cell_type": "code",
   "execution_count": 5,
   "id": "1c754e0b",
   "metadata": {},
   "outputs": [
    {
     "name": "stdout",
     "output_type": "stream",
     "text": [
      "['first item']\n"
     ]
    }
   ],
   "source": [
    "r =xml_doc.xpath('//a[@href=\"link1.html\"]/text()')\n",
    "print(r)\n",
    "# print(etree.tostring(r[0]))\n"
   ]
  },
  {
   "cell_type": "markdown",
   "id": "c4c734be",
   "metadata": {},
   "source": [
    "#### 注意：1，只要涉及到条件，加 []\n",
    "#### 2，只要获取属性值，加 @\n",
    "#### 3，通过text()取内容"
   ]
  }
 ],
 "metadata": {
  "kernelspec": {
   "display_name": "Python 3 (ipykernel)",
   "language": "python",
   "name": "python3"
  },
  "language_info": {
   "codemirror_mode": {
    "name": "ipython",
    "version": 3
   },
   "file_extension": ".py",
   "mimetype": "text/x-python",
   "name": "python",
   "nbconvert_exporter": "python",
   "pygments_lexer": "ipython3",
   "version": "3.8.10"
  }
 },
 "nbformat": 4,
 "nbformat_minor": 5
}
